{
 "cells": [
  {
   "cell_type": "code",
   "execution_count": 80,
   "metadata": {},
   "outputs": [],
   "source": [
    "import pandas as pd\n",
    "import matplotlib.pyplot as plt\n",
    "import numpy as np\n",
    "import seaborn as sns\n",
    "from scipy import stats\n",
    "from scipy.stats import zscore\n",
    "from sklearn.model_selection import TimeSeriesSplit\n",
    "import warnings\n",
    "import datetime as dt\n",
    "warnings.filterwarnings('ignore') \n",
    "from numpy.random import seed\n",
    "from numpy.random import randn\n",
    "from numpy import mean\n",
    "from numpy import std\n",
    "import random"
   ]
  },
  {
   "cell_type": "markdown",
   "metadata": {},
   "source": [
    "In this ML project we will go through the data that was gathered from the UK Ministry of Transport. \n",
    "Namely, it will be the data reagrding the accidents that took place in 2015\n",
    "\n",
    "*Description of the dataset's variables\n",
    "\n",
    "* Location_easting_OSGR: Location easting based on OSGR reference\n",
    "* Location_northing_OSGR: Location northing based on OSGR reference\n",
    "* Longitude: Longitude of the accident's place\n",
    "* Latitude: Latitude of the accident's place\n",
    "* Police_Force: Police force of the mentioned districts\n",
    "* Accident_Severity: Severity level of an accident\n",
    "* Number_of_Vehicles: Number of Vehicles involved in the accident\n",
    "* Number_of_Casualties: Number of casualties taken place during an accident \n",
    "* Date: Date the accident took place\n",
    "* Day_of_Week: Day of the week when accident occured\n",
    "* Time: Specific time when an accident occured\n",
    "* Local_Authority_(District): Local authority in the district \n",
    "* Local_Authority_(Highway): Local authority in the highway\n",
    "* 1st_Road_Class: Class of the first road\n",
    "* 1st_Road_Number: Number of the first road\n",
    "* Road_Type: Type of the road\n",
    "* Speed_limit: Specific speed limit\n",
    "* Junction_Detail: Detail of the junction\n",
    "* Junction_Control: Control of the junction\n",
    "* 2nd_Road_Class: Second road's class\n",
    "* 2nd_Road_Number: Number of the second road\n",
    "* Pedestrian_Crossing-Human_Control: Human control nearby accident's place\n",
    "* Pedestrian_Crossing-Physical_Facilities: Physical facilities crossing nearby accident's place\n",
    "* Light_Conditions: Condition of the light \n",
    "* Weather_Conditions: Weather conditions\n",
    "* Road_Surface_Conditions: Condition of the surface of the road\n",
    "* Special_Conditions_at_Site: \n",
    "* Carriageway_Hazards: Hazards of the carriageway\n",
    "* Urban_or_Rural_Area: Was it in an urban or in a rural area\n",
    "* Did_Police_Officer_Attend_Scene_of_Accident: If Police officer attended an accident scene\n",
    "* LSOA_of_Accident_Location: Layer Super Output Areas of the accident's location"
   ]
  },
  {
   "cell_type": "code",
   "execution_count": 81,
   "metadata": {},
   "outputs": [],
   "source": [
    "# Loading the dataset\n",
    "accidents1 = pd.read_csv('D:/ds/2nd semester/Machine Learning___/project/description/data 2015/Acc.csv') "
   ]
  },
  {
   "cell_type": "code",
   "execution_count": 3,
   "metadata": {},
   "outputs": [
    {
     "name": "stdout",
     "output_type": "stream",
     "text": [
      "(140056, 32)\n"
     ]
    }
   ],
   "source": [
    "print(accidents1.shape)"
   ]
  },
  {
   "cell_type": "code",
   "execution_count": 14,
   "metadata": {},
   "outputs": [
    {
     "data": {
      "text/plain": [
       "Accident_Index                                  object\n",
       "Location_Easting_OSGR                          float64\n",
       "Location_Northing_OSGR                         float64\n",
       "Longitude                                      float64\n",
       "Latitude                                       float64\n",
       "Police_Force                                     int64\n",
       "Accident_Severity                                int64\n",
       "Number_of_Vehicles                               int64\n",
       "Number_of_Casualties                             int64\n",
       "Date                                            object\n",
       "Day_of_Week                                      int64\n",
       "Time                                            object\n",
       "Local_Authority_(District)                       int64\n",
       "Local_Authority_(Highway)                       object\n",
       "1st_Road_Class                                   int64\n",
       "1st_Road_Number                                  int64\n",
       "Road_Type                                        int64\n",
       "Speed_limit                                      int64\n",
       "Junction_Detail                                  int64\n",
       "Junction_Control                                 int64\n",
       "2nd_Road_Class                                   int64\n",
       "2nd_Road_Number                                  int64\n",
       "Pedestrian_Crossing-Human_Control                int64\n",
       "Pedestrian_Crossing-Physical_Facilities          int64\n",
       "Light_Conditions                                 int64\n",
       "Weather_Conditions                               int64\n",
       "Road_Surface_Conditions                          int64\n",
       "Special_Conditions_at_Site                       int64\n",
       "Carriageway_Hazards                              int64\n",
       "Urban_or_Rural_Area                              int64\n",
       "Did_Police_Officer_Attend_Scene_of_Accident      int64\n",
       "LSOA_of_Accident_Location                       object\n",
       "dtype: object"
      ]
     },
     "execution_count": 14,
     "metadata": {},
     "output_type": "execute_result"
    }
   ],
   "source": [
    "# type of the features\n",
    "accidents1.dtypes"
   ]
  },
  {
   "cell_type": "code",
   "execution_count": 15,
   "metadata": {},
   "outputs": [
    {
     "data": {
      "text/plain": [
       "Accident_Index                                    0\n",
       "Location_Easting_OSGR                            27\n",
       "Location_Northing_OSGR                           27\n",
       "Longitude                                        27\n",
       "Latitude                                         27\n",
       "Police_Force                                      0\n",
       "Accident_Severity                                 0\n",
       "Number_of_Vehicles                                0\n",
       "Number_of_Casualties                              0\n",
       "Date                                              0\n",
       "Day_of_Week                                       0\n",
       "Time                                             18\n",
       "Local_Authority_(District)                        0\n",
       "Local_Authority_(Highway)                         0\n",
       "1st_Road_Class                                    0\n",
       "1st_Road_Number                                   0\n",
       "Road_Type                                         0\n",
       "Speed_limit                                       0\n",
       "Junction_Detail                                   0\n",
       "Junction_Control                                  0\n",
       "2nd_Road_Class                                    0\n",
       "2nd_Road_Number                                   0\n",
       "Pedestrian_Crossing-Human_Control                 0\n",
       "Pedestrian_Crossing-Physical_Facilities           0\n",
       "Light_Conditions                                  0\n",
       "Weather_Conditions                                0\n",
       "Road_Surface_Conditions                           0\n",
       "Special_Conditions_at_Site                        0\n",
       "Carriageway_Hazards                               0\n",
       "Urban_or_Rural_Area                               0\n",
       "Did_Police_Officer_Attend_Scene_of_Accident       0\n",
       "LSOA_of_Accident_Location                      8897\n",
       "dtype: int64"
      ]
     },
     "execution_count": 15,
     "metadata": {},
     "output_type": "execute_result"
    }
   ],
   "source": [
    "# Analysing the missing values\n",
    "accidents1.isna().sum()"
   ]
  },
  {
   "cell_type": "markdown",
   "metadata": {},
   "source": [
    "## Detecting Missing values"
   ]
  },
  {
   "cell_type": "code",
   "execution_count": 82,
   "metadata": {},
   "outputs": [
    {
     "data": {
      "text/plain": [
       "Accident_Index                                     0\n",
       "Location_Easting_OSGR                             27\n",
       "Location_Northing_OSGR                            27\n",
       "Longitude                                         27\n",
       "Latitude                                          27\n",
       "Police_Force                                       0\n",
       "Accident_Severity                                  0\n",
       "Number_of_Vehicles                                 0\n",
       "Number_of_Casualties                               0\n",
       "Date                                               0\n",
       "Day_of_Week                                        0\n",
       "Time                                              18\n",
       "Local_Authority_(District)                         0\n",
       "Local_Authority_(Highway)                          0\n",
       "1st_Road_Class                                     0\n",
       "1st_Road_Number                                    0\n",
       "Road_Type                                          0\n",
       "Speed_limit                                        0\n",
       "Junction_Detail                                    1\n",
       "Junction_Control                               56070\n",
       "2nd_Road_Class                                 56603\n",
       "2nd_Road_Number                                  705\n",
       "Pedestrian_Crossing-Human_Control                140\n",
       "Pedestrian_Crossing-Physical_Facilities          127\n",
       "Light_Conditions                                   0\n",
       "Weather_Conditions                                 0\n",
       "Road_Surface_Conditions                          284\n",
       "Special_Conditions_at_Site                       106\n",
       "Carriageway_Hazards                               95\n",
       "Urban_or_Rural_Area                                0\n",
       "Did_Police_Officer_Attend_Scene_of_Accident        8\n",
       "LSOA_of_Accident_Location                       8897\n",
       "dtype: int64"
      ]
     },
     "execution_count": 82,
     "metadata": {},
     "output_type": "execute_result"
    }
   ],
   "source": [
    "# Changing -1s to NaN\n",
    "accidents = accidents1.replace(-1, np.nan)\n",
    "accidents.isna().sum()"
   ]
  },
  {
   "cell_type": "code",
   "execution_count": 17,
   "metadata": {},
   "outputs": [
    {
     "data": {
      "text/plain": [
       "6    105066\n",
       "3     20266\n",
       "1      9589\n",
       "2      2873\n",
       "7      1456\n",
       "9       806\n",
       "Name: Road_Type, dtype: int64"
      ]
     },
     "execution_count": 17,
     "metadata": {},
     "output_type": "execute_result"
    }
   ],
   "source": [
    "# Other features with more NaN (Unknown categories)\n",
    "accidents['Road_Type'].value_counts()"
   ]
  },
  {
   "cell_type": "code",
   "execution_count": 18,
   "metadata": {},
   "outputs": [
    {
     "data": {
      "text/plain": [
       "1    113949\n",
       "2     15559\n",
       "9      2467\n",
       "5      2365\n",
       "4      2353\n",
       "8      1986\n",
       "7       662\n",
       "3       540\n",
       "6       175\n",
       "Name: Weather_Conditions, dtype: int64"
      ]
     },
     "execution_count": 18,
     "metadata": {},
     "output_type": "execute_result"
    }
   ],
   "source": [
    "accidents['Weather_Conditions'].value_counts()"
   ]
  },
  {
   "cell_type": "code",
   "execution_count": 83,
   "metadata": {},
   "outputs": [],
   "source": [
    "# Changin the 'Unknown' values of certain features into NaN\n",
    "accidents.loc[:,['Road_Type','Weather_Conditions']] = accidents.loc[:,['Road_Type','Weather_Conditions']] .replace(9, np.nan)"
   ]
  },
  {
   "cell_type": "code",
   "execution_count": 20,
   "metadata": {},
   "outputs": [
    {
     "data": {
      "text/html": [
       "<div>\n",
       "<style scoped>\n",
       "    .dataframe tbody tr th:only-of-type {\n",
       "        vertical-align: middle;\n",
       "    }\n",
       "\n",
       "    .dataframe tbody tr th {\n",
       "        vertical-align: top;\n",
       "    }\n",
       "\n",
       "    .dataframe thead th {\n",
       "        text-align: right;\n",
       "    }\n",
       "</style>\n",
       "<table border=\"1\" class=\"dataframe\">\n",
       "  <thead>\n",
       "    <tr style=\"text-align: right;\">\n",
       "      <th></th>\n",
       "      <th>Accident_Index</th>\n",
       "      <th>Location_Easting_OSGR</th>\n",
       "      <th>Location_Northing_OSGR</th>\n",
       "      <th>Longitude</th>\n",
       "      <th>Latitude</th>\n",
       "      <th>Police_Force</th>\n",
       "      <th>Accident_Severity</th>\n",
       "      <th>Number_of_Vehicles</th>\n",
       "      <th>Number_of_Casualties</th>\n",
       "      <th>Date</th>\n",
       "      <th>Day_of_Week</th>\n",
       "      <th>Time</th>\n",
       "      <th>Local_Authority_(District)</th>\n",
       "      <th>Local_Authority_(Highway)</th>\n",
       "      <th>1st_Road_Class</th>\n",
       "      <th>1st_Road_Number</th>\n",
       "      <th>Road_Type</th>\n",
       "      <th>Speed_limit</th>\n",
       "      <th>Junction_Detail</th>\n",
       "      <th>Junction_Control</th>\n",
       "      <th>2nd_Road_Class</th>\n",
       "      <th>2nd_Road_Number</th>\n",
       "      <th>Pedestrian_Crossing-Human_Control</th>\n",
       "      <th>Pedestrian_Crossing-Physical_Facilities</th>\n",
       "      <th>Light_Conditions</th>\n",
       "      <th>Weather_Conditions</th>\n",
       "      <th>Road_Surface_Conditions</th>\n",
       "      <th>Special_Conditions_at_Site</th>\n",
       "      <th>Carriageway_Hazards</th>\n",
       "      <th>Urban_or_Rural_Area</th>\n",
       "      <th>Did_Police_Officer_Attend_Scene_of_Accident</th>\n",
       "      <th>LSOA_of_Accident_Location</th>\n",
       "    </tr>\n",
       "  </thead>\n",
       "  <tbody>\n",
       "    <tr>\n",
       "      <th>0</th>\n",
       "      <td>201501BS70001</td>\n",
       "      <td>525130.0</td>\n",
       "      <td>180050.0</td>\n",
       "      <td>-0.198465</td>\n",
       "      <td>51.505538</td>\n",
       "      <td>1</td>\n",
       "      <td>3</td>\n",
       "      <td>1</td>\n",
       "      <td>1</td>\n",
       "      <td>12/01/2015</td>\n",
       "      <td>2</td>\n",
       "      <td>18:45</td>\n",
       "      <td>12</td>\n",
       "      <td>E09000020</td>\n",
       "      <td>5</td>\n",
       "      <td>0</td>\n",
       "      <td>6.0</td>\n",
       "      <td>30</td>\n",
       "      <td>3.0</td>\n",
       "      <td>4.0</td>\n",
       "      <td>6.0</td>\n",
       "      <td>0.0</td>\n",
       "      <td>0.0</td>\n",
       "      <td>0.0</td>\n",
       "      <td>4</td>\n",
       "      <td>1.0</td>\n",
       "      <td>1.0</td>\n",
       "      <td>0.0</td>\n",
       "      <td>0.0</td>\n",
       "      <td>1</td>\n",
       "      <td>1.0</td>\n",
       "      <td>E01002825</td>\n",
       "    </tr>\n",
       "    <tr>\n",
       "      <th>1</th>\n",
       "      <td>201501BS70002</td>\n",
       "      <td>526530.0</td>\n",
       "      <td>178560.0</td>\n",
       "      <td>-0.178838</td>\n",
       "      <td>51.491836</td>\n",
       "      <td>1</td>\n",
       "      <td>3</td>\n",
       "      <td>1</td>\n",
       "      <td>1</td>\n",
       "      <td>12/01/2015</td>\n",
       "      <td>2</td>\n",
       "      <td>07:50</td>\n",
       "      <td>12</td>\n",
       "      <td>E09000020</td>\n",
       "      <td>6</td>\n",
       "      <td>0</td>\n",
       "      <td>6.0</td>\n",
       "      <td>30</td>\n",
       "      <td>3.0</td>\n",
       "      <td>4.0</td>\n",
       "      <td>3.0</td>\n",
       "      <td>3218.0</td>\n",
       "      <td>0.0</td>\n",
       "      <td>0.0</td>\n",
       "      <td>1</td>\n",
       "      <td>1.0</td>\n",
       "      <td>1.0</td>\n",
       "      <td>0.0</td>\n",
       "      <td>0.0</td>\n",
       "      <td>1</td>\n",
       "      <td>1.0</td>\n",
       "      <td>E01002820</td>\n",
       "    </tr>\n",
       "    <tr>\n",
       "      <th>2</th>\n",
       "      <td>201501BS70004</td>\n",
       "      <td>524610.0</td>\n",
       "      <td>181080.0</td>\n",
       "      <td>-0.205590</td>\n",
       "      <td>51.514910</td>\n",
       "      <td>1</td>\n",
       "      <td>3</td>\n",
       "      <td>1</td>\n",
       "      <td>1</td>\n",
       "      <td>12/01/2015</td>\n",
       "      <td>2</td>\n",
       "      <td>18:08</td>\n",
       "      <td>12</td>\n",
       "      <td>E09000020</td>\n",
       "      <td>4</td>\n",
       "      <td>415</td>\n",
       "      <td>6.0</td>\n",
       "      <td>30</td>\n",
       "      <td>2.0</td>\n",
       "      <td>4.0</td>\n",
       "      <td>6.0</td>\n",
       "      <td>0.0</td>\n",
       "      <td>0.0</td>\n",
       "      <td>1.0</td>\n",
       "      <td>4</td>\n",
       "      <td>2.0</td>\n",
       "      <td>2.0</td>\n",
       "      <td>0.0</td>\n",
       "      <td>0.0</td>\n",
       "      <td>1</td>\n",
       "      <td>1.0</td>\n",
       "      <td>E01002833</td>\n",
       "    </tr>\n",
       "    <tr>\n",
       "      <th>3</th>\n",
       "      <td>201501BS70005</td>\n",
       "      <td>524420.0</td>\n",
       "      <td>181080.0</td>\n",
       "      <td>-0.208327</td>\n",
       "      <td>51.514952</td>\n",
       "      <td>1</td>\n",
       "      <td>3</td>\n",
       "      <td>1</td>\n",
       "      <td>1</td>\n",
       "      <td>13/01/2015</td>\n",
       "      <td>3</td>\n",
       "      <td>07:40</td>\n",
       "      <td>12</td>\n",
       "      <td>E09000020</td>\n",
       "      <td>4</td>\n",
       "      <td>450</td>\n",
       "      <td>6.0</td>\n",
       "      <td>30</td>\n",
       "      <td>6.0</td>\n",
       "      <td>4.0</td>\n",
       "      <td>6.0</td>\n",
       "      <td>0.0</td>\n",
       "      <td>0.0</td>\n",
       "      <td>0.0</td>\n",
       "      <td>1</td>\n",
       "      <td>1.0</td>\n",
       "      <td>2.0</td>\n",
       "      <td>0.0</td>\n",
       "      <td>0.0</td>\n",
       "      <td>1</td>\n",
       "      <td>2.0</td>\n",
       "      <td>E01002874</td>\n",
       "    </tr>\n",
       "    <tr>\n",
       "      <th>4</th>\n",
       "      <td>201501BS70008</td>\n",
       "      <td>524630.0</td>\n",
       "      <td>179040.0</td>\n",
       "      <td>-0.206022</td>\n",
       "      <td>51.496572</td>\n",
       "      <td>1</td>\n",
       "      <td>2</td>\n",
       "      <td>2</td>\n",
       "      <td>1</td>\n",
       "      <td>09/01/2015</td>\n",
       "      <td>6</td>\n",
       "      <td>07:30</td>\n",
       "      <td>12</td>\n",
       "      <td>E09000020</td>\n",
       "      <td>3</td>\n",
       "      <td>315</td>\n",
       "      <td>6.0</td>\n",
       "      <td>30</td>\n",
       "      <td>6.0</td>\n",
       "      <td>2.0</td>\n",
       "      <td>3.0</td>\n",
       "      <td>3220.0</td>\n",
       "      <td>0.0</td>\n",
       "      <td>5.0</td>\n",
       "      <td>1</td>\n",
       "      <td>2.0</td>\n",
       "      <td>2.0</td>\n",
       "      <td>0.0</td>\n",
       "      <td>0.0</td>\n",
       "      <td>1</td>\n",
       "      <td>2.0</td>\n",
       "      <td>E01002814</td>\n",
       "    </tr>\n",
       "  </tbody>\n",
       "</table>\n",
       "</div>"
      ],
      "text/plain": [
       "  Accident_Index  Location_Easting_OSGR  Location_Northing_OSGR  Longitude  \\\n",
       "0  201501BS70001               525130.0                180050.0  -0.198465   \n",
       "1  201501BS70002               526530.0                178560.0  -0.178838   \n",
       "2  201501BS70004               524610.0                181080.0  -0.205590   \n",
       "3  201501BS70005               524420.0                181080.0  -0.208327   \n",
       "4  201501BS70008               524630.0                179040.0  -0.206022   \n",
       "\n",
       "    Latitude  Police_Force  Accident_Severity  Number_of_Vehicles  \\\n",
       "0  51.505538             1                  3                   1   \n",
       "1  51.491836             1                  3                   1   \n",
       "2  51.514910             1                  3                   1   \n",
       "3  51.514952             1                  3                   1   \n",
       "4  51.496572             1                  2                   2   \n",
       "\n",
       "   Number_of_Casualties        Date  Day_of_Week   Time  \\\n",
       "0                     1  12/01/2015            2  18:45   \n",
       "1                     1  12/01/2015            2  07:50   \n",
       "2                     1  12/01/2015            2  18:08   \n",
       "3                     1  13/01/2015            3  07:40   \n",
       "4                     1  09/01/2015            6  07:30   \n",
       "\n",
       "   Local_Authority_(District) Local_Authority_(Highway)  1st_Road_Class  \\\n",
       "0                          12                 E09000020               5   \n",
       "1                          12                 E09000020               6   \n",
       "2                          12                 E09000020               4   \n",
       "3                          12                 E09000020               4   \n",
       "4                          12                 E09000020               3   \n",
       "\n",
       "   1st_Road_Number  Road_Type  Speed_limit  Junction_Detail  Junction_Control  \\\n",
       "0                0        6.0           30              3.0               4.0   \n",
       "1                0        6.0           30              3.0               4.0   \n",
       "2              415        6.0           30              2.0               4.0   \n",
       "3              450        6.0           30              6.0               4.0   \n",
       "4              315        6.0           30              6.0               2.0   \n",
       "\n",
       "   2nd_Road_Class  2nd_Road_Number  Pedestrian_Crossing-Human_Control  \\\n",
       "0             6.0              0.0                                0.0   \n",
       "1             3.0           3218.0                                0.0   \n",
       "2             6.0              0.0                                0.0   \n",
       "3             6.0              0.0                                0.0   \n",
       "4             3.0           3220.0                                0.0   \n",
       "\n",
       "   Pedestrian_Crossing-Physical_Facilities  Light_Conditions  \\\n",
       "0                                      0.0                 4   \n",
       "1                                      0.0                 1   \n",
       "2                                      1.0                 4   \n",
       "3                                      0.0                 1   \n",
       "4                                      5.0                 1   \n",
       "\n",
       "   Weather_Conditions  Road_Surface_Conditions  Special_Conditions_at_Site  \\\n",
       "0                 1.0                      1.0                         0.0   \n",
       "1                 1.0                      1.0                         0.0   \n",
       "2                 2.0                      2.0                         0.0   \n",
       "3                 1.0                      2.0                         0.0   \n",
       "4                 2.0                      2.0                         0.0   \n",
       "\n",
       "   Carriageway_Hazards  Urban_or_Rural_Area  \\\n",
       "0                  0.0                    1   \n",
       "1                  0.0                    1   \n",
       "2                  0.0                    1   \n",
       "3                  0.0                    1   \n",
       "4                  0.0                    1   \n",
       "\n",
       "   Did_Police_Officer_Attend_Scene_of_Accident LSOA_of_Accident_Location  \n",
       "0                                          1.0                 E01002825  \n",
       "1                                          1.0                 E01002820  \n",
       "2                                          1.0                 E01002833  \n",
       "3                                          2.0                 E01002874  \n",
       "4                                          2.0                 E01002814  "
      ]
     },
     "execution_count": 20,
     "metadata": {},
     "output_type": "execute_result"
    }
   ],
   "source": [
    "pd.set_option(\"display.max_columns\",50)\n",
    "accidents.head()"
   ]
  },
  {
   "cell_type": "markdown",
   "metadata": {},
   "source": [
    "# Data Exploration"
   ]
  },
  {
   "cell_type": "code",
   "execution_count": 75,
   "metadata": {},
   "outputs": [
    {
     "data": {
      "text/plain": [
       "Text(0.5,0,'1 - Slight ,  2 - Medium  , 3 - Fatal')"
      ]
     },
     "execution_count": 75,
     "metadata": {},
     "output_type": "execute_result"
    },
    {
     "data": {
      "image/png": "[encoded data removed]",
      "text/plain": [
       "<Figure size 864x432 with 1 Axes>"
      ]
     },
     "metadata": {
      "needs_background": "light"
     },
     "output_type": "display_data"
    }
   ],
   "source": [
    "### Plotting the histograms\n",
    "### Plotting the histograms\n",
    "dow = {1:3, 2:2, 3:1}\n",
    "accidents[\"Accident_Severity\"]=accidents.Accident_Severity.map(dow)\n",
    "accidents['Accident_Severity'].value_counts()\n",
    "\n",
    "# data = accidents.loc[:, ['Accident_Severity']] \n",
    "plt.figure(figsize=(12,6))\n",
    "accidents.Accident_Severity.hist(bins=7,alpha=0.5, color= 'blue')\n",
    "# figure = data.plot(kind='hist', subplots=True, layout=(3,3), figsize = (18,18), sharex=False, sharey=False)\n",
    "# plt.show()\n",
    "\n",
    "plt.title('Accidents per severity level' , fontsize= 30)\n",
    "plt.grid(False)\n",
    "plt.ylabel('Accident count' , fontsize = 13)\n",
    "\n",
    "plt.xlabel('1 - Slight ,  2 - Medium  , 3 - Fatal', fontsize = 13)"
   ]
  },
  {
   "cell_type": "code",
   "execution_count": 22,
   "metadata": {
    "scrolled": false
   },
   "outputs": [
    {
     "data": {
      "text/plain": [
       "Text(0.5, 0, '0 - Sunday ,  1 - Monday  ,2 - Tuesday , 3 - Wednesday , 4 - Thursday , 5 - Friday , 6 - Saturday')"
      ]
     },
     "execution_count": 22,
     "metadata": {},
     "output_type": "execute_result"
    },
    {
     "data": {
      "image/png": "[encoded data removed]",
      "text/plain": [
       "<Figure size 864x432 with 1 Axes>"
      ]
     },
     "metadata": {
      "needs_background": "light"
     },
     "output_type": "display_data"
    }
   ],
   "source": [
    "# Number of accidents per week days\n",
    "plt.figure(figsize=(12,6))\n",
    "accidents.Day_of_Week.hist(bins=7,rwidth=0.55,alpha=0.5, color= 'blue')\n",
    "plt.title('Accidents on the day of a week' , fontsize= 30)\n",
    "plt.grid(False)\n",
    "plt.ylabel('Accident count' , fontsize = 13)\n",
    "\n",
    "plt.xlabel('0 - Sunday ,  1 - Monday  ,2 - Tuesday , 3 - Wednesday , 4 - Thursday , 5 - Friday , 6 - Saturday' , fontsize = 13)"
   ]
  },
  {
   "cell_type": "code",
   "execution_count": 84,
   "metadata": {},
   "outputs": [],
   "source": [
    "# Forming a new variable Date_Time, to make analysis more easier\n",
    "accidents['Date_time'] =  accidents['Date'] +' '+ accidents['Time']\n",
    "accidents['Date_time'] = pd.to_datetime(accidents.Date_time)\n",
    "accidents.drop(['Date','Time'],axis =1 , inplace=True)\n",
    "# accidents.dropna(inplace=True)"
   ]
  },
  {
   "cell_type": "code",
   "execution_count": 25,
   "metadata": {},
   "outputs": [
    {
     "data": {
      "text/plain": [
       "Text(0, 0.5, 'Accidents')"
      ]
     },
     "execution_count": 25,
     "metadata": {},
     "output_type": "execute_result"
    },
    {
     "data": {
      "image/png": "[encoded data removed]",
      "text/plain": [
       "<Figure size 720x360 with 1 Axes>"
      ]
     },
     "metadata": {
      "needs_background": "light"
     },
     "output_type": "display_data"
    }
   ],
   "source": [
    "plt.figure(figsize=(10,5))\n",
    "accidents.Date_time.dt.hour.hist(rwidth=0.75,alpha =0.50, color= 'green')\n",
    "plt.title('Accidents per hour',fontsize= 25)\n",
    "plt.grid(False)\n",
    "plt.xlabel('0-23 hours' , fontsize = 18)\n",
    "plt.ylabel('Accidents' , fontsize = 13)"
   ]
  },
  {
   "cell_type": "code",
   "execution_count": 26,
   "metadata": {},
   "outputs": [
    {
     "data": {
      "image/png": "[encoded data removed]",
      "text/plain": [
       "<Figure size 504x504 with 1 Axes>"
      ]
     },
     "metadata": {},
     "output_type": "display_data"
    }
   ],
   "source": [
    "# Accident per speed limits\n",
    "speed_limit_acc = accidents.loc[accidents['Speed_limit'].isin(['20' ,'30' ,'40' ,'50' ,'60' ,'70'])]\n",
    "speed  = speed_limit_acc.Speed_limit.value_counts()\n",
    "\n",
    "# Pie chart\n",
    "#explosion\n",
    "explode = (0.05,0.05,0.05,0.05,0.05,0.05)\n",
    "plt.pie(speed.values, labels=None, autopct='%1.1f%%', pctdistance=0.85, labeldistance=1.9 , shadow=False, startangle=90,textprops={'fontsize': 14})\n",
    "\n",
    "#drawing the circle\n",
    "c_circle = plt.Circle((0,0),0.70,fc='white')\n",
    "fig = plt.gcf()\n",
    "fig.set_size_inches(7,7)\n",
    "fig.gca().add_artist(c_circle)\n",
    "\n",
    "# Equal aspect ratio ensures that pie is drawn as a circle\n",
    "plt.axis('equal')\n",
    "plt.legend(speed.index, bbox_to_anchor=(1,0.7), loc=\"center right\", fontsize=15, bbox_transform=plt.gcf().transFigure)\n",
    "plt.figtext(.5,.9,'Accidents percentage per Speed limit', fontsize=25, ha='center')\n",
    "plt.show()"
   ]
  },
  {
   "cell_type": "code",
   "execution_count": 78,
   "metadata": {},
   "outputs": [],
   "source": [
    "# Changing the name of the categories\n",
    "# weather = {1:'Fine no high winds', 2:'Raining no high winds', 3:'Snowing no high winds', 4:'Fine + high winds',5:'Raining + high winds', 6: 'Snowing + high winds', 7:'Fog or mist', 8:'Other', 9:'Unknown'}\n",
    "# accidents[\"Weather_Conditions\"]=accidents.Weather_Conditions.map(weather)"
   ]
  },
  {
   "cell_type": "code",
   "execution_count": 79,
   "metadata": {},
   "outputs": [
    {
     "data": {
      "text/plain": [
       "Text(0.5,1,'Accidents per weather condition')"
      ]
     },
     "execution_count": 79,
     "metadata": {},
     "output_type": "execute_result"
    },
    {
     "data": {
      "image/png": "[encoded data removed]",
      "text/plain": [
       "<Figure size 864x432 with 1 Axes>"
      ]
     },
     "metadata": {
      "needs_background": "light"
     },
     "output_type": "display_data"
    }
   ],
   "source": [
    "# Plot about the Weather condition\n",
    "\n",
    "grouping = accidents[['Weather_Conditions','Accident_Severity']]\n",
    "weath_sev = grouping.groupby(by = 'Weather_Conditions',as_index=False).sum()\n",
    "plt.figure(figsize=(12, 6))\n",
    "sns.barplot(weath_sev['Accident_Severity'],weath_sev['Weather_Conditions']).set_title('Accidents per weather condition', fontsize=20)"
   ]
  },
  {
   "cell_type": "code",
   "execution_count": 28,
   "metadata": {
    "scrolled": true
   },
   "outputs": [
    {
     "name": "stdout",
     "output_type": "stream",
     "text": [
      "       Location_Easting_OSGR  Location_Northing_OSGR   Longitude    Latitude  Police_Force  \\\n",
      "count             140029.000               1.400e+05  140029.000  140029.000    140056.000   \n",
      "mean              446913.896               2.899e+05      -1.330      52.497        29.902   \n",
      "std                94893.264               1.578e+05       1.394       1.421        25.218   \n",
      "min                70860.000               1.063e+04      -7.423      49.916         1.000   \n",
      "25%               385626.000               1.766e+05      -2.216      51.475         6.000   \n",
      "50%               451460.000               2.409e+05      -1.236      52.052        30.000   \n",
      "75%               526760.000               3.912e+05      -0.173      53.415        45.000   \n",
      "max               655282.000               1.198e+06       1.758      60.661        98.000   \n",
      "\n",
      "       Accident_Severity  Number_of_Vehicles  Number_of_Casualties  Day_of_Week  \\\n",
      "count         140056.000          140056.000            140056.000   140056.000   \n",
      "mean               2.834               1.841                 1.329        4.095   \n",
      "std                0.402               0.710                 0.795        1.911   \n",
      "min                1.000               1.000                 1.000        1.000   \n",
      "25%                3.000               1.000                 1.000        2.000   \n",
      "50%                3.000               2.000                 1.000        4.000   \n",
      "75%                3.000               2.000                 1.000        6.000   \n",
      "max                3.000              37.000                38.000        7.000   \n",
      "\n",
      "       Local_Authority_(District)  1st_Road_Class  1st_Road_Number   Road_Type  Speed_limit  \\\n",
      "count                  140056.000      140056.000       140056.000  139250.000   140056.000   \n",
      "mean                      343.649           4.103          982.269       5.147       38.176   \n",
      "std                       258.438           1.438         1793.476       1.626       13.904   \n",
      "min                         1.000           1.000            0.000       1.000        0.000   \n",
      "25%                       104.000           3.000            0.000       6.000       30.000   \n",
      "50%                       323.000           4.000          118.000       6.000       30.000   \n",
      "75%                       517.000           6.000          701.000       6.000       40.000   \n",
      "max                       941.000           6.000         9914.000       7.000       70.000   \n",
      "\n",
      "       Junction_Detail  Junction_Control  2nd_Road_Class  2nd_Road_Number  \\\n",
      "count       140055.000         83986.000       83453.000       139351.000   \n",
      "mean             2.284             3.641           5.242          364.749   \n",
      "std              2.498             0.766           1.236         1266.345   \n",
      "min              0.000             1.000           1.000            0.000   \n",
      "25%              0.000             4.000           5.000            0.000   \n",
      "50%              2.000             4.000           6.000            0.000   \n",
      "75%              3.000             4.000           6.000            0.000   \n",
      "max              9.000             4.000           6.000         9999.000   \n",
      "\n",
      "       Pedestrian_Crossing-Human_Control  Pedestrian_Crossing-Physical_Facilities  \\\n",
      "count                         139916.000                               139929.000   \n",
      "mean                               0.008                                    0.840   \n",
      "std                                0.120                                    1.932   \n",
      "min                                0.000                                    0.000   \n",
      "25%                                0.000                                    0.000   \n",
      "50%                                0.000                                    0.000   \n",
      "75%                                0.000                                    0.000   \n",
      "max                                2.000                                    8.000   \n",
      "\n",
      "       Light_Conditions  Weather_Conditions  Road_Surface_Conditions  Special_Conditions_at_Site  \\\n",
      "count        140056.000          137589.000               139772.000                  139950.000   \n",
      "mean              1.952               1.377                    1.304                       0.100   \n",
      "std               1.654               1.152                    0.546                       0.698   \n",
      "min               1.000               1.000                    1.000                       0.000   \n",
      "25%               1.000               1.000                    1.000                       0.000   \n",
      "50%               1.000               1.000                    1.000                       0.000   \n",
      "75%               4.000               1.000                    2.000                       0.000   \n",
      "max               7.000               8.000                    5.000                       7.000   \n",
      "\n",
      "       Carriageway_Hazards  Urban_or_Rural_Area  Did_Police_Officer_Attend_Scene_of_Accident  \n",
      "count           139961.000           140056.000                                   140048.000  \n",
      "mean                 0.062                1.343                                        1.199  \n",
      "std                  0.574                0.475                                        0.406  \n",
      "min                  0.000                1.000                                        1.000  \n",
      "25%                  0.000                1.000                                        1.000  \n",
      "50%                  0.000                1.000                                        1.000  \n",
      "75%                  0.000                2.000                                        1.000  \n",
      "max                  7.000                2.000                                        3.000  \n"
     ]
    }
   ],
   "source": [
    "# Descriptive stats\n",
    "pd.set_option(\"display.max_columns\",50)\n",
    "pd.set_option('display.width', 100)\n",
    "pd.set_option('precision', 3)\n",
    "description = accidents.describe()\n",
    "print(description)\n",
    "\n",
    "# It should be pointed out that due to the largeness of the dataset, we have an issue regarding the outliers for some variables\n",
    "# For instance: Number of vehicles, number of casualties, age of vehicle, etc.\n",
    "# Thus we get rid of outliers's of these specific variables\n",
    "# For most of the variables we do not notice these outliers, since they are categorical features, turned into numerical"
   ]
  },
  {
   "cell_type": "markdown",
   "metadata": {},
   "source": [
    "## Continuous Features"
   ]
  },
  {
   "cell_type": "code",
   "execution_count": 29,
   "metadata": {},
   "outputs": [
    {
     "data": {
      "image/png": "[encoded data removed]",
      "text/plain": [
       "<Figure size 504x504 with 2 Axes>"
      ]
     },
     "metadata": {
      "needs_background": "light"
     },
     "output_type": "display_data"
    }
   ],
   "source": [
    "dataset = accidents.loc[:, ['Number_of_Casualties', 'Number_of_Vehicles']]\n",
    "dataset.plot(kind='box', subplots=True, figsize = (7,7), sharex=False, sharey=False)\n",
    "plt.show()"
   ]
  },
  {
   "cell_type": "code",
   "execution_count": 30,
   "metadata": {},
   "outputs": [
    {
     "data": {
      "text/plain": [
       "Text(0, 0.5, 'Accident count')"
      ]
     },
     "execution_count": 30,
     "metadata": {},
     "output_type": "execute_result"
    },
    {
     "data": {
      "image/png": "[encoded data removed]",
      "text/plain": [
       "<Figure size 864x432 with 1 Axes>"
      ]
     },
     "metadata": {
      "needs_background": "light"
     },
     "output_type": "display_data"
    }
   ],
   "source": [
    "plt.figure(figsize=(12,6))\n",
    "accidents.Number_of_Vehicles.hist(bins = 50, alpha=0.5, color= 'red')\n",
    "# figure = data.plot(kind='hist', subplots=True, layout=(3,3), figsize = (18,18), sharex=False, sharey=False)\n",
    "# plt.show()\n",
    "\n",
    "plt.title('Number of vehicles per accident' , fontsize= 30)\n",
    "plt.grid(False)\n",
    "plt.ylabel('Accident count' , fontsize = 13)"
   ]
  },
  {
   "cell_type": "code",
   "execution_count": 85,
   "metadata": {},
   "outputs": [
    {
     "name": "stdout",
     "output_type": "stream",
     "text": [
      "Identified outliers: 1330\n"
     ]
    }
   ],
   "source": [
    "# Using the std deviation methodology to detect the outliers\n",
    "data_mean, data_std = mean(accidents.loc[:, 'Number_of_Casualties']), std(accidents.loc[:, 'Number_of_Casualties'])\n",
    "\n",
    "# identify outliers\n",
    "cut_off = data_std * 4\n",
    "upper = data_mean + cut_off\n",
    "outliers = [x for x in accidents.loc[:, 'Number_of_Casualties'] if x > upper]\n",
    "print('Identified outliers: %d' % len(outliers))"
   ]
  },
  {
   "cell_type": "code",
   "execution_count": 86,
   "metadata": {},
   "outputs": [
    {
     "name": "stdout",
     "output_type": "stream",
     "text": [
      "Identified outliers: 825\n"
     ]
    }
   ],
   "source": [
    "# Using the std deviation methodology to detect the outliers - Number_of_Vehicles\n",
    "data_mean1, data_std1 = mean(accidents.loc[:, 'Number_of_Vehicles']), std(accidents.loc[:, 'Number_of_Vehicles'])\n",
    "\n",
    "# identify outliers\n",
    "cut_off1 = data_std1 * 4\n",
    "upper1 = data_mean1 + cut_off1\n",
    "outliers = [x for x in accidents.loc[:, 'Number_of_Vehicles'] if x > upper1]\n",
    "print('Identified outliers: %d' % len(outliers))"
   ]
  },
  {
   "cell_type": "code",
   "execution_count": 87,
   "metadata": {},
   "outputs": [
    {
     "name": "stdout",
     "output_type": "stream",
     "text": [
      "1330 Number_of_Casualties outliers were removed\n"
     ]
    }
   ],
   "source": [
    "# Analyzing the values with the missing values\n",
    "### Use the information criteria, the explanatory ability of the variables\n",
    "print(len(accidents[(accidents['Number_of_Casualties']>upper)]),\"Number_of_Casualties outliers were removed\")\n",
    "accidents = accidents[accidents['Number_of_Casualties']<upper]"
   ]
  },
  {
   "cell_type": "code",
   "execution_count": 88,
   "metadata": {},
   "outputs": [
    {
     "name": "stdout",
     "output_type": "stream",
     "text": [
      "725 Number_of_Vehicles outliers were removed\n"
     ]
    }
   ],
   "source": [
    "print(len(accidents[(accidents['Number_of_Vehicles']>upper1)]),\"Number_of_Vehicles outliers were removed\")\n",
    "accidents = accidents[accidents['Number_of_Vehicles']<upper1]"
   ]
  },
  {
   "cell_type": "code",
   "execution_count": 35,
   "metadata": {},
   "outputs": [
    {
     "name": "stdout",
     "output_type": "stream",
     "text": [
      "count    138001.000\n",
      "mean          1.814\n",
      "std           0.638\n",
      "min           1.000\n",
      "25%           1.000\n",
      "50%           2.000\n",
      "75%           2.000\n",
      "max           4.000\n",
      "Name: Number_of_Vehicles, dtype: float64\n",
      "count    138001.000\n",
      "mean          1.283\n",
      "std           0.615\n",
      "min           1.000\n",
      "25%           1.000\n",
      "50%           1.000\n",
      "75%           1.000\n",
      "max           4.000\n",
      "Name: Number_of_Casualties, dtype: float64\n"
     ]
    }
   ],
   "source": [
    "# Description of the variables, after removing the outliers\n",
    "description1 = accidents['Number_of_Vehicles'].describe()\n",
    "description2 = accidents['Number_of_Casualties'].describe()\n",
    "print(description1)\n",
    "print(description2)"
   ]
  },
  {
   "cell_type": "code",
   "execution_count": 36,
   "metadata": {},
   "outputs": [
    {
     "data": {
      "text/plain": [
       "Accident_Index                                     0\n",
       "Location_Easting_OSGR                             27\n",
       "Location_Northing_OSGR                            27\n",
       "Longitude                                         27\n",
       "Latitude                                          27\n",
       "Police_Force                                       0\n",
       "Accident_Severity                                  0\n",
       "Number_of_Vehicles                                 0\n",
       "Number_of_Casualties                               0\n",
       "Day_of_Week                                        0\n",
       "Local_Authority_(District)                         0\n",
       "Local_Authority_(Highway)                          0\n",
       "1st_Road_Class                                     0\n",
       "1st_Road_Number                                    0\n",
       "Road_Type                                        800\n",
       "Speed_limit                                        0\n",
       "Junction_Detail                                    1\n",
       "Junction_Control                               54868\n",
       "2nd_Road_Class                                 55393\n",
       "2nd_Road_Number                                  692\n",
       "Pedestrian_Crossing-Human_Control                140\n",
       "Pedestrian_Crossing-Physical_Facilities          126\n",
       "Light_Conditions                                   0\n",
       "Weather_Conditions                              2449\n",
       "Road_Surface_Conditions                          283\n",
       "Special_Conditions_at_Site                       106\n",
       "Carriageway_Hazards                               95\n",
       "Urban_or_Rural_Area                                0\n",
       "Did_Police_Officer_Attend_Scene_of_Accident        7\n",
       "LSOA_of_Accident_Location                       8772\n",
       "Date_time                                         18\n",
       "dtype: int64"
      ]
     },
     "execution_count": 36,
     "metadata": {},
     "output_type": "execute_result"
    }
   ],
   "source": [
    "accidents.isna().sum()"
   ]
  },
  {
   "cell_type": "code",
   "execution_count": 37,
   "metadata": {},
   "outputs": [
    {
     "data": {
      "text/plain": [
       "4.0    67992\n",
       "2.0    14281\n",
       "3.0      688\n",
       "1.0      172\n",
       "Name: Junction_Control, dtype: int64"
      ]
     },
     "execution_count": 37,
     "metadata": {},
     "output_type": "execute_result"
    }
   ],
   "source": [
    "# Imputation of missing values\n",
    "accidents['Junction_Control'].value_counts()"
   ]
  },
  {
   "cell_type": "code",
   "execution_count": 38,
   "metadata": {},
   "outputs": [
    {
     "data": {
      "text/plain": [
       "6.0    56507\n",
       "3.0    13672\n",
       "5.0     5928\n",
       "4.0     5576\n",
       "1.0      830\n",
       "2.0       95\n",
       "Name: 2nd_Road_Class, dtype: int64"
      ]
     },
     "execution_count": 38,
     "metadata": {},
     "output_type": "execute_result"
    }
   ],
   "source": [
    "# Imputation of missing values\n",
    "accidents['2nd_Road_Class'].value_counts()"
   ]
  },
  {
   "cell_type": "code",
   "execution_count": 89,
   "metadata": {},
   "outputs": [
    {
     "data": {
      "text/plain": [
       "Accident_Index                                 0\n",
       "Location_Easting_OSGR                          0\n",
       "Location_Northing_OSGR                         0\n",
       "Longitude                                      0\n",
       "Latitude                                       0\n",
       "Police_Force                                   0\n",
       "Accident_Severity                              0\n",
       "Number_of_Vehicles                             0\n",
       "Number_of_Casualties                           0\n",
       "Day_of_Week                                    0\n",
       "Local_Authority_(District)                     0\n",
       "Local_Authority_(Highway)                      0\n",
       "1st_Road_Class                                 0\n",
       "1st_Road_Number                                0\n",
       "Road_Type                                      0\n",
       "Speed_limit                                    0\n",
       "Junction_Detail                                0\n",
       "Junction_Control                               0\n",
       "2nd_Road_Class                                 0\n",
       "2nd_Road_Number                                0\n",
       "Pedestrian_Crossing-Human_Control              0\n",
       "Pedestrian_Crossing-Physical_Facilities        0\n",
       "Light_Conditions                               0\n",
       "Weather_Conditions                             0\n",
       "Road_Surface_Conditions                        0\n",
       "Special_Conditions_at_Site                     0\n",
       "Carriageway_Hazards                            0\n",
       "Urban_or_Rural_Area                            0\n",
       "Did_Police_Officer_Attend_Scene_of_Accident    0\n",
       "LSOA_of_Accident_Location                      0\n",
       "Date_time                                      0\n",
       "dtype: int64"
      ]
     },
     "execution_count": 89,
     "metadata": {},
     "output_type": "execute_result"
    }
   ],
   "source": [
    "# Replacing missing values with the mode of each particular variable\n",
    "accidents = accidents.apply(lambda x:x.fillna(x.value_counts().index[0]))\n",
    "accidents.isna().sum()"
   ]
  },
  {
   "cell_type": "markdown",
   "metadata": {},
   "source": [
    "# Discrete Features"
   ]
  },
  {
   "cell_type": "markdown",
   "metadata": {},
   "source": [
    "## Ordinal Feature:\n",
    "* Light conditoins - as the number increases the light condition worsens (i.e. ) \n",
    "* Weather conditions \n",
    "* Road surface conditions \n",
    "* Special condition at site\n",
    "\n",
    "## Nominal Features: \n",
    "* Police force \n",
    "* Day of Week \n",
    "* 1st road class \n",
    "* 2nd road class\n",
    "* Road type \n",
    "* Junction detail\n",
    "* Junction Control\n",
    "* Pedestrian crossing hum + phys \n",
    "* Carriageway hazard \n",
    "* Urban Rural \n",
    "* Did police attend the accident\n",
    "\n"
   ]
  },
  {
   "cell_type": "markdown",
   "metadata": {},
   "source": [
    "## Police Force"
   ]
  },
  {
   "cell_type": "code",
   "execution_count": 41,
   "metadata": {},
   "outputs": [
    {
     "data": {
      "text/plain": [
       "1     24743\n",
       "20     5997\n",
       "13     5193\n",
       "43     5111\n",
       "46     4792\n",
       "44     4313\n",
       "47     4223\n",
       "50     3786\n",
       "45     3783\n",
       "42     3695\n",
       "4      3629\n",
       "97     3539\n",
       "10     3190\n",
       "6      3020\n",
       "14     2999\n",
       "52     2958\n",
       "31     2718\n",
       "5      2646\n",
       "21     2546\n",
       "41     2470\n",
       "16     2345\n",
       "7      2272\n",
       "22     2255\n",
       "33     2223\n",
       "62     2159\n",
       "32     2107\n",
       "30     2100\n",
       "95     2053\n",
       "12     2026\n",
       "35     1937\n",
       "55     1750\n",
       "36     1723\n",
       "54     1560\n",
       "23     1472\n",
       "37     1468\n",
       "40     1450\n",
       "60     1306\n",
       "63     1301\n",
       "34     1300\n",
       "3      1276\n",
       "11     1060\n",
       "17      923\n",
       "53      804\n",
       "61      685\n",
       "92      650\n",
       "96      496\n",
       "93      474\n",
       "91      439\n",
       "94      423\n",
       "48      345\n",
       "98      268\n",
       "Name: Police_Force, dtype: int64"
      ]
     },
     "execution_count": 41,
     "metadata": {},
     "output_type": "execute_result"
    }
   ],
   "source": [
    "# Police force represents the region from which the police has responded\n",
    "accidents['Police_Force'].value_counts()"
   ]
  },
  {
   "cell_type": "code",
   "execution_count": 90,
   "metadata": {},
   "outputs": [],
   "source": [
    "# Grouping the categories into 5\n",
    "s = [1,20,13,43]\n",
    "accidents.Police_Force.loc[~accidents.Police_Force.isin(s)] = 0"
   ]
  },
  {
   "cell_type": "code",
   "execution_count": 91,
   "metadata": {},
   "outputs": [
    {
     "name": "stdout",
     "output_type": "stream",
     "text": [
      "['Metropolitan' 'Other' 'West Yorkshire' 'West Midlands' 'Thames Valley']\n"
     ]
    }
   ],
   "source": [
    "#Naming those categories according to the database  \n",
    "policeforce = {0:'Other',1:'Metropolitan', 20:'West Midlands', 13:'West Yorkshire',43:'Thames Valley'}\n",
    "accidents[\"Police_Force\"]=accidents.Police_Force.map(policeforce)\n",
    "print(accidents.Police_Force.unique())"
   ]
  },
  {
   "cell_type": "code",
   "execution_count": 92,
   "metadata": {},
   "outputs": [
    {
     "data": {
      "text/plain": [
       "Other             96957\n",
       "Metropolitan      24743\n",
       "West Midlands      5997\n",
       "West Yorkshire     5193\n",
       "Thames Valley      5111\n",
       "Name: Police_Force, dtype: int64"
      ]
     },
     "execution_count": 92,
     "metadata": {},
     "output_type": "execute_result"
    }
   ],
   "source": [
    "accidents['Police_Force'].value_counts()"
   ]
  },
  {
   "cell_type": "code",
   "execution_count": 56,
   "metadata": {},
   "outputs": [
    {
     "data": {
      "image/png": "[encoded data removed]",
      "text/plain": [
       "<Figure size 864x432 with 1 Axes>"
      ]
     },
     "metadata": {
      "needs_background": "light"
     },
     "output_type": "display_data"
    }
   ],
   "source": [
    "# Below we present the structure of the Police force after modifications\n",
    "\n",
    "plt.figure(figsize=(12, 6))\n",
    "plt.title('Police Force by the region. No of regions: %i' %len(accidents.groupby('Police_Force').agg('Police_Force')))\n",
    "RN = sns.countplot(accidents['Police_Force'])\n",
    "RN.set_xticklabels(RN.get_xticklabels(), rotation=40, ha=\"right\")\n",
    "plt.show()"
   ]
  },
  {
   "cell_type": "markdown",
   "metadata": {},
   "source": [
    "## Day of the Week"
   ]
  },
  {
   "cell_type": "code",
   "execution_count": 17,
   "metadata": {},
   "outputs": [
    {
     "data": {
      "text/plain": [
       "6    22061\n",
       "5    21199\n",
       "3    21164\n",
       "4    21102\n",
       "2    19737\n",
       "7    17778\n",
       "1    14960\n",
       "Name: Day_of_Week, dtype: int64"
      ]
     },
     "execution_count": 17,
     "metadata": {},
     "output_type": "execute_result"
    }
   ],
   "source": [
    "accidents['Day_of_Week'].value_counts()"
   ]
  },
  {
   "cell_type": "code",
   "execution_count": 93,
   "metadata": {},
   "outputs": [
    {
     "name": "stdout",
     "output_type": "stream",
     "text": [
      "['Monday' 'Tuesday' 'Friday' 'Thursday' 'Sunday' 'Wednesday' 'Saturday']\n"
     ]
    }
   ],
   "source": [
    "#Naming those categories according to the database  \n",
    "dow = {1:'Sunday', 2:'Monday', 3:'Tuesday', 4:'Wednesday',5:'Thursday',6:'Friday', 7:'Saturday'}\n",
    "accidents[\"Day_of_Week\"]=accidents.Day_of_Week.map(dow)\n",
    "print(accidents.Day_of_Week.unique())"
   ]
  },
  {
   "cell_type": "code",
   "execution_count": 19,
   "metadata": {},
   "outputs": [
    {
     "data": {
      "text/plain": [
       "Friday       22061\n",
       "Thursday     21199\n",
       "Tuesday      21164\n",
       "Wednesday    21102\n",
       "Monday       19737\n",
       "Saturday     17778\n",
       "Sunday       14960\n",
       "Name: Day_of_Week, dtype: int64"
      ]
     },
     "execution_count": 19,
     "metadata": {},
     "output_type": "execute_result"
    }
   ],
   "source": [
    "accidents['Day_of_Week'].value_counts()"
   ]
  },
  {
   "cell_type": "markdown",
   "metadata": {},
   "source": [
    "## 1st Road Class"
   ]
  },
  {
   "cell_type": "code",
   "execution_count": 60,
   "metadata": {},
   "outputs": [
    {
     "data": {
      "text/plain": [
       "3    63241\n",
       "0    41931\n",
       "4    17025\n",
       "5    10963\n",
       "1     4841\n",
       "Name: 1st_Road_Class, dtype: int64"
      ]
     },
     "execution_count": 60,
     "metadata": {},
     "output_type": "execute_result"
    }
   ],
   "source": [
    "# A,B,and C are the importance of the road classes\n",
    "# Unclassified is representing the small road w/o classes\n",
    "accidents['1st_Road_Class'].value_counts()"
   ]
  },
  {
   "cell_type": "code",
   "execution_count": 94,
   "metadata": {},
   "outputs": [],
   "source": [
    "# Grouping the categories into 5\n",
    "s = [1,3,4,5]\n",
    "accidents['1st_Road_Class'].loc[~accidents['1st_Road_Class'].isin(s)] = 0"
   ]
  },
  {
   "cell_type": "code",
   "execution_count": 95,
   "metadata": {},
   "outputs": [
    {
     "name": "stdout",
     "output_type": "stream",
     "text": [
      "['C' 'Unclassified' 'B' 'A' 'M']\n"
     ]
    }
   ],
   "source": [
    "#Naming those categories according to the database  \n",
    "dow = {3:'A', 0:'Unclassified',1:'M', 4:'B', 5:'C'}\n",
    "accidents[\"1st_Road_Class\"]=accidents['1st_Road_Class'].map(dow)\n",
    "print(accidents['1st_Road_Class'].unique())"
   ]
  },
  {
   "cell_type": "code",
   "execution_count": 22,
   "metadata": {},
   "outputs": [
    {
     "data": {
      "text/plain": [
       "A               63241\n",
       "Unclassified    41931\n",
       "B               17025\n",
       "C               10963\n",
       "M                4841\n",
       "Name: 1st_Road_Class, dtype: int64"
      ]
     },
     "execution_count": 22,
     "metadata": {},
     "output_type": "execute_result"
    }
   ],
   "source": [
    "accidents['1st_Road_Class'].value_counts()"
   ]
  },
  {
   "cell_type": "code",
   "execution_count": 55,
   "metadata": {},
   "outputs": [
    {
     "data": {
      "image/png": "[encoded data removed]",
      "text/plain": [
       "<Figure size 864x432 with 1 Axes>"
      ]
     },
     "metadata": {
      "needs_background": "light"
     },
     "output_type": "display_data"
    }
   ],
   "source": [
    "# Below we present the number of accidents per the type of 1st road class\n",
    "# \n",
    "\n",
    "plt.figure(figsize=(12, 6))\n",
    "plt.title('Number of accidents per the type of 1st road class: %i' %len(accidents.groupby('1st_Road_Class').agg('1st_Road_Class')))\n",
    "RN = sns.countplot(accidents['1st_Road_Class'])\n",
    "RN.set_xticklabels(RN.get_xticklabels(), rotation=40, ha=\"right\")\n",
    "plt.show()"
   ]
  },
  {
   "cell_type": "markdown",
   "metadata": {},
   "source": [
    "## 2nd Road Class"
   ]
  },
  {
   "cell_type": "code",
   "execution_count": 24,
   "metadata": {},
   "outputs": [
    {
     "data": {
      "text/plain": [
       "6.0    111900\n",
       "3.0     13672\n",
       "5.0      5928\n",
       "4.0      5576\n",
       "1.0       830\n",
       "2.0        95\n",
       "Name: 2nd_Road_Class, dtype: int64"
      ]
     },
     "execution_count": 24,
     "metadata": {},
     "output_type": "execute_result"
    }
   ],
   "source": [
    "accidents['2nd_Road_Class'].value_counts()"
   ]
  },
  {
   "cell_type": "code",
   "execution_count": 96,
   "metadata": {},
   "outputs": [
    {
     "name": "stdout",
     "output_type": "stream",
     "text": [
      "['UC' 'A' 'C' 'B' 'M']\n"
     ]
    },
    {
     "data": {
      "text/plain": [
       "UC    111995\n",
       "A      13672\n",
       "C       5928\n",
       "B       5576\n",
       "M        830\n",
       "Name: 2nd_Road_Class, dtype: int64"
      ]
     },
     "execution_count": 96,
     "metadata": {},
     "output_type": "execute_result"
    }
   ],
   "source": [
    "# Grouping \n",
    "s = [1,3,4,5]\n",
    "accidents['2nd_Road_Class'].loc[~accidents['2nd_Road_Class'].isin(s)] = 0\n",
    "\n",
    "#Naming those categories according to the database  \n",
    "dow = {3:'A', 0:'UC', 4:'B', 5:'C', 1:'M'}\n",
    "accidents[\"2nd_Road_Class\"]=accidents['2nd_Road_Class'].map(dow)\n",
    "print(accidents['2nd_Road_Class'].unique())\n",
    "\n",
    "accidents['2nd_Road_Class'].value_counts()"
   ]
  },
  {
   "cell_type": "code",
   "execution_count": 54,
   "metadata": {},
   "outputs": [
    {
     "data": {
      "image/png": "[encoded data removed]",
      "text/plain": [
       "<Figure size 864x432 with 1 Axes>"
      ]
     },
     "metadata": {
      "needs_background": "light"
     },
     "output_type": "display_data"
    }
   ],
   "source": [
    "# Below we present the number of accidents per the type of 2nd road class\n",
    "\n",
    "plt.figure(figsize=(12, 6))\n",
    "plt.title('Number of accidents per the type of 1st road class: %i' %len(accidents.groupby('2nd_Road_Class').agg('2nd_Road_Class')))\n",
    "RN = sns.countplot(accidents['2nd_Road_Class'])\n",
    "RN.set_xticklabels(RN.get_xticklabels(), rotation=40, ha=\"right\")\n",
    "plt.show()"
   ]
  },
  {
   "cell_type": "markdown",
   "metadata": {},
   "source": [
    "## Road Type"
   ]
  },
  {
   "cell_type": "code",
   "execution_count": 27,
   "metadata": {},
   "outputs": [
    {
     "data": {
      "text/plain": [
       "6.0    104585\n",
       "3.0     19606\n",
       "1.0      9527\n",
       "2.0      2851\n",
       "7.0      1432\n",
       "Name: Road_Type, dtype: int64"
      ]
     },
     "execution_count": 27,
     "metadata": {},
     "output_type": "execute_result"
    }
   ],
   "source": [
    "accidents['Road_Type'].value_counts() "
   ]
  },
  {
   "cell_type": "code",
   "execution_count": 97,
   "metadata": {},
   "outputs": [
    {
     "name": "stdout",
     "output_type": "stream",
     "text": [
      "['Single cw' 'Roundabout' 'Dual cw' 'One way street' 'UC']\n"
     ]
    },
    {
     "data": {
      "text/plain": [
       "Single cw         104585\n",
       "Dual cw            19606\n",
       "Roundabout          9527\n",
       "One way street      2851\n",
       "UC                  1432\n",
       "Name: Road_Type, dtype: int64"
      ]
     },
     "execution_count": 97,
     "metadata": {},
     "output_type": "execute_result"
    }
   ],
   "source": [
    "# Grouping\n",
    "s = [6,3,1,2]\n",
    "accidents['Road_Type'].loc[~accidents['Road_Type'].isin(s)] = 0\n",
    "\n",
    "#Naming those categories according to the database  \n",
    "dow = {6:'Single cw', 3:'Dual cw', 1:'Roundabout',2:'One way street', 0:'UC'} \n",
    "accidents[\"Road_Type\"]=accidents['Road_Type'].map(dow)\n",
    "print(accidents['Road_Type'].unique())\n",
    "\n",
    "accidents['Road_Type'].value_counts() "
   ]
  },
  {
   "cell_type": "code",
   "execution_count": 53,
   "metadata": {},
   "outputs": [
    {
     "data": {
      "image/png": "[encoded data removed]",
      "text/plain": [
       "<Figure size 864x432 with 1 Axes>"
      ]
     },
     "metadata": {
      "needs_background": "light"
     },
     "output_type": "display_data"
    }
   ],
   "source": [
    "# Below we present the number of accidents per the road type\n",
    "plt.figure(figsize=(12, 6))\n",
    "plt.title('Number of accidents per the Road_Type: %i' %len(accidents.groupby('Road_Type').agg('Road_Type')))\n",
    "RN = sns.countplot(accidents['Road_Type'])\n",
    "RN.set_xticklabels(RN.get_xticklabels(), rotation=40, ha=\"right\")\n",
    "plt.show()"
   ]
  },
  {
   "cell_type": "markdown",
   "metadata": {},
   "source": [
    "## Junction control"
   ]
  },
  {
   "cell_type": "code",
   "execution_count": 30,
   "metadata": {},
   "outputs": [
    {
     "data": {
      "text/plain": [
       "4.0    122860\n",
       "2.0     14281\n",
       "3.0       688\n",
       "1.0       172\n",
       "Name: Junction_Control, dtype: int64"
      ]
     },
     "execution_count": 30,
     "metadata": {},
     "output_type": "execute_result"
    }
   ],
   "source": [
    "accidents['Junction_Control'].value_counts()  #Junction_Control"
   ]
  },
  {
   "cell_type": "code",
   "execution_count": 98,
   "metadata": {},
   "outputs": [
    {
     "name": "stdout",
     "output_type": "stream",
     "text": [
      "['Give way/uncontrolled' 'Auto trafic signal' 'Stop sign' 'Auth Person']\n"
     ]
    },
    {
     "data": {
      "text/plain": [
       "Give way/uncontrolled    122860\n",
       "Auto trafic signal        14281\n",
       "Stop sign                   688\n",
       "Auth Person                 172\n",
       "Name: Junction_Control, dtype: int64"
      ]
     },
     "execution_count": 98,
     "metadata": {},
     "output_type": "execute_result"
    }
   ],
   "source": [
    "#Naming those categories according to the database  \n",
    "dow = {1:'Auth Person', 2:'Auto trafic signal', 3:'Stop sign', 4:'Give way/uncontrolled'} \n",
    "accidents[\"Junction_Control\"]=accidents['Junction_Control'].map(dow) \n",
    "print(accidents['Junction_Control'].unique()) \n",
    "\n",
    "accidents['Junction_Control'].value_counts() "
   ]
  },
  {
   "cell_type": "code",
   "execution_count": 52,
   "metadata": {},
   "outputs": [
    {
     "data": {
      "image/png": "[encoded data removed]",
      "text/plain": [
       "<Figure size 864x432 with 1 Axes>"
      ]
     },
     "metadata": {
      "needs_background": "light"
     },
     "output_type": "display_data"
    }
   ],
   "source": [
    "# Below we present the number of accidents per the Junction Control\n",
    "\n",
    "plt.figure(figsize=(12, 6))\n",
    "plt.title('Number of accidents per the Junction_Control: %i' %len(accidents.groupby('Junction_Control').agg('Junction_Control')))\n",
    "RN = sns.countplot(accidents['Junction_Control'])\n",
    "RN.set_xticklabels(RN.get_xticklabels(), rotation=40, ha=\"right\")\n",
    "plt.show()"
   ]
  },
  {
   "cell_type": "markdown",
   "metadata": {},
   "source": [
    "# Pedestrian Crossing Human Control"
   ]
  },
  {
   "cell_type": "code",
   "execution_count": 33,
   "metadata": {},
   "outputs": [
    {
     "data": {
      "text/plain": [
       "0.0    137291\n",
       "2.0       428\n",
       "1.0       282\n",
       "Name: Pedestrian_Crossing-Human_Control, dtype: int64"
      ]
     },
     "execution_count": 33,
     "metadata": {},
     "output_type": "execute_result"
    }
   ],
   "source": [
    "accidents['Pedestrian_Crossing-Human_Control'].value_counts()  #Pedestrian_Crossing-Physical_Facilities"
   ]
  },
  {
   "cell_type": "code",
   "execution_count": 99,
   "metadata": {},
   "outputs": [
    {
     "name": "stdout",
     "output_type": "stream",
     "text": [
      "[0 1]\n"
     ]
    },
    {
     "data": {
      "text/plain": [
       "0    137291\n",
       "1       710\n",
       "Name: Pedestrian_Crossing-Human_Control, dtype: int64"
      ]
     },
     "execution_count": 99,
     "metadata": {},
     "output_type": "execute_result"
    }
   ],
   "source": [
    "# Grouping\n",
    "s = [0] \n",
    "accidents['Pedestrian_Crossing-Human_Control'].loc[~accidents['Pedestrian_Crossing-Human_Control'].isin(s)] = 1\n",
    "\n",
    "#Naming those categories according to the database  \n",
    "dow = {0:0, 1:1} \n",
    "accidents[\"Pedestrian_Crossing-Human_Control\"]=accidents['Pedestrian_Crossing-Human_Control'].map(dow) \n",
    "print(accidents['Pedestrian_Crossing-Human_Control'].unique()) \n",
    "\n",
    "accidents['Pedestrian_Crossing-Human_Control'].value_counts() "
   ]
  },
  {
   "cell_type": "code",
   "execution_count": 51,
   "metadata": {},
   "outputs": [
    {
     "data": {
      "image/png": "[encoded data removed]",
      "text/plain": [
       "<Figure size 720x360 with 1 Axes>"
      ]
     },
     "metadata": {
      "needs_background": "light"
     },
     "output_type": "display_data"
    }
   ],
   "source": [
    "# Below we present the number of accidents per pedestrian crossing human control\n",
    "\n",
    "plt.figure(figsize=(10, 5))\n",
    "plt.title('Number of accidents per pedestrian crossing human control: %i' %len(accidents.groupby('Pedestrian_Crossing-Human_Control').agg('Pedestrian_Crossing-Human_Control')))\n",
    "RN = sns.countplot(accidents['Pedestrian_Crossing-Human_Control'])\n",
    "RN.set_xticklabels(RN.get_xticklabels(), rotation=40, ha=\"right\")\n",
    "plt.show()"
   ]
  },
  {
   "cell_type": "markdown",
   "metadata": {},
   "source": [
    "# Pedestrian crossing physical facilities"
   ]
  },
  {
   "cell_type": "code",
   "execution_count": 37,
   "metadata": {},
   "outputs": [
    {
     "data": {
      "text/plain": [
       "0.0    111794\n",
       "5.0     10750\n",
       "4.0      7681\n",
       "1.0      4260\n",
       "8.0      3130\n",
       "7.0       386\n",
       "Name: Pedestrian_Crossing-Physical_Facilities, dtype: int64"
      ]
     },
     "execution_count": 37,
     "metadata": {},
     "output_type": "execute_result"
    }
   ],
   "source": [
    "accidents['Pedestrian_Crossing-Physical_Facilities'].value_counts()"
   ]
  },
  {
   "cell_type": "code",
   "execution_count": 100,
   "metadata": {},
   "outputs": [
    {
     "name": "stdout",
     "output_type": "stream",
     "text": [
      "[0 1]\n"
     ]
    },
    {
     "data": {
      "text/plain": [
       "0    111794\n",
       "1     26207\n",
       "Name: Pedestrian_Crossing-Physical_Facilities, dtype: int64"
      ]
     },
     "execution_count": 100,
     "metadata": {},
     "output_type": "execute_result"
    }
   ],
   "source": [
    "# Grouping\n",
    "s = [0] \n",
    "accidents['Pedestrian_Crossing-Physical_Facilities'].loc[~accidents['Pedestrian_Crossing-Physical_Facilities'].isin(s)] = 1\n",
    "\n",
    "#Naming those categories according to the database  \n",
    "dow = {0:0, 1:1} \n",
    "accidents[\"Pedestrian_Crossing-Physical_Facilities\"]=accidents['Pedestrian_Crossing-Physical_Facilities'].map(dow) \n",
    "print(accidents['Pedestrian_Crossing-Physical_Facilities'].unique()) \n",
    "\n",
    "accidents['Pedestrian_Crossing-Physical_Facilities'].value_counts() "
   ]
  },
  {
   "cell_type": "code",
   "execution_count": 50,
   "metadata": {},
   "outputs": [
    {
     "data": {
      "image/png": "[encoded data removed]",
      "text/plain": [
       "<Figure size 720x360 with 1 Axes>"
      ]
     },
     "metadata": {
      "needs_background": "light"
     },
     "output_type": "display_data"
    }
   ],
   "source": [
    "# Below we present the number of accidents per the pedestrian crossing physical fascilities\n",
    "\n",
    "plt.figure(figsize=(10, 5))\n",
    "plt.title('Accidents per pedestrian_Crossing-Physical_Facilities: %i' %len(accidents.groupby('Pedestrian_Crossing-Physical_Facilities').agg('Pedestrian_Crossing-Physical_Facilities')))\n",
    "RN = sns.countplot(accidents['Pedestrian_Crossing-Physical_Facilities'])\n",
    "RN.set_xticklabels(RN.get_xticklabels(), rotation=40, ha=\"right\")\n",
    "plt.show()"
   ]
  },
  {
   "cell_type": "markdown",
   "metadata": {},
   "source": [
    "# Urban or Rural"
   ]
  },
  {
   "cell_type": "code",
   "execution_count": 40,
   "metadata": {},
   "outputs": [
    {
     "data": {
      "text/plain": [
       "1    91161\n",
       "2    46840\n",
       "Name: Urban_or_Rural_Area, dtype: int64"
      ]
     },
     "execution_count": 40,
     "metadata": {},
     "output_type": "execute_result"
    }
   ],
   "source": [
    "accidents['Urban_or_Rural_Area'].value_counts()"
   ]
  },
  {
   "cell_type": "code",
   "execution_count": 101,
   "metadata": {},
   "outputs": [
    {
     "name": "stdout",
     "output_type": "stream",
     "text": [
      "[1 0]\n"
     ]
    },
    {
     "data": {
      "text/plain": [
       "1    91161\n",
       "0    46840\n",
       "Name: Urban_or_Rural_Area, dtype: int64"
      ]
     },
     "execution_count": 101,
     "metadata": {},
     "output_type": "execute_result"
    }
   ],
   "source": [
    "#Naming those categories according to the database  \n",
    "dow = {1:1, 2:0} \n",
    "accidents[\"Urban_or_Rural_Area\"]=accidents['Urban_or_Rural_Area'].map(dow) \n",
    "print(accidents['Urban_or_Rural_Area'].unique()) \n",
    "\n",
    "accidents['Urban_or_Rural_Area'].value_counts() "
   ]
  },
  {
   "cell_type": "code",
   "execution_count": 49,
   "metadata": {},
   "outputs": [
    {
     "data": {
      "image/png": "[encoded data removed]",
      "text/plain": [
       "<Figure size 720x360 with 1 Axes>"
      ]
     },
     "metadata": {
      "needs_background": "light"
     },
     "output_type": "display_data"
    }
   ],
   "source": [
    "# Below we present the number of accidents per the urban/rural area\n",
    "\n",
    "plt.figure(figsize=(10,5))\n",
    "plt.title('Accidents per Urban_or_Rural_Area: %i' %len(accidents.groupby('Urban_or_Rural_Area').agg('Urban_or_Rural_Area')))\n",
    "RN = sns.countplot(accidents['Urban_or_Rural_Area'])\n",
    "RN.set_xticklabels(RN.get_xticklabels(), rotation=40, ha=\"right\")\n",
    "plt.show()"
   ]
  },
  {
   "cell_type": "markdown",
   "metadata": {},
   "source": [
    "# Police attendance"
   ]
  },
  {
   "cell_type": "code",
   "execution_count": 102,
   "metadata": {},
   "outputs": [],
   "source": [
    "s = [1] \n",
    "accidents['Did_Police_Officer_Attend_Scene_of_Accident'].loc[~accidents['Did_Police_Officer_Attend_Scene_of_Accident'].isin(s)] = 2"
   ]
  },
  {
   "cell_type": "code",
   "execution_count": 103,
   "metadata": {},
   "outputs": [
    {
     "name": "stdout",
     "output_type": "stream",
     "text": [
      "[1 0]\n"
     ]
    },
    {
     "data": {
      "text/plain": [
       "1    110658\n",
       "0     27343\n",
       "Name: Did_Police_Officer_Attend_Scene_of_Accident, dtype: int64"
      ]
     },
     "execution_count": 103,
     "metadata": {},
     "output_type": "execute_result"
    }
   ],
   "source": [
    "#Naming those categories according to the database  \n",
    "dow = {1:1, 2:0} \n",
    "accidents[\"Did_Police_Officer_Attend_Scene_of_Accident\"]=accidents['Did_Police_Officer_Attend_Scene_of_Accident'].map(dow) \n",
    "print(accidents['Did_Police_Officer_Attend_Scene_of_Accident'].unique()) \n",
    "\n",
    "accidents['Did_Police_Officer_Attend_Scene_of_Accident'].value_counts() "
   ]
  },
  {
   "cell_type": "code",
   "execution_count": 104,
   "metadata": {},
   "outputs": [],
   "source": [
    "accidents.rename(columns={'Did_Police_Officer_Attend_Scene_of_Accident': 'Police attendance'}, inplace=True)"
   ]
  },
  {
   "cell_type": "code",
   "execution_count": 76,
   "metadata": {},
   "outputs": [
    {
     "data": {
      "image/png": "[encoded data removed]",
      "text/plain": [
       "<Figure size 864x432 with 1 Axes>"
      ]
     },
     "metadata": {
      "needs_background": "light"
     },
     "output_type": "display_data"
    }
   ],
   "source": [
    "# Below we present the number of accidents per police attendance : yes/no\n",
    "\n",
    "plt.figure(figsize=(12,6))\n",
    "plt.title('number of accidents per police attendance : no/yes: %i' %len(accidents.groupby('Police attendance').agg('Police attendance')))\n",
    "RN = sns.countplot(accidents['Police attendance'])\n",
    "RN.set_xticklabels(RN.get_xticklabels(), rotation=40, ha=\"right\")\n",
    "plt.show()"
   ]
  },
  {
   "cell_type": "code",
   "execution_count": 105,
   "metadata": {},
   "outputs": [],
   "source": [
    "# One hot encoding the relevant columns\n",
    "accidents= pd.get_dummies(accidents, columns=[ 'Road_Type', '2nd_Road_Class', '1st_Road_Class', 'Day_of_Week', 'Police_Force','Junction_Control'])"
   ]
  },
  {
   "cell_type": "code",
   "execution_count": 92,
   "metadata": {},
   "outputs": [],
   "source": [
    "# 'Junction_Control'weather = {'Fine no high winds':1, 'Raining no high winds':2, 'Snowing no high winds':3, 'Fine + high winds':4, 'Raining + high winds':5, 'Snowing + high winds':6, 'Fog or mist':7, 'Other':8}a\n",
    "# accidents[\"Weather_Conditions\"]=accidents.Weather_Conditions.map(weather)"
   ]
  },
  {
   "cell_type": "code",
   "execution_count": 106,
   "metadata": {},
   "outputs": [
    {
     "name": "stdout",
     "output_type": "stream",
     "text": [
      "(138001, 56)\n"
     ]
    }
   ],
   "source": [
    "print(accidents.shape)"
   ]
  },
  {
   "cell_type": "code",
   "execution_count": 94,
   "metadata": {},
   "outputs": [
    {
     "data": {
      "text/html": [
       "<div>\n",
       "<style scoped>\n",
       "    .dataframe tbody tr th:only-of-type {\n",
       "        vertical-align: middle;\n",
       "    }\n",
       "\n",
       "    .dataframe tbody tr th {\n",
       "        vertical-align: top;\n",
       "    }\n",
       "\n",
       "    .dataframe thead th {\n",
       "        text-align: right;\n",
       "    }\n",
       "</style>\n",
       "<table border=\"1\" class=\"dataframe\">\n",
       "  <thead>\n",
       "    <tr style=\"text-align: right;\">\n",
       "      <th></th>\n",
       "      <th>Accident_Index</th>\n",
       "      <th>Location_Easting_OSGR</th>\n",
       "      <th>Location_Northing_OSGR</th>\n",
       "      <th>Longitude</th>\n",
       "      <th>Latitude</th>\n",
       "      <th>Accident_Severity</th>\n",
       "      <th>Number_of_Vehicles</th>\n",
       "      <th>Number_of_Casualties</th>\n",
       "      <th>Local_Authority_(District)</th>\n",
       "      <th>Local_Authority_(Highway)</th>\n",
       "      <th>1st_Road_Number</th>\n",
       "      <th>Speed_limit</th>\n",
       "      <th>Junction_Detail</th>\n",
       "      <th>2nd_Road_Number</th>\n",
       "      <th>Pedestrian_Crossing-Human_Control</th>\n",
       "      <th>Pedestrian_Crossing-Physical_Facilities</th>\n",
       "      <th>Light_Conditions</th>\n",
       "      <th>Weather_Conditions</th>\n",
       "      <th>Road_Surface_Conditions</th>\n",
       "      <th>Special_Conditions_at_Site</th>\n",
       "      <th>Carriageway_Hazards</th>\n",
       "      <th>Urban_or_Rural_Area</th>\n",
       "      <th>Police attendance</th>\n",
       "      <th>LSOA_of_Accident_Location</th>\n",
       "      <th>Date_time</th>\n",
       "      <th>...</th>\n",
       "      <th>2nd_Road_Class_A</th>\n",
       "      <th>2nd_Road_Class_B</th>\n",
       "      <th>2nd_Road_Class_C</th>\n",
       "      <th>2nd_Road_Class_UC</th>\n",
       "      <th>1st_Road_Class_A</th>\n",
       "      <th>1st_Road_Class_B</th>\n",
       "      <th>1st_Road_Class_C</th>\n",
       "      <th>1st_Road_Class_M</th>\n",
       "      <th>1st_Road_Class_Unclassified</th>\n",
       "      <th>Day_of_Week_Friday</th>\n",
       "      <th>Day_of_Week_Monday</th>\n",
       "      <th>Day_of_Week_Saturday</th>\n",
       "      <th>Day_of_Week_Sunday</th>\n",
       "      <th>Day_of_Week_Thursday</th>\n",
       "      <th>Day_of_Week_Tuesday</th>\n",
       "      <th>Day_of_Week_Wednesday</th>\n",
       "      <th>Police_Force_Metropolitan</th>\n",
       "      <th>Police_Force_Other</th>\n",
       "      <th>Police_Force_Thames Valley</th>\n",
       "      <th>Police_Force_West Midlands</th>\n",
       "      <th>Police_Force_West Yorkshire</th>\n",
       "      <th>Junction_Control_Auth Person</th>\n",
       "      <th>Junction_Control_Auto trafic signal</th>\n",
       "      <th>Junction_Control_Give way/uncontrolled</th>\n",
       "      <th>Junction_Control_Stop sign</th>\n",
       "    </tr>\n",
       "  </thead>\n",
       "  <tbody>\n",
       "    <tr>\n",
       "      <th>0</th>\n",
       "      <td>201501BS70001</td>\n",
       "      <td>525130.0</td>\n",
       "      <td>180050.0</td>\n",
       "      <td>-0.198</td>\n",
       "      <td>51.506</td>\n",
       "      <td>1</td>\n",
       "      <td>1</td>\n",
       "      <td>1</td>\n",
       "      <td>12</td>\n",
       "      <td>E09000020</td>\n",
       "      <td>0</td>\n",
       "      <td>30</td>\n",
       "      <td>3.0</td>\n",
       "      <td>0.0</td>\n",
       "      <td>0</td>\n",
       "      <td>0.0</td>\n",
       "      <td>4</td>\n",
       "      <td>1.0</td>\n",
       "      <td>1.0</td>\n",
       "      <td>0.0</td>\n",
       "      <td>0.0</td>\n",
       "      <td>1</td>\n",
       "      <td>1</td>\n",
       "      <td>E01002825</td>\n",
       "      <td>2015-12-01 18:45:00</td>\n",
       "      <td>...</td>\n",
       "      <td>0</td>\n",
       "      <td>0</td>\n",
       "      <td>0</td>\n",
       "      <td>1</td>\n",
       "      <td>0</td>\n",
       "      <td>0</td>\n",
       "      <td>1</td>\n",
       "      <td>0</td>\n",
       "      <td>0</td>\n",
       "      <td>0</td>\n",
       "      <td>1</td>\n",
       "      <td>0</td>\n",
       "      <td>0</td>\n",
       "      <td>0</td>\n",
       "      <td>0</td>\n",
       "      <td>0</td>\n",
       "      <td>1</td>\n",
       "      <td>0</td>\n",
       "      <td>0</td>\n",
       "      <td>0</td>\n",
       "      <td>0</td>\n",
       "      <td>0</td>\n",
       "      <td>0</td>\n",
       "      <td>1</td>\n",
       "      <td>0</td>\n",
       "    </tr>\n",
       "    <tr>\n",
       "      <th>1</th>\n",
       "      <td>201501BS70002</td>\n",
       "      <td>526530.0</td>\n",
       "      <td>178560.0</td>\n",
       "      <td>-0.179</td>\n",
       "      <td>51.492</td>\n",
       "      <td>1</td>\n",
       "      <td>1</td>\n",
       "      <td>1</td>\n",
       "      <td>12</td>\n",
       "      <td>E09000020</td>\n",
       "      <td>0</td>\n",
       "      <td>30</td>\n",
       "      <td>3.0</td>\n",
       "      <td>3218.0</td>\n",
       "      <td>0</td>\n",
       "      <td>0.0</td>\n",
       "      <td>1</td>\n",
       "      <td>1.0</td>\n",
       "      <td>1.0</td>\n",
       "      <td>0.0</td>\n",
       "      <td>0.0</td>\n",
       "      <td>1</td>\n",
       "      <td>1</td>\n",
       "      <td>E01002820</td>\n",
       "      <td>2015-12-01 07:50:00</td>\n",
       "      <td>...</td>\n",
       "      <td>1</td>\n",
       "      <td>0</td>\n",
       "      <td>0</td>\n",
       "      <td>0</td>\n",
       "      <td>0</td>\n",
       "      <td>0</td>\n",
       "      <td>0</td>\n",
       "      <td>0</td>\n",
       "      <td>1</td>\n",
       "      <td>0</td>\n",
       "      <td>1</td>\n",
       "      <td>0</td>\n",
       "      <td>0</td>\n",
       "      <td>0</td>\n",
       "      <td>0</td>\n",
       "      <td>0</td>\n",
       "      <td>1</td>\n",
       "      <td>0</td>\n",
       "      <td>0</td>\n",
       "      <td>0</td>\n",
       "      <td>0</td>\n",
       "      <td>0</td>\n",
       "      <td>0</td>\n",
       "      <td>1</td>\n",
       "      <td>0</td>\n",
       "    </tr>\n",
       "    <tr>\n",
       "      <th>2</th>\n",
       "      <td>201501BS70004</td>\n",
       "      <td>524610.0</td>\n",
       "      <td>181080.0</td>\n",
       "      <td>-0.206</td>\n",
       "      <td>51.515</td>\n",
       "      <td>1</td>\n",
       "      <td>1</td>\n",
       "      <td>1</td>\n",
       "      <td>12</td>\n",
       "      <td>E09000020</td>\n",
       "      <td>415</td>\n",
       "      <td>30</td>\n",
       "      <td>2.0</td>\n",
       "      <td>0.0</td>\n",
       "      <td>0</td>\n",
       "      <td>1.0</td>\n",
       "      <td>4</td>\n",
       "      <td>2.0</td>\n",
       "      <td>2.0</td>\n",
       "      <td>0.0</td>\n",
       "      <td>0.0</td>\n",
       "      <td>1</td>\n",
       "      <td>1</td>\n",
       "      <td>E01002833</td>\n",
       "      <td>2015-12-01 18:08:00</td>\n",
       "      <td>...</td>\n",
       "      <td>0</td>\n",
       "      <td>0</td>\n",
       "      <td>0</td>\n",
       "      <td>1</td>\n",
       "      <td>0</td>\n",
       "      <td>1</td>\n",
       "      <td>0</td>\n",
       "      <td>0</td>\n",
       "      <td>0</td>\n",
       "      <td>0</td>\n",
       "      <td>1</td>\n",
       "      <td>0</td>\n",
       "      <td>0</td>\n",
       "      <td>0</td>\n",
       "      <td>0</td>\n",
       "      <td>0</td>\n",
       "      <td>1</td>\n",
       "      <td>0</td>\n",
       "      <td>0</td>\n",
       "      <td>0</td>\n",
       "      <td>0</td>\n",
       "      <td>0</td>\n",
       "      <td>0</td>\n",
       "      <td>1</td>\n",
       "      <td>0</td>\n",
       "    </tr>\n",
       "    <tr>\n",
       "      <th>3</th>\n",
       "      <td>201501BS70005</td>\n",
       "      <td>524420.0</td>\n",
       "      <td>181080.0</td>\n",
       "      <td>-0.208</td>\n",
       "      <td>51.515</td>\n",
       "      <td>1</td>\n",
       "      <td>1</td>\n",
       "      <td>1</td>\n",
       "      <td>12</td>\n",
       "      <td>E09000020</td>\n",
       "      <td>450</td>\n",
       "      <td>30</td>\n",
       "      <td>6.0</td>\n",
       "      <td>0.0</td>\n",
       "      <td>0</td>\n",
       "      <td>0.0</td>\n",
       "      <td>1</td>\n",
       "      <td>1.0</td>\n",
       "      <td>2.0</td>\n",
       "      <td>0.0</td>\n",
       "      <td>0.0</td>\n",
       "      <td>1</td>\n",
       "      <td>0</td>\n",
       "      <td>E01002874</td>\n",
       "      <td>2015-01-13 07:40:00</td>\n",
       "      <td>...</td>\n",
       "      <td>0</td>\n",
       "      <td>0</td>\n",
       "      <td>0</td>\n",
       "      <td>1</td>\n",
       "      <td>0</td>\n",
       "      <td>1</td>\n",
       "      <td>0</td>\n",
       "      <td>0</td>\n",
       "      <td>0</td>\n",
       "      <td>0</td>\n",
       "      <td>0</td>\n",
       "      <td>0</td>\n",
       "      <td>0</td>\n",
       "      <td>0</td>\n",
       "      <td>1</td>\n",
       "      <td>0</td>\n",
       "      <td>1</td>\n",
       "      <td>0</td>\n",
       "      <td>0</td>\n",
       "      <td>0</td>\n",
       "      <td>0</td>\n",
       "      <td>0</td>\n",
       "      <td>0</td>\n",
       "      <td>1</td>\n",
       "      <td>0</td>\n",
       "    </tr>\n",
       "    <tr>\n",
       "      <th>4</th>\n",
       "      <td>201501BS70008</td>\n",
       "      <td>524630.0</td>\n",
       "      <td>179040.0</td>\n",
       "      <td>-0.206</td>\n",
       "      <td>51.497</td>\n",
       "      <td>2</td>\n",
       "      <td>2</td>\n",
       "      <td>1</td>\n",
       "      <td>12</td>\n",
       "      <td>E09000020</td>\n",
       "      <td>315</td>\n",
       "      <td>30</td>\n",
       "      <td>6.0</td>\n",
       "      <td>3220.0</td>\n",
       "      <td>0</td>\n",
       "      <td>5.0</td>\n",
       "      <td>1</td>\n",
       "      <td>2.0</td>\n",
       "      <td>2.0</td>\n",
       "      <td>0.0</td>\n",
       "      <td>0.0</td>\n",
       "      <td>1</td>\n",
       "      <td>0</td>\n",
       "      <td>E01002814</td>\n",
       "      <td>2015-09-01 07:30:00</td>\n",
       "      <td>...</td>\n",
       "      <td>1</td>\n",
       "      <td>0</td>\n",
       "      <td>0</td>\n",
       "      <td>0</td>\n",
       "      <td>1</td>\n",
       "      <td>0</td>\n",
       "      <td>0</td>\n",
       "      <td>0</td>\n",
       "      <td>0</td>\n",
       "      <td>1</td>\n",
       "      <td>0</td>\n",
       "      <td>0</td>\n",
       "      <td>0</td>\n",
       "      <td>0</td>\n",
       "      <td>0</td>\n",
       "      <td>0</td>\n",
       "      <td>1</td>\n",
       "      <td>0</td>\n",
       "      <td>0</td>\n",
       "      <td>0</td>\n",
       "      <td>0</td>\n",
       "      <td>0</td>\n",
       "      <td>1</td>\n",
       "      <td>0</td>\n",
       "      <td>0</td>\n",
       "    </tr>\n",
       "  </tbody>\n",
       "</table>\n",
       "<p>5 rows × 55 columns</p>\n",
       "</div>"
      ],
      "text/plain": [
       "  Accident_Index  Location_Easting_OSGR  Location_Northing_OSGR  Longitude  Latitude  \\\n",
       "0  201501BS70001               525130.0                180050.0     -0.198    51.506   \n",
       "1  201501BS70002               526530.0                178560.0     -0.179    51.492   \n",
       "2  201501BS70004               524610.0                181080.0     -0.206    51.515   \n",
       "3  201501BS70005               524420.0                181080.0     -0.208    51.515   \n",
       "4  201501BS70008               524630.0                179040.0     -0.206    51.497   \n",
       "\n",
       "   Accident_Severity  Number_of_Vehicles  Number_of_Casualties  Local_Authority_(District)  \\\n",
       "0                  1                   1                     1                          12   \n",
       "1                  1                   1                     1                          12   \n",
       "2                  1                   1                     1                          12   \n",
       "3                  1                   1                     1                          12   \n",
       "4                  2                   2                     1                          12   \n",
       "\n",
       "  Local_Authority_(Highway)  1st_Road_Number  Speed_limit  Junction_Detail  2nd_Road_Number  \\\n",
       "0                 E09000020                0           30              3.0              0.0   \n",
       "1                 E09000020                0           30              3.0           3218.0   \n",
       "2                 E09000020              415           30              2.0              0.0   \n",
       "3                 E09000020              450           30              6.0              0.0   \n",
       "4                 E09000020              315           30              6.0           3220.0   \n",
       "\n",
       "   Pedestrian_Crossing-Human_Control  Pedestrian_Crossing-Physical_Facilities  Light_Conditions  \\\n",
       "0                                  0                                      0.0                 4   \n",
       "1                                  0                                      0.0                 1   \n",
       "2                                  0                                      1.0                 4   \n",
       "3                                  0                                      0.0                 1   \n",
       "4                                  0                                      5.0                 1   \n",
       "\n",
       "   Weather_Conditions  Road_Surface_Conditions  Special_Conditions_at_Site  Carriageway_Hazards  \\\n",
       "0                 1.0                      1.0                         0.0                  0.0   \n",
       "1                 1.0                      1.0                         0.0                  0.0   \n",
       "2                 2.0                      2.0                         0.0                  0.0   \n",
       "3                 1.0                      2.0                         0.0                  0.0   \n",
       "4                 2.0                      2.0                         0.0                  0.0   \n",
       "\n",
       "   Urban_or_Rural_Area  Police attendance LSOA_of_Accident_Location           Date_time  \\\n",
       "0                    1                  1                 E01002825 2015-12-01 18:45:00   \n",
       "1                    1                  1                 E01002820 2015-12-01 07:50:00   \n",
       "2                    1                  1                 E01002833 2015-12-01 18:08:00   \n",
       "3                    1                  0                 E01002874 2015-01-13 07:40:00   \n",
       "4                    1                  0                 E01002814 2015-09-01 07:30:00   \n",
       "\n",
       "              ...              2nd_Road_Class_A  2nd_Road_Class_B  2nd_Road_Class_C  \\\n",
       "0             ...                             0                 0                 0   \n",
       "1             ...                             1                 0                 0   \n",
       "2             ...                             0                 0                 0   \n",
       "3             ...                             0                 0                 0   \n",
       "4             ...                             1                 0                 0   \n",
       "\n",
       "   2nd_Road_Class_UC  1st_Road_Class_A  1st_Road_Class_B  1st_Road_Class_C  1st_Road_Class_M  \\\n",
       "0                  1                 0                 0                 1                 0   \n",
       "1                  0                 0                 0                 0                 0   \n",
       "2                  1                 0                 1                 0                 0   \n",
       "3                  1                 0                 1                 0                 0   \n",
       "4                  0                 1                 0                 0                 0   \n",
       "\n",
       "   1st_Road_Class_Unclassified  Day_of_Week_Friday  Day_of_Week_Monday  Day_of_Week_Saturday  \\\n",
       "0                            0                   0                   1                     0   \n",
       "1                            1                   0                   1                     0   \n",
       "2                            0                   0                   1                     0   \n",
       "3                            0                   0                   0                     0   \n",
       "4                            0                   1                   0                     0   \n",
       "\n",
       "   Day_of_Week_Sunday  Day_of_Week_Thursday  Day_of_Week_Tuesday  Day_of_Week_Wednesday  \\\n",
       "0                   0                     0                    0                      0   \n",
       "1                   0                     0                    0                      0   \n",
       "2                   0                     0                    0                      0   \n",
       "3                   0                     0                    1                      0   \n",
       "4                   0                     0                    0                      0   \n",
       "\n",
       "   Police_Force_Metropolitan  Police_Force_Other  Police_Force_Thames Valley  \\\n",
       "0                          1                   0                           0   \n",
       "1                          1                   0                           0   \n",
       "2                          1                   0                           0   \n",
       "3                          1                   0                           0   \n",
       "4                          1                   0                           0   \n",
       "\n",
       "   Police_Force_West Midlands  Police_Force_West Yorkshire  Junction_Control_Auth Person  \\\n",
       "0                           0                            0                             0   \n",
       "1                           0                            0                             0   \n",
       "2                           0                            0                             0   \n",
       "3                           0                            0                             0   \n",
       "4                           0                            0                             0   \n",
       "\n",
       "   Junction_Control_Auto trafic signal  Junction_Control_Give way/uncontrolled  \\\n",
       "0                                    0                                       1   \n",
       "1                                    0                                       1   \n",
       "2                                    0                                       1   \n",
       "3                                    0                                       1   \n",
       "4                                    1                                       0   \n",
       "\n",
       "   Junction_Control_Stop sign  \n",
       "0                           0  \n",
       "1                           0  \n",
       "2                           0  \n",
       "3                           0  \n",
       "4                           0  \n",
       "\n",
       "[5 rows x 55 columns]"
      ]
     },
     "execution_count": 94,
     "metadata": {},
     "output_type": "execute_result"
    }
   ],
   "source": [
    "pd.set_option(\"display.max_columns\",50)\n",
    "accidents.head()"
   ]
  },
  {
   "cell_type": "code",
   "execution_count": null,
   "metadata": {},
   "outputs": [],
   "source": []
  },
  {
   "cell_type": "code",
   "execution_count": 35,
   "metadata": {},
   "outputs": [
    {
     "data": {
      "text/plain": [
       "Text(0.5,1,'Correlations graph')"
      ]
     },
     "execution_count": 35,
     "metadata": {},
     "output_type": "execute_result"
    },
    {
     "data": {
      "image/png": "[encoded data removed]",
      "text/plain": [
       "<Figure size 1080x1080 with 2 Axes>"
      ]
     },
     "metadata": {
      "needs_background": "light"
     },
     "output_type": "display_data"
    }
   ],
   "source": [
    "# Generate a mask for the upper triangle\n",
    "cor = accidents.corr()\n",
    "mask = np.zeros_like(cor, dtype=np.bool)\n",
    "mask[np.triu_indices_from(mask)] = True\n",
    "\n",
    "# Set up the matplotlib figure\n",
    "f = plt.subplots(figsize=(15,15))\n",
    "\n",
    "# Generate a custom diverging colormap\n",
    "cmap = sns.diverging_palette(220, 10, as_cmap=True)\n",
    "\n",
    "# Draw the heatmap with the mask and correct aspect ratio\n",
    "sns.heatmap(cor, mask=mask, cmap=cmap, vmax=1, vmin=-1, center=0,\n",
    "            square=True, linewidths=.5, cbar_kws={\"shrink\": .5}).set_title('Correlations graph')\n",
    "\n",
    "# Looking at the figure, we can conclude that there are some variable which are correlated with each other (pos or neg). Namely:\n",
    "# Age of Driver - Age band of driver\n",
    "# Junction Location - (Junction detail, Junction control, 2nd road class(which will be eliminated soon))\n",
    "# Vehicle reference - Number of the vehicle\n",
    "# Local Authority - Police force\n",
    "# Longitude - Location Easting OSGR (will be eliminated soon)\n",
    "# Latitude - Location Northing OSGR\n",
    "# Basically the variables (Location Easting OSGR, Location Northing OSGR, Police force, Longitude and latitude) are\n",
    "# intercorrelated with each other"
   ]
  },
  {
   "cell_type": "code",
   "execution_count": 107,
   "metadata": {},
   "outputs": [
    {
     "name": "stdout",
     "output_type": "stream",
     "text": [
      "(138001, 42)\n"
     ]
    }
   ],
   "source": [
    "# Dropping the columns which are composed of unique values for each observation\n",
    "# 1st road number and 2nd road number dropped out, not useful at all\n",
    "### First 4 feature showing the location\n",
    "### Deleting mostly correlated variables\n",
    "accidents.drop(['Accident_Index', 'Location_Easting_OSGR', 'Location_Northing_OSGR', 'Junction_Detail', 'Local_Authority_(Highway)', 'Longitude', 'Latitude', 'LSOA_of_Accident_Location', 'Local_Authority_(District)', '1st_Road_Number', '2nd_Road_Number', 'Date_time', 'Police_Force_Metropolitan','Junction_Control_Auto trafic signal'], inplace=True, axis=1)\n",
    "\n",
    "print(accidents.shape)"
   ]
  },
  {
   "cell_type": "code",
   "execution_count": 37,
   "metadata": {},
   "outputs": [
    {
     "data": {
      "text/html": [
       "<div>\n",
       "<style scoped>\n",
       "    .dataframe tbody tr th:only-of-type {\n",
       "        vertical-align: middle;\n",
       "    }\n",
       "\n",
       "    .dataframe tbody tr th {\n",
       "        vertical-align: top;\n",
       "    }\n",
       "\n",
       "    .dataframe thead th {\n",
       "        text-align: right;\n",
       "    }\n",
       "</style>\n",
       "<table border=\"1\" class=\"dataframe\">\n",
       "  <thead>\n",
       "    <tr style=\"text-align: right;\">\n",
       "      <th></th>\n",
       "      <th>Accident_Severity</th>\n",
       "      <th>Number_of_Vehicles</th>\n",
       "      <th>Number_of_Casualties</th>\n",
       "      <th>Speed_limit</th>\n",
       "      <th>Pedestrian_Crossing-Human_Control</th>\n",
       "      <th>Pedestrian_Crossing-Physical_Facilities</th>\n",
       "      <th>Light_Conditions</th>\n",
       "      <th>Weather_Conditions</th>\n",
       "      <th>Road_Surface_Conditions</th>\n",
       "      <th>Special_Conditions_at_Site</th>\n",
       "      <th>Carriageway_Hazards</th>\n",
       "      <th>Urban_or_Rural_Area</th>\n",
       "      <th>Police attendance</th>\n",
       "      <th>Road_Type_Dual cw</th>\n",
       "      <th>Road_Type_One way street</th>\n",
       "      <th>Road_Type_Roundabout</th>\n",
       "      <th>Road_Type_Single cw</th>\n",
       "      <th>Road_Type_UC</th>\n",
       "      <th>2nd_Road_Class_A</th>\n",
       "      <th>2nd_Road_Class_B</th>\n",
       "      <th>2nd_Road_Class_C</th>\n",
       "      <th>2nd_Road_Class_UC</th>\n",
       "      <th>1st_Road_Class_A</th>\n",
       "      <th>1st_Road_Class_B</th>\n",
       "      <th>1st_Road_Class_C</th>\n",
       "      <th>1st_Road_Class_M</th>\n",
       "      <th>1st_Road_Class_Unclassified</th>\n",
       "      <th>Day_of_Week_Friday</th>\n",
       "      <th>Day_of_Week_Monday</th>\n",
       "      <th>Day_of_Week_Saturday</th>\n",
       "      <th>Day_of_Week_Sunday</th>\n",
       "      <th>Day_of_Week_Thursday</th>\n",
       "      <th>Day_of_Week_Tuesday</th>\n",
       "      <th>Day_of_Week_Wednesday</th>\n",
       "      <th>Police_Force_Other</th>\n",
       "      <th>Police_Force_Thames Valley</th>\n",
       "      <th>Police_Force_West Midlands</th>\n",
       "      <th>Police_Force_West Yorkshire</th>\n",
       "      <th>Junction_Control_Auth Person</th>\n",
       "      <th>Junction_Control_Auto trafic signal</th>\n",
       "      <th>Junction_Control_Give way/uncontrolled</th>\n",
       "      <th>Junction_Control_Stop sign</th>\n",
       "    </tr>\n",
       "  </thead>\n",
       "  <tbody>\n",
       "    <tr>\n",
       "      <th>0</th>\n",
       "      <td>1</td>\n",
       "      <td>1</td>\n",
       "      <td>1</td>\n",
       "      <td>30</td>\n",
       "      <td>0</td>\n",
       "      <td>0</td>\n",
       "      <td>4</td>\n",
       "      <td>1.0</td>\n",
       "      <td>1.0</td>\n",
       "      <td>0.0</td>\n",
       "      <td>0.0</td>\n",
       "      <td>1</td>\n",
       "      <td>1.0</td>\n",
       "      <td>0</td>\n",
       "      <td>0</td>\n",
       "      <td>0</td>\n",
       "      <td>1</td>\n",
       "      <td>0</td>\n",
       "      <td>0</td>\n",
       "      <td>0</td>\n",
       "      <td>0</td>\n",
       "      <td>1</td>\n",
       "      <td>0</td>\n",
       "      <td>0</td>\n",
       "      <td>1</td>\n",
       "      <td>0</td>\n",
       "      <td>0</td>\n",
       "      <td>0</td>\n",
       "      <td>1</td>\n",
       "      <td>0</td>\n",
       "      <td>0</td>\n",
       "      <td>0</td>\n",
       "      <td>0</td>\n",
       "      <td>0</td>\n",
       "      <td>0</td>\n",
       "      <td>0</td>\n",
       "      <td>0</td>\n",
       "      <td>0</td>\n",
       "      <td>0</td>\n",
       "      <td>0</td>\n",
       "      <td>1</td>\n",
       "      <td>0</td>\n",
       "    </tr>\n",
       "    <tr>\n",
       "      <th>1</th>\n",
       "      <td>1</td>\n",
       "      <td>1</td>\n",
       "      <td>1</td>\n",
       "      <td>30</td>\n",
       "      <td>0</td>\n",
       "      <td>0</td>\n",
       "      <td>1</td>\n",
       "      <td>1.0</td>\n",
       "      <td>1.0</td>\n",
       "      <td>0.0</td>\n",
       "      <td>0.0</td>\n",
       "      <td>1</td>\n",
       "      <td>1.0</td>\n",
       "      <td>0</td>\n",
       "      <td>0</td>\n",
       "      <td>0</td>\n",
       "      <td>1</td>\n",
       "      <td>0</td>\n",
       "      <td>1</td>\n",
       "      <td>0</td>\n",
       "      <td>0</td>\n",
       "      <td>0</td>\n",
       "      <td>0</td>\n",
       "      <td>0</td>\n",
       "      <td>0</td>\n",
       "      <td>0</td>\n",
       "      <td>1</td>\n",
       "      <td>0</td>\n",
       "      <td>1</td>\n",
       "      <td>0</td>\n",
       "      <td>0</td>\n",
       "      <td>0</td>\n",
       "      <td>0</td>\n",
       "      <td>0</td>\n",
       "      <td>0</td>\n",
       "      <td>0</td>\n",
       "      <td>0</td>\n",
       "      <td>0</td>\n",
       "      <td>0</td>\n",
       "      <td>0</td>\n",
       "      <td>1</td>\n",
       "      <td>0</td>\n",
       "    </tr>\n",
       "    <tr>\n",
       "      <th>2</th>\n",
       "      <td>1</td>\n",
       "      <td>1</td>\n",
       "      <td>1</td>\n",
       "      <td>30</td>\n",
       "      <td>0</td>\n",
       "      <td>1</td>\n",
       "      <td>4</td>\n",
       "      <td>2.0</td>\n",
       "      <td>2.0</td>\n",
       "      <td>0.0</td>\n",
       "      <td>0.0</td>\n",
       "      <td>1</td>\n",
       "      <td>1.0</td>\n",
       "      <td>0</td>\n",
       "      <td>0</td>\n",
       "      <td>0</td>\n",
       "      <td>1</td>\n",
       "      <td>0</td>\n",
       "      <td>0</td>\n",
       "      <td>0</td>\n",
       "      <td>0</td>\n",
       "      <td>1</td>\n",
       "      <td>0</td>\n",
       "      <td>1</td>\n",
       "      <td>0</td>\n",
       "      <td>0</td>\n",
       "      <td>0</td>\n",
       "      <td>0</td>\n",
       "      <td>1</td>\n",
       "      <td>0</td>\n",
       "      <td>0</td>\n",
       "      <td>0</td>\n",
       "      <td>0</td>\n",
       "      <td>0</td>\n",
       "      <td>0</td>\n",
       "      <td>0</td>\n",
       "      <td>0</td>\n",
       "      <td>0</td>\n",
       "      <td>0</td>\n",
       "      <td>0</td>\n",
       "      <td>1</td>\n",
       "      <td>0</td>\n",
       "    </tr>\n",
       "    <tr>\n",
       "      <th>3</th>\n",
       "      <td>1</td>\n",
       "      <td>1</td>\n",
       "      <td>1</td>\n",
       "      <td>30</td>\n",
       "      <td>0</td>\n",
       "      <td>0</td>\n",
       "      <td>1</td>\n",
       "      <td>1.0</td>\n",
       "      <td>2.0</td>\n",
       "      <td>0.0</td>\n",
       "      <td>0.0</td>\n",
       "      <td>1</td>\n",
       "      <td>0.0</td>\n",
       "      <td>0</td>\n",
       "      <td>0</td>\n",
       "      <td>0</td>\n",
       "      <td>1</td>\n",
       "      <td>0</td>\n",
       "      <td>0</td>\n",
       "      <td>0</td>\n",
       "      <td>0</td>\n",
       "      <td>1</td>\n",
       "      <td>0</td>\n",
       "      <td>1</td>\n",
       "      <td>0</td>\n",
       "      <td>0</td>\n",
       "      <td>0</td>\n",
       "      <td>0</td>\n",
       "      <td>0</td>\n",
       "      <td>0</td>\n",
       "      <td>0</td>\n",
       "      <td>0</td>\n",
       "      <td>1</td>\n",
       "      <td>0</td>\n",
       "      <td>0</td>\n",
       "      <td>0</td>\n",
       "      <td>0</td>\n",
       "      <td>0</td>\n",
       "      <td>0</td>\n",
       "      <td>0</td>\n",
       "      <td>1</td>\n",
       "      <td>0</td>\n",
       "    </tr>\n",
       "    <tr>\n",
       "      <th>4</th>\n",
       "      <td>2</td>\n",
       "      <td>2</td>\n",
       "      <td>1</td>\n",
       "      <td>30</td>\n",
       "      <td>0</td>\n",
       "      <td>1</td>\n",
       "      <td>1</td>\n",
       "      <td>2.0</td>\n",
       "      <td>2.0</td>\n",
       "      <td>0.0</td>\n",
       "      <td>0.0</td>\n",
       "      <td>1</td>\n",
       "      <td>0.0</td>\n",
       "      <td>0</td>\n",
       "      <td>0</td>\n",
       "      <td>0</td>\n",
       "      <td>1</td>\n",
       "      <td>0</td>\n",
       "      <td>1</td>\n",
       "      <td>0</td>\n",
       "      <td>0</td>\n",
       "      <td>0</td>\n",
       "      <td>1</td>\n",
       "      <td>0</td>\n",
       "      <td>0</td>\n",
       "      <td>0</td>\n",
       "      <td>0</td>\n",
       "      <td>1</td>\n",
       "      <td>0</td>\n",
       "      <td>0</td>\n",
       "      <td>0</td>\n",
       "      <td>0</td>\n",
       "      <td>0</td>\n",
       "      <td>0</td>\n",
       "      <td>0</td>\n",
       "      <td>0</td>\n",
       "      <td>0</td>\n",
       "      <td>0</td>\n",
       "      <td>0</td>\n",
       "      <td>1</td>\n",
       "      <td>0</td>\n",
       "      <td>0</td>\n",
       "    </tr>\n",
       "    <tr>\n",
       "      <th>5</th>\n",
       "      <td>1</td>\n",
       "      <td>2</td>\n",
       "      <td>1</td>\n",
       "      <td>30</td>\n",
       "      <td>0</td>\n",
       "      <td>1</td>\n",
       "      <td>1</td>\n",
       "      <td>1.0</td>\n",
       "      <td>2.0</td>\n",
       "      <td>0.0</td>\n",
       "      <td>0.0</td>\n",
       "      <td>1</td>\n",
       "      <td>1.0</td>\n",
       "      <td>0</td>\n",
       "      <td>0</td>\n",
       "      <td>0</td>\n",
       "      <td>1</td>\n",
       "      <td>0</td>\n",
       "      <td>0</td>\n",
       "      <td>0</td>\n",
       "      <td>1</td>\n",
       "      <td>0</td>\n",
       "      <td>1</td>\n",
       "      <td>0</td>\n",
       "      <td>0</td>\n",
       "      <td>0</td>\n",
       "      <td>0</td>\n",
       "      <td>0</td>\n",
       "      <td>0</td>\n",
       "      <td>0</td>\n",
       "      <td>0</td>\n",
       "      <td>1</td>\n",
       "      <td>0</td>\n",
       "      <td>0</td>\n",
       "      <td>0</td>\n",
       "      <td>0</td>\n",
       "      <td>0</td>\n",
       "      <td>0</td>\n",
       "      <td>0</td>\n",
       "      <td>0</td>\n",
       "      <td>1</td>\n",
       "      <td>0</td>\n",
       "    </tr>\n",
       "    <tr>\n",
       "      <th>6</th>\n",
       "      <td>1</td>\n",
       "      <td>2</td>\n",
       "      <td>1</td>\n",
       "      <td>30</td>\n",
       "      <td>0</td>\n",
       "      <td>1</td>\n",
       "      <td>1</td>\n",
       "      <td>8.0</td>\n",
       "      <td>2.0</td>\n",
       "      <td>0.0</td>\n",
       "      <td>0.0</td>\n",
       "      <td>1</td>\n",
       "      <td>1.0</td>\n",
       "      <td>0</td>\n",
       "      <td>0</td>\n",
       "      <td>0</td>\n",
       "      <td>1</td>\n",
       "      <td>0</td>\n",
       "      <td>1</td>\n",
       "      <td>0</td>\n",
       "      <td>0</td>\n",
       "      <td>0</td>\n",
       "      <td>1</td>\n",
       "      <td>0</td>\n",
       "      <td>0</td>\n",
       "      <td>0</td>\n",
       "      <td>0</td>\n",
       "      <td>0</td>\n",
       "      <td>0</td>\n",
       "      <td>0</td>\n",
       "      <td>0</td>\n",
       "      <td>1</td>\n",
       "      <td>0</td>\n",
       "      <td>0</td>\n",
       "      <td>0</td>\n",
       "      <td>0</td>\n",
       "      <td>0</td>\n",
       "      <td>0</td>\n",
       "      <td>0</td>\n",
       "      <td>1</td>\n",
       "      <td>0</td>\n",
       "      <td>0</td>\n",
       "    </tr>\n",
       "    <tr>\n",
       "      <th>7</th>\n",
       "      <td>1</td>\n",
       "      <td>2</td>\n",
       "      <td>1</td>\n",
       "      <td>30</td>\n",
       "      <td>0</td>\n",
       "      <td>0</td>\n",
       "      <td>1</td>\n",
       "      <td>1.0</td>\n",
       "      <td>1.0</td>\n",
       "      <td>0.0</td>\n",
       "      <td>0.0</td>\n",
       "      <td>1</td>\n",
       "      <td>1.0</td>\n",
       "      <td>0</td>\n",
       "      <td>0</td>\n",
       "      <td>0</td>\n",
       "      <td>1</td>\n",
       "      <td>0</td>\n",
       "      <td>0</td>\n",
       "      <td>0</td>\n",
       "      <td>0</td>\n",
       "      <td>1</td>\n",
       "      <td>0</td>\n",
       "      <td>0</td>\n",
       "      <td>0</td>\n",
       "      <td>0</td>\n",
       "      <td>1</td>\n",
       "      <td>0</td>\n",
       "      <td>0</td>\n",
       "      <td>0</td>\n",
       "      <td>1</td>\n",
       "      <td>0</td>\n",
       "      <td>0</td>\n",
       "      <td>0</td>\n",
       "      <td>0</td>\n",
       "      <td>0</td>\n",
       "      <td>0</td>\n",
       "      <td>0</td>\n",
       "      <td>0</td>\n",
       "      <td>0</td>\n",
       "      <td>1</td>\n",
       "      <td>0</td>\n",
       "    </tr>\n",
       "    <tr>\n",
       "      <th>8</th>\n",
       "      <td>1</td>\n",
       "      <td>2</td>\n",
       "      <td>1</td>\n",
       "      <td>30</td>\n",
       "      <td>0</td>\n",
       "      <td>1</td>\n",
       "      <td>1</td>\n",
       "      <td>1.0</td>\n",
       "      <td>1.0</td>\n",
       "      <td>0.0</td>\n",
       "      <td>0.0</td>\n",
       "      <td>1</td>\n",
       "      <td>1.0</td>\n",
       "      <td>0</td>\n",
       "      <td>0</td>\n",
       "      <td>0</td>\n",
       "      <td>1</td>\n",
       "      <td>0</td>\n",
       "      <td>0</td>\n",
       "      <td>0</td>\n",
       "      <td>0</td>\n",
       "      <td>1</td>\n",
       "      <td>0</td>\n",
       "      <td>0</td>\n",
       "      <td>1</td>\n",
       "      <td>0</td>\n",
       "      <td>0</td>\n",
       "      <td>1</td>\n",
       "      <td>0</td>\n",
       "      <td>0</td>\n",
       "      <td>0</td>\n",
       "      <td>0</td>\n",
       "      <td>0</td>\n",
       "      <td>0</td>\n",
       "      <td>0</td>\n",
       "      <td>0</td>\n",
       "      <td>0</td>\n",
       "      <td>0</td>\n",
       "      <td>0</td>\n",
       "      <td>0</td>\n",
       "      <td>1</td>\n",
       "      <td>0</td>\n",
       "    </tr>\n",
       "    <tr>\n",
       "      <th>9</th>\n",
       "      <td>1</td>\n",
       "      <td>2</td>\n",
       "      <td>2</td>\n",
       "      <td>30</td>\n",
       "      <td>0</td>\n",
       "      <td>0</td>\n",
       "      <td>1</td>\n",
       "      <td>8.0</td>\n",
       "      <td>1.0</td>\n",
       "      <td>0.0</td>\n",
       "      <td>0.0</td>\n",
       "      <td>1</td>\n",
       "      <td>1.0</td>\n",
       "      <td>0</td>\n",
       "      <td>0</td>\n",
       "      <td>0</td>\n",
       "      <td>1</td>\n",
       "      <td>0</td>\n",
       "      <td>0</td>\n",
       "      <td>0</td>\n",
       "      <td>0</td>\n",
       "      <td>1</td>\n",
       "      <td>0</td>\n",
       "      <td>0</td>\n",
       "      <td>0</td>\n",
       "      <td>0</td>\n",
       "      <td>1</td>\n",
       "      <td>0</td>\n",
       "      <td>0</td>\n",
       "      <td>0</td>\n",
       "      <td>0</td>\n",
       "      <td>0</td>\n",
       "      <td>1</td>\n",
       "      <td>0</td>\n",
       "      <td>0</td>\n",
       "      <td>0</td>\n",
       "      <td>0</td>\n",
       "      <td>0</td>\n",
       "      <td>0</td>\n",
       "      <td>0</td>\n",
       "      <td>1</td>\n",
       "      <td>0</td>\n",
       "    </tr>\n",
       "  </tbody>\n",
       "</table>\n",
       "</div>"
      ],
      "text/plain": [
       "   Accident_Severity  Number_of_Vehicles  Number_of_Casualties  Speed_limit  \\\n",
       "0                  1                   1                     1           30   \n",
       "1                  1                   1                     1           30   \n",
       "2                  1                   1                     1           30   \n",
       "3                  1                   1                     1           30   \n",
       "4                  2                   2                     1           30   \n",
       "5                  1                   2                     1           30   \n",
       "6                  1                   2                     1           30   \n",
       "7                  1                   2                     1           30   \n",
       "8                  1                   2                     1           30   \n",
       "9                  1                   2                     2           30   \n",
       "\n",
       "   Pedestrian_Crossing-Human_Control  Pedestrian_Crossing-Physical_Facilities  \\\n",
       "0                                  0                                        0   \n",
       "1                                  0                                        0   \n",
       "2                                  0                                        1   \n",
       "3                                  0                                        0   \n",
       "4                                  0                                        1   \n",
       "5                                  0                                        1   \n",
       "6                                  0                                        1   \n",
       "7                                  0                                        0   \n",
       "8                                  0                                        1   \n",
       "9                                  0                                        0   \n",
       "\n",
       "   Light_Conditions  Weather_Conditions  Road_Surface_Conditions  \\\n",
       "0                 4                 1.0                      1.0   \n",
       "1                 1                 1.0                      1.0   \n",
       "2                 4                 2.0                      2.0   \n",
       "3                 1                 1.0                      2.0   \n",
       "4                 1                 2.0                      2.0   \n",
       "5                 1                 1.0                      2.0   \n",
       "6                 1                 8.0                      2.0   \n",
       "7                 1                 1.0                      1.0   \n",
       "8                 1                 1.0                      1.0   \n",
       "9                 1                 8.0                      1.0   \n",
       "\n",
       "   Special_Conditions_at_Site  Carriageway_Hazards  Urban_or_Rural_Area  \\\n",
       "0                         0.0                  0.0                    1   \n",
       "1                         0.0                  0.0                    1   \n",
       "2                         0.0                  0.0                    1   \n",
       "3                         0.0                  0.0                    1   \n",
       "4                         0.0                  0.0                    1   \n",
       "5                         0.0                  0.0                    1   \n",
       "6                         0.0                  0.0                    1   \n",
       "7                         0.0                  0.0                    1   \n",
       "8                         0.0                  0.0                    1   \n",
       "9                         0.0                  0.0                    1   \n",
       "\n",
       "   Police attendance  Road_Type_Dual cw  Road_Type_One way street  \\\n",
       "0                1.0                  0                         0   \n",
       "1                1.0                  0                         0   \n",
       "2                1.0                  0                         0   \n",
       "3                0.0                  0                         0   \n",
       "4                0.0                  0                         0   \n",
       "5                1.0                  0                         0   \n",
       "6                1.0                  0                         0   \n",
       "7                1.0                  0                         0   \n",
       "8                1.0                  0                         0   \n",
       "9                1.0                  0                         0   \n",
       "\n",
       "   Road_Type_Roundabout  Road_Type_Single cw  Road_Type_UC  2nd_Road_Class_A  \\\n",
       "0                     0                    1             0                 0   \n",
       "1                     0                    1             0                 1   \n",
       "2                     0                    1             0                 0   \n",
       "3                     0                    1             0                 0   \n",
       "4                     0                    1             0                 1   \n",
       "5                     0                    1             0                 0   \n",
       "6                     0                    1             0                 1   \n",
       "7                     0                    1             0                 0   \n",
       "8                     0                    1             0                 0   \n",
       "9                     0                    1             0                 0   \n",
       "\n",
       "   2nd_Road_Class_B  2nd_Road_Class_C  2nd_Road_Class_UC  1st_Road_Class_A  \\\n",
       "0                 0                 0                  1                 0   \n",
       "1                 0                 0                  0                 0   \n",
       "2                 0                 0                  1                 0   \n",
       "3                 0                 0                  1                 0   \n",
       "4                 0                 0                  0                 1   \n",
       "5                 0                 1                  0                 1   \n",
       "6                 0                 0                  0                 1   \n",
       "7                 0                 0                  1                 0   \n",
       "8                 0                 0                  1                 0   \n",
       "9                 0                 0                  1                 0   \n",
       "\n",
       "   1st_Road_Class_B  1st_Road_Class_C  1st_Road_Class_M  \\\n",
       "0                 0                 1                 0   \n",
       "1                 0                 0                 0   \n",
       "2                 1                 0                 0   \n",
       "3                 1                 0                 0   \n",
       "4                 0                 0                 0   \n",
       "5                 0                 0                 0   \n",
       "6                 0                 0                 0   \n",
       "7                 0                 0                 0   \n",
       "8                 0                 1                 0   \n",
       "9                 0                 0                 0   \n",
       "\n",
       "   1st_Road_Class_Unclassified  Day_of_Week_Friday  Day_of_Week_Monday  \\\n",
       "0                            0                   0                   1   \n",
       "1                            1                   0                   1   \n",
       "2                            0                   0                   1   \n",
       "3                            0                   0                   0   \n",
       "4                            0                   1                   0   \n",
       "5                            0                   0                   0   \n",
       "6                            0                   0                   0   \n",
       "7                            1                   0                   0   \n",
       "8                            0                   1                   0   \n",
       "9                            1                   0                   0   \n",
       "\n",
       "   Day_of_Week_Saturday  Day_of_Week_Sunday  Day_of_Week_Thursday  \\\n",
       "0                     0                   0                     0   \n",
       "1                     0                   0                     0   \n",
       "2                     0                   0                     0   \n",
       "3                     0                   0                     0   \n",
       "4                     0                   0                     0   \n",
       "5                     0                   0                     1   \n",
       "6                     0                   0                     1   \n",
       "7                     0                   1                     0   \n",
       "8                     0                   0                     0   \n",
       "9                     0                   0                     0   \n",
       "\n",
       "   Day_of_Week_Tuesday  Day_of_Week_Wednesday  Police_Force_Other  \\\n",
       "0                    0                      0                   0   \n",
       "1                    0                      0                   0   \n",
       "2                    0                      0                   0   \n",
       "3                    1                      0                   0   \n",
       "4                    0                      0                   0   \n",
       "5                    0                      0                   0   \n",
       "6                    0                      0                   0   \n",
       "7                    0                      0                   0   \n",
       "8                    0                      0                   0   \n",
       "9                    1                      0                   0   \n",
       "\n",
       "   Police_Force_Thames Valley  Police_Force_West Midlands  \\\n",
       "0                           0                           0   \n",
       "1                           0                           0   \n",
       "2                           0                           0   \n",
       "3                           0                           0   \n",
       "4                           0                           0   \n",
       "5                           0                           0   \n",
       "6                           0                           0   \n",
       "7                           0                           0   \n",
       "8                           0                           0   \n",
       "9                           0                           0   \n",
       "\n",
       "   Police_Force_West Yorkshire  Junction_Control_Auth Person  \\\n",
       "0                            0                             0   \n",
       "1                            0                             0   \n",
       "2                            0                             0   \n",
       "3                            0                             0   \n",
       "4                            0                             0   \n",
       "5                            0                             0   \n",
       "6                            0                             0   \n",
       "7                            0                             0   \n",
       "8                            0                             0   \n",
       "9                            0                             0   \n",
       "\n",
       "   Junction_Control_Auto trafic signal  \\\n",
       "0                                    0   \n",
       "1                                    0   \n",
       "2                                    0   \n",
       "3                                    0   \n",
       "4                                    1   \n",
       "5                                    0   \n",
       "6                                    1   \n",
       "7                                    0   \n",
       "8                                    0   \n",
       "9                                    0   \n",
       "\n",
       "   Junction_Control_Give way/uncontrolled  Junction_Control_Stop sign  \n",
       "0                                       1                           0  \n",
       "1                                       1                           0  \n",
       "2                                       1                           0  \n",
       "3                                       1                           0  \n",
       "4                                       0                           0  \n",
       "5                                       1                           0  \n",
       "6                                       0                           0  \n",
       "7                                       1                           0  \n",
       "8                                       1                           0  \n",
       "9                                       1                           0  "
      ]
     },
     "execution_count": 37,
     "metadata": {},
     "output_type": "execute_result"
    }
   ],
   "source": [
    "accidents.head(10)"
   ]
  },
  {
   "cell_type": "markdown",
   "metadata": {},
   "source": [
    "# Feature selection based on the feature importance"
   ]
  },
  {
   "cell_type": "code",
   "execution_count": 61,
   "metadata": {},
   "outputs": [],
   "source": [
    "from sklearn.tree import DecisionTreeClassifier \n",
    "from sklearn.model_selection import train_test_split \n",
    "from sklearn import metrics \n",
    "\n",
    "col_names = ['Number_of_Vehicles', 'Number_of_Casualties', 'Light_Conditions', 'Weather_Conditions', 'Speed_limit', 'Urban_or_Rural_Area', '1st_Road_Class_A', '1st_Road_Class_B', '1st_Road_Class_C', '2nd_Road_Class_A', '2nd_Road_Class_B', '2nd_Road_Class_C','Day_of_Week_Friday',\n",
    "'Day_of_Week_Monday', 'Day_of_Week_Saturday', 'Day_of_Week_Sunday', 'Day_of_Week_Thursday', 'Day_of_Week_Tuesday', 'Day_of_Week_Wednesday','Junction_Control_Auto trafic signal', 'Junction_Control_Give way/uncontrolled','Junction_Control_Stop sign', 'Road_Type_Dual cw', 'Road_Type_One way street','Road_Type_Roundabout', 'Police attendance'] \n",
    "\n",
    "X = accidents[col_names] # Variables\n",
    "y = accidents.Accident_Severity # Target feature"
   ]
  },
  {
   "cell_type": "code",
   "execution_count": 62,
   "metadata": {},
   "outputs": [
    {
     "name": "stdout",
     "output_type": "stream",
     "text": [
      "[0.13435184 0.09272859 0.08680359 0.15828463 0.15461563 0.03107215\n",
      " 0.0335161  0.02619654 0.01721613 0.01367449 0.02048085 0.02126151\n",
      " 0.01577479 0.01600597 0.01312156 0.01124663 0.01542735 0.014885\n",
      " 0.01496731 0.00637217 0.00755407 0.00333249 0.02640448 0.01159119\n",
      " 0.01467247 0.03844246]\n"
     ]
    }
   ],
   "source": [
    "# Looking for the most optimal features\n",
    "from sklearn.ensemble import ExtraTreesClassifier\n",
    "model = ExtraTreesClassifier()\n",
    "model.fit(X, y)\n",
    "print(model.feature_importances_)"
   ]
  },
  {
   "cell_type": "code",
   "execution_count": 63,
   "metadata": {},
   "outputs": [],
   "source": [
    "from sklearn.tree import DecisionTreeClassifier \n",
    "from sklearn.model_selection import train_test_split \n",
    "from sklearn import metrics \n",
    "\n",
    "col_names = ['Number_of_Vehicles', 'Number_of_Casualties', 'Light_Conditions', 'Weather_Conditions', 'Speed_limit', 'Urban_or_Rural_Area', '1st_Road_Class_A', '1st_Road_Class_B', '1st_Road_Class_C', '2nd_Road_Class_A', '2nd_Road_Class_B', '2nd_Road_Class_C','Day_of_Week_Friday',\n",
    "'Day_of_Week_Monday', 'Day_of_Week_Saturday', 'Day_of_Week_Sunday', 'Day_of_Week_Thursday', 'Day_of_Week_Tuesday', 'Day_of_Week_Wednesday','Junction_Control_Auto trafic signal', 'Junction_Control_Give way/uncontrolled', 'Road_Type_Dual cw', 'Road_Type_One way street','Road_Type_Roundabout', 'Police attendance'] \n",
    "\n",
    "X = accidents[col_names] # Variables\n",
    "y = accidents.Accident_Severity # Target feature"
   ]
  },
  {
   "cell_type": "code",
   "execution_count": 64,
   "metadata": {},
   "outputs": [
    {
     "name": "stdout",
     "output_type": "stream",
     "text": [
      "[0.13330412 0.08915712 0.07897029 0.16549209 0.16134082 0.02681802\n",
      " 0.03111099 0.02544106 0.02018319 0.01558611 0.01814148 0.02024241\n",
      " 0.01620273 0.0153604  0.0127414  0.01288267 0.01518831 0.01470229\n",
      " 0.01697966 0.0073893  0.00975518 0.02850176 0.01098942 0.01690803\n",
      " 0.03661117]\n"
     ]
    }
   ],
   "source": [
    "# Looking for the most optimal features\n",
    "from sklearn.ensemble import ExtraTreesClassifier\n",
    "model = ExtraTreesClassifier()\n",
    "model.fit(X, y)\n",
    "print(model.feature_importances_)"
   ]
  },
  {
   "cell_type": "code",
   "execution_count": 65,
   "metadata": {},
   "outputs": [],
   "source": [
    "from sklearn.tree import DecisionTreeClassifier \n",
    "from sklearn.model_selection import train_test_split \n",
    "from sklearn import metrics \n",
    "\n",
    "col_names = ['Number_of_Vehicles', 'Number_of_Casualties', 'Light_Conditions', 'Weather_Conditions', 'Speed_limit', 'Urban_or_Rural_Area', '1st_Road_Class_A', '1st_Road_Class_B', '1st_Road_Class_C', '2nd_Road_Class_A', '2nd_Road_Class_B', '2nd_Road_Class_C','Day_of_Week_Friday',\n",
    "'Day_of_Week_Monday', 'Day_of_Week_Saturday', 'Day_of_Week_Sunday', 'Day_of_Week_Thursday', 'Day_of_Week_Tuesday', 'Day_of_Week_Wednesday', 'Junction_Control_Give way/uncontrolled', 'Road_Type_Dual cw', 'Road_Type_One way street','Road_Type_Roundabout', 'Police attendance'] \n",
    "\n",
    "X = accidents[col_names] # Variables\n",
    "y = accidents.Accident_Severity # Target feature"
   ]
  },
  {
   "cell_type": "code",
   "execution_count": 66,
   "metadata": {},
   "outputs": [
    {
     "name": "stdout",
     "output_type": "stream",
     "text": [
      "[0.14214777 0.09996071 0.09309858 0.16308436 0.13950775 0.02706725\n",
      " 0.02883942 0.02190722 0.01858517 0.0216747  0.01898592 0.0190751\n",
      " 0.01448558 0.01364672 0.01281793 0.01229818 0.01366256 0.01481592\n",
      " 0.01463435 0.02313902 0.01974997 0.01101149 0.01751029 0.03829403]\n"
     ]
    }
   ],
   "source": [
    "# Looking for the most optimal features\n",
    "from sklearn.ensemble import ExtraTreesClassifier\n",
    "model = ExtraTreesClassifier()\n",
    "model.fit(X, y)\n",
    "print(model.feature_importances_)"
   ]
  },
  {
   "cell_type": "code",
   "execution_count": 116,
   "metadata": {},
   "outputs": [],
   "source": [
    "from sklearn.tree import DecisionTreeClassifier \n",
    "from sklearn.model_selection import train_test_split \n",
    "from sklearn import metrics \n",
    "\n",
    "col_names = ['Number_of_Vehicles', 'Number_of_Casualties', 'Light_Conditions', 'Weather_Conditions', 'Speed_limit', 'Urban_or_Rural_Area', '1st_Road_Class_A', '1st_Road_Class_B', '1st_Road_Class_C', '2nd_Road_Class_A', '2nd_Road_Class_B', '2nd_Road_Class_C','Day_of_Week_Friday',\n",
    "'Day_of_Week_Monday', 'Day_of_Week_Saturday', 'Day_of_Week_Sunday', 'Day_of_Week_Thursday', 'Day_of_Week_Tuesday', 'Day_of_Week_Wednesday', 'Junction_Control_Give way/uncontrolled', 'Road_Type_Dual cw', 'Road_Type_Roundabout', 'Police attendance'] \n",
    "\n",
    "X = accidents[col_names] # Variables\n",
    "y = accidents.Accident_Severity # Target feature"
   ]
  },
  {
   "cell_type": "code",
   "execution_count": 68,
   "metadata": {},
   "outputs": [
    {
     "name": "stdout",
     "output_type": "stream",
     "text": [
      "[0.13176623 0.09217328 0.09328143 0.16681561 0.15800026 0.03332575\n",
      " 0.0309537  0.02291606 0.01723706 0.02059819 0.02120623 0.02092153\n",
      " 0.01434492 0.01417526 0.0106786  0.01215455 0.01535792 0.01394487\n",
      " 0.01369385 0.01909436 0.02471256 0.01617631 0.03647147]\n"
     ]
    }
   ],
   "source": [
    "# Looking for the most optimal features\n",
    "from sklearn.ensemble import ExtraTreesClassifier\n",
    "model = ExtraTreesClassifier()\n",
    "model.fit(X, y)\n",
    "print(model.feature_importances_)"
   ]
  },
  {
   "cell_type": "markdown",
   "metadata": {},
   "source": [
    "# Decision Tree"
   ]
  },
  {
   "cell_type": "code",
   "execution_count": 125,
   "metadata": {},
   "outputs": [],
   "source": [
    "# Splitting the data\n",
    "X_train, X_test, y_train, y_test = train_test_split(X, y, test_size=0.2, random_state=1) \n",
    "\n",
    "# Creating DT object\n",
    "clf = DecisionTreeClassifier()\n",
    "\n",
    "# Training\n",
    "clf = clf.fit(X_train,y_train)\n",
    "\n",
    "#Predicting\n",
    "y_pred = clf.predict(X_test)\n"
   ]
  },
  {
   "cell_type": "code",
   "execution_count": 126,
   "metadata": {},
   "outputs": [
    {
     "name": "stdout",
     "output_type": "stream",
     "text": [
      "Accuracy: 0.8091011195246549\n"
     ]
    }
   ],
   "source": [
    "print(\"Accuracy:\",metrics.accuracy_score(y_test, y_pred)) # "
   ]
  },
  {
   "cell_type": "code",
   "execution_count": 127,
   "metadata": {},
   "outputs": [
    {
     "name": "stdout",
     "output_type": "stream",
     "text": [
      "Accuracy: 0.8080866635266838\n"
     ]
    }
   ],
   "source": [
    "# Optimizing the DT performance (Using such hyperparameters as entropy which is feature selection measure 'default is gini')\n",
    "# DT object\n",
    "dt_clf = DecisionTreeClassifier(criterion=\"entropy\")\n",
    "\n",
    "# Training \n",
    "dt_clf = clf.fit(X_train,y_train)\n",
    "\n",
    "#Predicting\n",
    "y_pred = dt_clf.predict(X_test)\n",
    "\n",
    "# Accuracy of the model\n",
    "print(\"Accuracy:\",metrics.accuracy_score(y_test, y_pred))"
   ]
  },
  {
   "cell_type": "code",
   "execution_count": 128,
   "metadata": {},
   "outputs": [
    {
     "name": "stdout",
     "output_type": "stream",
     "text": [
      "Root Mean Squared Error: 0.479309975870621\n"
     ]
    }
   ],
   "source": [
    "print('Root Mean Squared Error:', np.sqrt(metrics.mean_squared_error(y_test, y_pred)))  "
   ]
  },
  {
   "cell_type": "markdown",
   "metadata": {},
   "source": [
    "# KNN Classifier"
   ]
  },
  {
   "cell_type": "code",
   "execution_count": 132,
   "metadata": {},
   "outputs": [],
   "source": [
    "from sklearn.model_selection import train_test_split\n",
    "\n",
    "# Split dataset into training set and test set\n",
    "X_train, X_test, y_train, y_test = train_test_split(X, y, test_size=0.2)"
   ]
  },
  {
   "cell_type": "code",
   "execution_count": 133,
   "metadata": {},
   "outputs": [],
   "source": [
    "from sklearn.preprocessing import StandardScaler\n",
    "from sklearn.preprocessing import scale\n",
    "\n",
    "Xs = scale(X)\n",
    "scl= StandardScaler()\n",
    "\n",
    "Xs_train = scl.fit_transform(X_train)\n",
    "Xs_test = scl.transform(X_test)"
   ]
  },
  {
   "cell_type": "code",
   "execution_count": 134,
   "metadata": {},
   "outputs": [
    {
     "name": "stdout",
     "output_type": "stream",
     "text": [
      "k-NN score for test set: 0.824572\n",
      "k-NN score for training set: 0.840652\n"
     ]
    }
   ],
   "source": [
    "from sklearn.neighbors import KNeighborsClassifier\n",
    "from sklearn.cross_validation import train_test_split\n",
    "\n",
    "knn = KNeighborsClassifier(n_neighbors = 5)\n",
    "\n",
    "Xs_train, Xs_test, y_train, y_test = train_test_split(Xs, y, test_size=0.2, random_state=42)\n",
    "knn_model_2 = knn.fit(Xs_train, y_train)\n",
    "print('k-NN score for test set: %f' % knn_model_2.score(Xs_test, y_test))\n",
    "print('k-NN score for training set: %f' % knn_model_2.score(Xs_train, y_train))"
   ]
  },
  {
   "cell_type": "code",
   "execution_count": 135,
   "metadata": {},
   "outputs": [
    {
     "name": "stdout",
     "output_type": "stream",
     "text": [
      "Root Mean Squared Error: 0.4326700384785407\n"
     ]
    }
   ],
   "source": [
    "print('Root Mean Squared Error:', np.sqrt(metrics.mean_squared_error(y_test, y_pred)))  "
   ]
  },
  {
   "cell_type": "markdown",
   "metadata": {},
   "source": [
    "# Random Forest"
   ]
  },
  {
   "cell_type": "code",
   "execution_count": 130,
   "metadata": {},
   "outputs": [
    {
     "name": "stdout",
     "output_type": "stream",
     "text": [
      "Accuracy: 0.8475417557334879\n"
     ]
    }
   ],
   "source": [
    "import sklearn as sk  \n",
    "from sklearn.ensemble import RandomForestClassifier\n",
    "\n",
    "RF = RandomForestClassifier(n_estimators=100, max_depth=5, random_state=0)  \n",
    "RF = RF.fit(X_train, y_train)  \n",
    "y_pred = RF.predict(X_test)  \n",
    "print(\"Accuracy:\",metrics.accuracy_score(y_test, y_pred)) "
   ]
  },
  {
   "cell_type": "code",
   "execution_count": 131,
   "metadata": {},
   "outputs": [
    {
     "name": "stdout",
     "output_type": "stream",
     "text": [
      "Root Mean Squared Error: 0.428800827462191\n"
     ]
    }
   ],
   "source": [
    " print('Root Mean Squared Error:', np.sqrt(metrics.mean_squared_error(y_test, y_pred)))  "
   ]
  },
  {
   "cell_type": "markdown",
   "metadata": {},
   "source": [
    "# Cross validation and comparison"
   ]
  },
  {
   "cell_type": "code",
   "execution_count": 73,
   "metadata": {},
   "outputs": [
    {
     "name": "stdout",
     "output_type": "stream",
     "text": [
      "KNN: 0.825269\n",
      "DTree: 0.821349\n",
      "RForest: 0.828407\n"
     ]
    }
   ],
   "source": [
    "from sklearn import model_selection\n",
    "from sklearn.tree import DecisionTreeClassifier\n",
    "from sklearn.neighbors import KNeighborsClassifier\n",
    "from sklearn.discriminant_analysis import LinearDiscriminantAnalysis\n",
    "\n",
    "# configuration\n",
    "seed = 5\n",
    "\n",
    "# preparing the models\n",
    "md = []\n",
    "md.append(('KNN', KNeighborsClassifier()))\n",
    "md.append(('DTree', DecisionTreeClassifier()))\n",
    "md.append(('RForest', RandomForestClassifier()))\n",
    "\n",
    "# evaluate each model in turn\n",
    "results = []\n",
    "names = []\n",
    "scoring = 'accuracy'\n",
    "for name, model in md:\n",
    "    k_fold = model_selection.KFold(n_splits=5, random_state=seed)\n",
    "    cvres = model_selection.cross_val_score(model, X, y, cv=k_fold, scoring=scoring)\n",
    "    results.append(cvres)\n",
    "    names.append(name)\n",
    "    message = \"%s: %f\" % (name, cvres.mean())\n",
    "    print(message)"
   ]
  },
  {
   "cell_type": "markdown",
   "metadata": {},
   "source": [
    "# Conclusion"
   ]
  },
  {
   "cell_type": "code",
   "execution_count": null,
   "metadata": {},
   "outputs": [],
   "source": [
    "# For all models we have the almost the same accuracies which is around 82%\n",
    "# But it needs to be mentioned that according to the RMSE numbers Random Forest model outperforms other two \n",
    "# taking into account the accuracy and the RMSE measure"
   ]
  }
 ],
 "metadata": {
  "kernelspec": {
   "display_name": "Python 3",
   "language": "python",
   "name": "python3"
  },
  "language_info": {
   "codemirror_mode": {
    "name": "ipython",
    "version": 3
   },
   "file_extension": ".py",
   "mimetype": "text/x-python",
   "name": "python",
   "nbconvert_exporter": "python",
   "pygments_lexer": "ipython3",
   "version": "3.7.0"
  }
 },
 "nbformat": 4,
 "nbformat_minor": 2
}
