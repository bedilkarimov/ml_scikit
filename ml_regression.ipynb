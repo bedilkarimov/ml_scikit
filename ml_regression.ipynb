{
 "cells": [
  {
   "cell_type": "code",
   "execution_count": 1,
   "metadata": {},
   "outputs": [],
   "source": [
    "from decimal import *\n",
    "import pandas as pd\n",
    "import os\n",
    "from sklearn.model_selection import train_test_split\n",
    "from sklearn.linear_model import LinearRegression\n",
    "from sklearn import linear_model\n",
    "import numpy as np\n",
    "import seaborn as sns\n",
    "import matplotlib.pyplot as plt\n",
    "\n",
    "os.chdir(r'C:\\Users\\DELL\\Desktop\\ML_project\\Ultimate_ML_project2')\n",
    "#load data set to panadas dataframe\n",
    "orig_variables = pd.read_csv(\"data.csv\")\n",
    "modified_variables = pd.read_csv(\"data.csv\")\n"
   ]
  },
  {
   "cell_type": "markdown",
   "metadata": {},
   "source": [
    "# 1. Understanding our Data"
   ]
  },
  {
   "cell_type": "code",
   "execution_count": 4,
   "metadata": {},
   "outputs": [
    {
     "name": "stdout",
     "output_type": "stream",
     "text": [
      "(4600, 18)\n"
     ]
    }
   ],
   "source": [
    "# Data shape\n",
    "print(orig_variables.shape)"
   ]
  },
  {
   "cell_type": "code",
   "execution_count": null,
   "metadata": {},
   "outputs": [],
   "source": [
    "# Descriptions of the variables\n",
    "\n",
    "'''\n",
    "date - calendar date\n",
    "price - price of the house expressed in USD\n",
    "bedrooms - number of bedrooms\n",
    "bathrooms - number of bathrooms\n",
    "sqft_living - living space expressed in square feet\n",
    "sqft_lot - the size of the lot expressed in square feet\n",
    "floors - number of floors\n",
    "waterfront - if the house has a waterfront view\n",
    "view - the rating of the view from the house\n",
    "condition - the rating of the condition of the house\n",
    "sqft_above - sqft_above the basement\n",
    "sqft_basement - size of the basement expressed in square feet\n",
    "yr_built - the year during which the house was built\n",
    "yr_renovated - the year during which the house was renovated\n",
    "street - the address of the house\n",
    "city - the city of the house\n",
    "statezip - the zip code\n",
    "country - USA\n",
    "''' "
   ]
  },
  {
   "cell_type": "code",
   "execution_count": 2,
   "metadata": {},
   "outputs": [
    {
     "data": {
      "text/plain": [
       "date              object\n",
       "price            float64\n",
       "bedrooms         float64\n",
       "bathrooms        float64\n",
       "sqft_living        int64\n",
       "sqft_lot           int64\n",
       "floors           float64\n",
       "waterfront         int64\n",
       "view               int64\n",
       "condition          int64\n",
       "sqft_above         int64\n",
       "sqft_basement      int64\n",
       "yr_built           int64\n",
       "yr_renovated       int64\n",
       "street            object\n",
       "city              object\n",
       "statezip          object\n",
       "country           object\n",
       "dtype: object"
      ]
     },
     "execution_count": 2,
     "metadata": {},
     "output_type": "execute_result"
    }
   ],
   "source": [
    "# Classes of the features\n",
    "orig_variables.dtypes"
   ]
  },
  {
   "cell_type": "code",
   "execution_count": 5,
   "metadata": {},
   "outputs": [
    {
     "data": {
      "text/html": [
       "<div>\n",
       "<style scoped>\n",
       "    .dataframe tbody tr th:only-of-type {\n",
       "        vertical-align: middle;\n",
       "    }\n",
       "\n",
       "    .dataframe tbody tr th {\n",
       "        vertical-align: top;\n",
       "    }\n",
       "\n",
       "    .dataframe thead th {\n",
       "        text-align: right;\n",
       "    }\n",
       "</style>\n",
       "<table border=\"1\" class=\"dataframe\">\n",
       "  <thead>\n",
       "    <tr style=\"text-align: right;\">\n",
       "      <th></th>\n",
       "      <th>date</th>\n",
       "      <th>price</th>\n",
       "      <th>bedrooms</th>\n",
       "      <th>bathrooms</th>\n",
       "      <th>sqft_living</th>\n",
       "      <th>sqft_lot</th>\n",
       "      <th>floors</th>\n",
       "      <th>waterfront</th>\n",
       "      <th>view</th>\n",
       "      <th>condition</th>\n",
       "      <th>sqft_above</th>\n",
       "      <th>sqft_basement</th>\n",
       "      <th>yr_built</th>\n",
       "      <th>yr_renovated</th>\n",
       "      <th>street</th>\n",
       "      <th>city</th>\n",
       "      <th>statezip</th>\n",
       "      <th>country</th>\n",
       "    </tr>\n",
       "  </thead>\n",
       "  <tbody>\n",
       "    <tr>\n",
       "      <th>0</th>\n",
       "      <td>2014-05-02 00:00:00</td>\n",
       "      <td>313000.0</td>\n",
       "      <td>3.0</td>\n",
       "      <td>1.50</td>\n",
       "      <td>1340</td>\n",
       "      <td>7912</td>\n",
       "      <td>1.5</td>\n",
       "      <td>0</td>\n",
       "      <td>0</td>\n",
       "      <td>3</td>\n",
       "      <td>1340</td>\n",
       "      <td>0</td>\n",
       "      <td>1955</td>\n",
       "      <td>2005</td>\n",
       "      <td>18810 Densmore Ave N</td>\n",
       "      <td>Shoreline</td>\n",
       "      <td>WA 98133</td>\n",
       "      <td>USA</td>\n",
       "    </tr>\n",
       "    <tr>\n",
       "      <th>1</th>\n",
       "      <td>2014-05-02 00:00:00</td>\n",
       "      <td>2384000.0</td>\n",
       "      <td>5.0</td>\n",
       "      <td>2.50</td>\n",
       "      <td>3650</td>\n",
       "      <td>9050</td>\n",
       "      <td>2.0</td>\n",
       "      <td>0</td>\n",
       "      <td>4</td>\n",
       "      <td>5</td>\n",
       "      <td>3370</td>\n",
       "      <td>280</td>\n",
       "      <td>1921</td>\n",
       "      <td>0</td>\n",
       "      <td>709 W Blaine St</td>\n",
       "      <td>Seattle</td>\n",
       "      <td>WA 98119</td>\n",
       "      <td>USA</td>\n",
       "    </tr>\n",
       "    <tr>\n",
       "      <th>2</th>\n",
       "      <td>2014-05-02 00:00:00</td>\n",
       "      <td>342000.0</td>\n",
       "      <td>3.0</td>\n",
       "      <td>2.00</td>\n",
       "      <td>1930</td>\n",
       "      <td>11947</td>\n",
       "      <td>1.0</td>\n",
       "      <td>0</td>\n",
       "      <td>0</td>\n",
       "      <td>4</td>\n",
       "      <td>1930</td>\n",
       "      <td>0</td>\n",
       "      <td>1966</td>\n",
       "      <td>0</td>\n",
       "      <td>26206-26214 143rd Ave SE</td>\n",
       "      <td>Kent</td>\n",
       "      <td>WA 98042</td>\n",
       "      <td>USA</td>\n",
       "    </tr>\n",
       "    <tr>\n",
       "      <th>3</th>\n",
       "      <td>2014-05-02 00:00:00</td>\n",
       "      <td>420000.0</td>\n",
       "      <td>3.0</td>\n",
       "      <td>2.25</td>\n",
       "      <td>2000</td>\n",
       "      <td>8030</td>\n",
       "      <td>1.0</td>\n",
       "      <td>0</td>\n",
       "      <td>0</td>\n",
       "      <td>4</td>\n",
       "      <td>1000</td>\n",
       "      <td>1000</td>\n",
       "      <td>1963</td>\n",
       "      <td>0</td>\n",
       "      <td>857 170th Pl NE</td>\n",
       "      <td>Bellevue</td>\n",
       "      <td>WA 98008</td>\n",
       "      <td>USA</td>\n",
       "    </tr>\n",
       "    <tr>\n",
       "      <th>4</th>\n",
       "      <td>2014-05-02 00:00:00</td>\n",
       "      <td>550000.0</td>\n",
       "      <td>4.0</td>\n",
       "      <td>2.50</td>\n",
       "      <td>1940</td>\n",
       "      <td>10500</td>\n",
       "      <td>1.0</td>\n",
       "      <td>0</td>\n",
       "      <td>0</td>\n",
       "      <td>4</td>\n",
       "      <td>1140</td>\n",
       "      <td>800</td>\n",
       "      <td>1976</td>\n",
       "      <td>1992</td>\n",
       "      <td>9105 170th Ave NE</td>\n",
       "      <td>Redmond</td>\n",
       "      <td>WA 98052</td>\n",
       "      <td>USA</td>\n",
       "    </tr>\n",
       "  </tbody>\n",
       "</table>\n",
       "</div>"
      ],
      "text/plain": [
       "                  date      price  bedrooms  bathrooms  sqft_living  sqft_lot  \\\n",
       "0  2014-05-02 00:00:00   313000.0       3.0       1.50         1340      7912   \n",
       "1  2014-05-02 00:00:00  2384000.0       5.0       2.50         3650      9050   \n",
       "2  2014-05-02 00:00:00   342000.0       3.0       2.00         1930     11947   \n",
       "3  2014-05-02 00:00:00   420000.0       3.0       2.25         2000      8030   \n",
       "4  2014-05-02 00:00:00   550000.0       4.0       2.50         1940     10500   \n",
       "\n",
       "   floors  waterfront  view  condition  sqft_above  sqft_basement  yr_built  \\\n",
       "0     1.5           0     0          3        1340              0      1955   \n",
       "1     2.0           0     4          5        3370            280      1921   \n",
       "2     1.0           0     0          4        1930              0      1966   \n",
       "3     1.0           0     0          4        1000           1000      1963   \n",
       "4     1.0           0     0          4        1140            800      1976   \n",
       "\n",
       "   yr_renovated                    street       city  statezip country  \n",
       "0          2005      18810 Densmore Ave N  Shoreline  WA 98133     USA  \n",
       "1             0           709 W Blaine St    Seattle  WA 98119     USA  \n",
       "2             0  26206-26214 143rd Ave SE       Kent  WA 98042     USA  \n",
       "3             0           857 170th Pl NE   Bellevue  WA 98008     USA  \n",
       "4          1992         9105 170th Ave NE    Redmond  WA 98052     USA  "
      ]
     },
     "execution_count": 5,
     "metadata": {},
     "output_type": "execute_result"
    }
   ],
   "source": [
    "# Data head\n",
    "orig_variables.head()"
   ]
  },
  {
   "cell_type": "code",
   "execution_count": 7,
   "metadata": {},
   "outputs": [
    {
     "data": {
      "text/plain": [
       "Text(0.5, 0.98, 'Price vs. sqft_living - Original Data')"
      ]
     },
     "execution_count": 7,
     "metadata": {},
     "output_type": "execute_result"
    },
    {
     "data": {
      "image/png": "[encoded data removed]",
      "text/plain": [
       "<Figure size 576x576 with 3 Axes>"
      ]
     },
     "metadata": {
      "needs_background": "light"
     },
     "output_type": "display_data"
    }
   ],
   "source": [
    "# We are plotting the raw structure of our data - before any modifications\n",
    "\n",
    "sns.jointplot(x='sqft_living',y='price',data=orig_variables,height=(8))\n",
    "plt.subplots_adjust(top=0.9)\n",
    "plt.suptitle('Price vs. sqft_living - Original Data', fontsize = 16)\n"
   ]
  },
  {
   "cell_type": "code",
   "execution_count": 8,
   "metadata": {},
   "outputs": [
    {
     "name": "stdout",
     "output_type": "stream",
     "text": [
      "5 sqft_living outliers were removed\n"
     ]
    }
   ],
   "source": [
    "# We remove houses which have over 8000 square feet living area\n",
    "\n",
    "print(len(orig_variables[(orig_variables['sqft_living']>8000)]),\"sqft_living outliers were removed\")\n",
    "orig_variables = orig_variables[orig_variables['sqft_living'] < 8000]"
   ]
  },
  {
   "cell_type": "code",
   "execution_count": 9,
   "metadata": {},
   "outputs": [
    {
     "name": "stdout",
     "output_type": "stream",
     "text": [
      "48 price outliers were removed\n"
     ]
    }
   ],
   "source": [
    "# We remove houses which cost 0 .\n",
    "print(len(orig_variables[(orig_variables['price'] == 0)]),\"price outliers were removed\")\n",
    "\n",
    "orig_variables = orig_variables[orig_variables['price']>0]\n"
   ]
  },
  {
   "cell_type": "code",
   "execution_count": 10,
   "metadata": {},
   "outputs": [
    {
     "name": "stdout",
     "output_type": "stream",
     "text": [
      "336 price outliers were removed\n"
     ]
    }
   ],
   "source": [
    "# We remove houses which cost more than 1mil USD.\n",
    "\n",
    "print(len(orig_variables[(orig_variables['price'] > 1000000)]),\"price outliers were removed\")\n",
    "\n",
    "orig_variables = orig_variables[orig_variables['price']<1000000]\n"
   ]
  },
  {
   "cell_type": "code",
   "execution_count": 11,
   "metadata": {},
   "outputs": [
    {
     "name": "stdout",
     "output_type": "stream",
     "text": [
      "473020.1794889769\n"
     ]
    }
   ],
   "source": [
    "# We calcuate price mean:\n",
    "print(np.mean(orig_variables['price']))\n",
    "\n",
    "# Modified variables - filling the missing prices with the mean that was calculated after the removal of the outliers.\n",
    "# ( note that we are now making the modifications on 'modified_variables' data set)\n",
    "\n",
    "modified_variables=modified_variables.replace({'price': {0: np.mean(orig_variables['price'])}})\n"
   ]
  },
  {
   "cell_type": "code",
   "execution_count": 12,
   "metadata": {},
   "outputs": [
    {
     "name": "stdout",
     "output_type": "stream",
     "text": [
      "5 sqft_living outliers were removed\n"
     ]
    }
   ],
   "source": [
    "# We remove houses which have over 8000 square feet living area\n",
    "\n",
    "print(len(modified_variables[(modified_variables['sqft_living']>8000)]),\"sqft_living outliers were removed\")\n",
    "modified_variables = modified_variables[modified_variables['sqft_living'] < 8000]"
   ]
  },
  {
   "cell_type": "code",
   "execution_count": 13,
   "metadata": {},
   "outputs": [
    {
     "name": "stdout",
     "output_type": "stream",
     "text": [
      "337 price outliers were removed\n"
     ]
    }
   ],
   "source": [
    "# We remove houses which cost more than 1mil USD & less than 10000.\n",
    "\n",
    "print(len(modified_variables[(modified_variables['price'] > 1000000) | (modified_variables['price']<10000)]),\"price outliers were removed\")\n",
    "\n",
    "modified_variables = modified_variables[modified_variables['price']<1000000]\n",
    "\n",
    "modified_variables = modified_variables[modified_variables['price']>10000]\n"
   ]
  },
  {
   "cell_type": "code",
   "execution_count": 14,
   "metadata": {},
   "outputs": [
    {
     "data": {
      "text/plain": [
       "Text(0.5, 0.98, 'Price vs. sqft_living - Modified Data')"
      ]
     },
     "execution_count": 14,
     "metadata": {},
     "output_type": "execute_result"
    },
    {
     "data": {
      "image/png": "[encoded data removed]",
      "text/plain": [
       "<Figure size 576x576 with 3 Axes>"
      ]
     },
     "metadata": {
      "needs_background": "light"
     },
     "output_type": "display_data"
    }
   ],
   "source": [
    "# Checking the effect of the removal of outliers\n",
    "\n",
    "sns.jointplot(x='sqft_living',y='price',data= modified_variables,height=(8))\n",
    "plt.subplots_adjust(top=0.9)\n",
    "plt.suptitle('Price vs. sqft_living - Modified Data', fontsize = 16)"
   ]
  },
  {
   "cell_type": "code",
   "execution_count": 15,
   "metadata": {},
   "outputs": [
    {
     "data": {
      "image/png": "[encoded data removed]",
      "text/plain": [
       "<Figure size 1152x432 with 1 Axes>"
      ]
     },
     "metadata": {
      "needs_background": "light"
     },
     "output_type": "display_data"
    }
   ],
   "source": [
    "# Below we present the cities by the popularity in the data set\n",
    "\n",
    "plt.figure(figsize=(16, 6))\n",
    "plt.title('Cities %i' %len(orig_variables.groupby('city').agg('city')))\n",
    "RN = sns.countplot(orig_variables['city'])\n",
    "RN.set_xticklabels(RN.get_xticklabels(), rotation=40, ha=\"right\")\n",
    "plt.show()\n"
   ]
  },
  {
   "cell_type": "code",
   "execution_count": 16,
   "metadata": {},
   "outputs": [
    {
     "data": {
      "text/plain": [
       "Seattle         1443\n",
       "Renton           291\n",
       "Redmond          220\n",
       "Bellevue         213\n",
       "Kent             184\n",
       "Issaquah         180\n",
       "Auburn           176\n",
       "Sammamish        163\n",
       "Kirkland         162\n",
       "Federal Way      148\n",
       "Shoreline        120\n",
       "Woodinville      108\n",
       "Maple Valley      96\n",
       "Burien            73\n",
       "Snoqualmie        69\n",
       "Name: city, dtype: int64"
      ]
     },
     "execution_count": 16,
     "metadata": {},
     "output_type": "execute_result"
    }
   ],
   "source": [
    "# We list the cities by the number of observations\n",
    "\n",
    "modified_variables['city'].value_counts().head(15)"
   ]
  },
  {
   "cell_type": "code",
   "execution_count": 17,
   "metadata": {},
   "outputs": [
    {
     "name": "stderr",
     "output_type": "stream",
     "text": [
      "C:\\Users\\DELL\\Anaconda3\\lib\\site-packages\\pandas\\core\\indexing.py:189: SettingWithCopyWarning: \n",
      "A value is trying to be set on a copy of a slice from a DataFrame\n",
      "\n",
      "See the caveats in the documentation: http://pandas.pydata.org/pandas-docs/stable/indexing.html#indexing-view-versus-copy\n",
      "  self._setitem_with_indexer(indexer, value)\n"
     ]
    }
   ],
   "source": [
    "# One hot encoding for the cities\n",
    "\n",
    "# We divide cities into 3 parts: Big ( Big> 300 ), Medium ( 100 < medium < 300), Small ( Small < 100)\n",
    "\n",
    "Big = ['Seattle']\n",
    "\n",
    "Medium = ['Renton','Bellevue','Redmond','Issaquah','Kirkland','Kent','Auburn','Sammamish',\n",
    "      'Federal Way','Shoreline','Woodinville']\n",
    "\n",
    "Small = ['Maple Valley','Mercer Island','Burien','Snoqualmie','Kenmore','Des Moines',\n",
    "         'North Bend','Covington','Duvall','Lake Forest Park','Bothell','Newcastle',\n",
    "         'Tukwila','SeaTac','Vashon','Enumclaw','Carnation','Normandy Park','Fall City',\n",
    "         'Medina','Clyde Hill','Black Diamond','Ravensdale','Pacific','Algona',\n",
    "         'Yarrow Point','Skykomish','Milton','Preston','Snoqualmie Pass',\n",
    "         'Inglewood-Finn Hill','Beaux Arts Village']\n",
    "\n",
    "# What we do here is we are grouping the cities by their popularity\n",
    "\n",
    "modified_variables.city.loc[modified_variables.city.isin(Big)]='Big'\n",
    "modified_variables.city.loc[modified_variables.city.isin(Medium)]='Medium'\n",
    "modified_variables.city.loc[modified_variables.city.isin(Small)]='Small'"
   ]
  },
  {
   "cell_type": "code",
   "execution_count": 18,
   "metadata": {},
   "outputs": [],
   "source": [
    "# One hot encoding\n",
    "modified_variables= pd.get_dummies(modified_variables, columns=['city'])"
   ]
  },
  {
   "cell_type": "code",
   "execution_count": 19,
   "metadata": {},
   "outputs": [],
   "source": [
    "# Creating a variable 'age'\n",
    "modified_variables['age'] = 2014 - modified_variables['yr_built']"
   ]
  },
  {
   "cell_type": "code",
   "execution_count": 20,
   "metadata": {},
   "outputs": [],
   "source": [
    "# Creating a variable 'yrs_sinceRenovation' - if no renovations took place\n",
    "# then yrs_since last renovation will be today - yr_built\n",
    "\n",
    "# ensuring that the indexes are reset\n",
    "modified_variables = modified_variables.reset_index(drop=True)\n",
    "\n",
    "yrs_sinceRenovation =[0]*len(modified_variables['yr_built'])\n",
    "\n",
    "for i in range(0, len(yrs_sinceRenovation)):  \n",
    "    if modified_variables['yr_renovated'][i] == 0:\n",
    "        yrs_sinceRenovation[i] = 2014 - modified_variables['yr_built'][i]\n",
    "    else:\n",
    "        yrs_sinceRenovation[i] = 2014 - modified_variables['yr_renovated'][i]"
   ]
  },
  {
   "cell_type": "code",
   "execution_count": 21,
   "metadata": {},
   "outputs": [],
   "source": [
    "# Appending year since renovation\n",
    "modified_variables['yrs_sinceRenovation'] = yrs_sinceRenovation"
   ]
  },
  {
   "cell_type": "code",
   "execution_count": 22,
   "metadata": {},
   "outputs": [
    {
     "data": {
      "image/png": "[encoded data removed]",
      "text/plain": [
       "<Figure size 1152x432 with 1 Axes>"
      ]
     },
     "metadata": {
      "needs_background": "light"
     },
     "output_type": "display_data"
    }
   ],
   "source": [
    "# Visualizing 'price_p_sqft'\n",
    "\n",
    "plt.figure(figsize=(16,6))\n",
    "plt.title('Price per square feet vs condition of the house')\n",
    "RNpsqm = sns.boxplot(x=modified_variables['condition'],y=modified_variables['price'] / modified_variables['sqft_living'])\n",
    "RNpsqm.set_xticklabels(RNpsqm.get_xticklabels(), rotation=40, ha=\"right\")\n",
    "plt.show()"
   ]
  },
  {
   "cell_type": "code",
   "execution_count": 23,
   "metadata": {},
   "outputs": [
    {
     "data": {
      "text/html": [
       "<div>\n",
       "<style scoped>\n",
       "    .dataframe tbody tr th:only-of-type {\n",
       "        vertical-align: middle;\n",
       "    }\n",
       "\n",
       "    .dataframe tbody tr th {\n",
       "        vertical-align: top;\n",
       "    }\n",
       "\n",
       "    .dataframe thead th {\n",
       "        text-align: right;\n",
       "    }\n",
       "</style>\n",
       "<table border=\"1\" class=\"dataframe\">\n",
       "  <thead>\n",
       "    <tr style=\"text-align: right;\">\n",
       "      <th></th>\n",
       "      <th>date</th>\n",
       "      <th>price</th>\n",
       "      <th>bedrooms</th>\n",
       "      <th>bathrooms</th>\n",
       "      <th>sqft_living</th>\n",
       "      <th>sqft_lot</th>\n",
       "      <th>floors</th>\n",
       "      <th>waterfront</th>\n",
       "      <th>view</th>\n",
       "      <th>condition</th>\n",
       "      <th>sqft_above</th>\n",
       "      <th>sqft_basement</th>\n",
       "      <th>yr_built</th>\n",
       "      <th>yr_renovated</th>\n",
       "      <th>street</th>\n",
       "      <th>statezip</th>\n",
       "      <th>country</th>\n",
       "      <th>city_Big</th>\n",
       "      <th>city_Medium</th>\n",
       "      <th>city_Small</th>\n",
       "      <th>age</th>\n",
       "      <th>yrs_sinceRenovation</th>\n",
       "    </tr>\n",
       "  </thead>\n",
       "  <tbody>\n",
       "    <tr>\n",
       "      <th>0</th>\n",
       "      <td>2014-05-02 00:00:00</td>\n",
       "      <td>313000.0</td>\n",
       "      <td>3.0</td>\n",
       "      <td>1.50</td>\n",
       "      <td>1340</td>\n",
       "      <td>7912</td>\n",
       "      <td>1.5</td>\n",
       "      <td>0</td>\n",
       "      <td>0</td>\n",
       "      <td>3</td>\n",
       "      <td>1340</td>\n",
       "      <td>0</td>\n",
       "      <td>1955</td>\n",
       "      <td>2005</td>\n",
       "      <td>18810 Densmore Ave N</td>\n",
       "      <td>WA 98133</td>\n",
       "      <td>USA</td>\n",
       "      <td>0</td>\n",
       "      <td>1</td>\n",
       "      <td>0</td>\n",
       "      <td>59</td>\n",
       "      <td>9</td>\n",
       "    </tr>\n",
       "    <tr>\n",
       "      <th>1</th>\n",
       "      <td>2014-05-02 00:00:00</td>\n",
       "      <td>342000.0</td>\n",
       "      <td>3.0</td>\n",
       "      <td>2.00</td>\n",
       "      <td>1930</td>\n",
       "      <td>11947</td>\n",
       "      <td>1.0</td>\n",
       "      <td>0</td>\n",
       "      <td>0</td>\n",
       "      <td>4</td>\n",
       "      <td>1930</td>\n",
       "      <td>0</td>\n",
       "      <td>1966</td>\n",
       "      <td>0</td>\n",
       "      <td>26206-26214 143rd Ave SE</td>\n",
       "      <td>WA 98042</td>\n",
       "      <td>USA</td>\n",
       "      <td>0</td>\n",
       "      <td>1</td>\n",
       "      <td>0</td>\n",
       "      <td>48</td>\n",
       "      <td>48</td>\n",
       "    </tr>\n",
       "    <tr>\n",
       "      <th>2</th>\n",
       "      <td>2014-05-02 00:00:00</td>\n",
       "      <td>420000.0</td>\n",
       "      <td>3.0</td>\n",
       "      <td>2.25</td>\n",
       "      <td>2000</td>\n",
       "      <td>8030</td>\n",
       "      <td>1.0</td>\n",
       "      <td>0</td>\n",
       "      <td>0</td>\n",
       "      <td>4</td>\n",
       "      <td>1000</td>\n",
       "      <td>1000</td>\n",
       "      <td>1963</td>\n",
       "      <td>0</td>\n",
       "      <td>857 170th Pl NE</td>\n",
       "      <td>WA 98008</td>\n",
       "      <td>USA</td>\n",
       "      <td>0</td>\n",
       "      <td>1</td>\n",
       "      <td>0</td>\n",
       "      <td>51</td>\n",
       "      <td>51</td>\n",
       "    </tr>\n",
       "    <tr>\n",
       "      <th>3</th>\n",
       "      <td>2014-05-02 00:00:00</td>\n",
       "      <td>550000.0</td>\n",
       "      <td>4.0</td>\n",
       "      <td>2.50</td>\n",
       "      <td>1940</td>\n",
       "      <td>10500</td>\n",
       "      <td>1.0</td>\n",
       "      <td>0</td>\n",
       "      <td>0</td>\n",
       "      <td>4</td>\n",
       "      <td>1140</td>\n",
       "      <td>800</td>\n",
       "      <td>1976</td>\n",
       "      <td>1992</td>\n",
       "      <td>9105 170th Ave NE</td>\n",
       "      <td>WA 98052</td>\n",
       "      <td>USA</td>\n",
       "      <td>0</td>\n",
       "      <td>1</td>\n",
       "      <td>0</td>\n",
       "      <td>38</td>\n",
       "      <td>22</td>\n",
       "    </tr>\n",
       "    <tr>\n",
       "      <th>4</th>\n",
       "      <td>2014-05-02 00:00:00</td>\n",
       "      <td>490000.0</td>\n",
       "      <td>2.0</td>\n",
       "      <td>1.00</td>\n",
       "      <td>880</td>\n",
       "      <td>6380</td>\n",
       "      <td>1.0</td>\n",
       "      <td>0</td>\n",
       "      <td>0</td>\n",
       "      <td>3</td>\n",
       "      <td>880</td>\n",
       "      <td>0</td>\n",
       "      <td>1938</td>\n",
       "      <td>1994</td>\n",
       "      <td>522 NE 88th St</td>\n",
       "      <td>WA 98115</td>\n",
       "      <td>USA</td>\n",
       "      <td>1</td>\n",
       "      <td>0</td>\n",
       "      <td>0</td>\n",
       "      <td>76</td>\n",
       "      <td>20</td>\n",
       "    </tr>\n",
       "  </tbody>\n",
       "</table>\n",
       "</div>"
      ],
      "text/plain": [
       "                  date     price  bedrooms  bathrooms  sqft_living  sqft_lot  \\\n",
       "0  2014-05-02 00:00:00  313000.0       3.0       1.50         1340      7912   \n",
       "1  2014-05-02 00:00:00  342000.0       3.0       2.00         1930     11947   \n",
       "2  2014-05-02 00:00:00  420000.0       3.0       2.25         2000      8030   \n",
       "3  2014-05-02 00:00:00  550000.0       4.0       2.50         1940     10500   \n",
       "4  2014-05-02 00:00:00  490000.0       2.0       1.00          880      6380   \n",
       "\n",
       "   floors  waterfront  view  condition  sqft_above  sqft_basement  yr_built  \\\n",
       "0     1.5           0     0          3        1340              0      1955   \n",
       "1     1.0           0     0          4        1930              0      1966   \n",
       "2     1.0           0     0          4        1000           1000      1963   \n",
       "3     1.0           0     0          4        1140            800      1976   \n",
       "4     1.0           0     0          3         880              0      1938   \n",
       "\n",
       "   yr_renovated                    street  statezip country  city_Big  \\\n",
       "0          2005      18810 Densmore Ave N  WA 98133     USA         0   \n",
       "1             0  26206-26214 143rd Ave SE  WA 98042     USA         0   \n",
       "2             0           857 170th Pl NE  WA 98008     USA         0   \n",
       "3          1992         9105 170th Ave NE  WA 98052     USA         0   \n",
       "4          1994            522 NE 88th St  WA 98115     USA         1   \n",
       "\n",
       "   city_Medium  city_Small  age  yrs_sinceRenovation  \n",
       "0            1           0   59                    9  \n",
       "1            1           0   48                   48  \n",
       "2            1           0   51                   51  \n",
       "3            1           0   38                   22  \n",
       "4            0           0   76                   20  "
      ]
     },
     "execution_count": 23,
     "metadata": {},
     "output_type": "execute_result"
    }
   ],
   "source": [
    "# Checking the variables after modifications\n",
    "pd.set_option(\"display.max_columns\",25)\n",
    "\n",
    "modified_variables.head(5)"
   ]
  },
  {
   "cell_type": "markdown",
   "metadata": {},
   "source": [
    "# 2. Linear Regression"
   ]
  },
  {
   "cell_type": "code",
   "execution_count": 24,
   "metadata": {},
   "outputs": [],
   "source": [
    "# Setting our Y\n",
    "us_house_price = modified_variables.filter(['price'])\n",
    "\n",
    "# Setting our Regressors\n",
    "us_houses4 = modified_variables.filter(['bedrooms','bathrooms','sqft_living','sqft_lot','floors',\n",
    "                                    'waterfront','view','condition','age','yrs_sinceRenovation',\n",
    "                                    'city_Big','city_Medium','city_Small'])\n"
   ]
  },
  {
   "cell_type": "code",
   "execution_count": 25,
   "metadata": {},
   "outputs": [],
   "source": [
    "# Setting the variables for the linear regression\n",
    "X_df= us_houses4\n",
    "\n",
    "X = X_df.iloc[:,:].values\n",
    "Y = us_house_price.values\n",
    "\n",
    "X_train, X_test, y_train, y_test = train_test_split(X, Y, test_size=0.2)\n"
   ]
  },
  {
   "cell_type": "code",
   "execution_count": 26,
   "metadata": {},
   "outputs": [],
   "source": [
    "## Training our Model ( Linear Regression - Subjective Approach)"
   ]
  },
  {
   "cell_type": "code",
   "execution_count": 27,
   "metadata": {},
   "outputs": [],
   "source": [
    "## Running the linear regression algorithm\n",
    "\n",
    "regr = linear_model.LinearRegression()\n",
    "regr.fit(X_train, y_train)\n",
    "predicted4 = np.round(regr.predict(X_test),0)"
   ]
  },
  {
   "cell_type": "code",
   "execution_count": 28,
   "metadata": {},
   "outputs": [
    {
     "data": {
      "text/plain": [
       "28.648427565208674"
      ]
     },
     "execution_count": 28,
     "metadata": {},
     "output_type": "execute_result"
    }
   ],
   "source": [
    "# Regression metrics\n",
    "\n",
    "#Mean Absolute Percentage Error\n",
    "def MAPE(y_true, y_pred): \n",
    "    return np.mean(np.abs( (y_true - y_pred) / y_true) ) * 100\n",
    "\n",
    "mape = MAPE(y_test, predicted4) # mean square perecentage error 28.64\n",
    "mape"
   ]
  },
  {
   "cell_type": "code",
   "execution_count": 29,
   "metadata": {},
   "outputs": [
    {
     "data": {
      "text/plain": [
       "15.766068569941606"
      ]
     },
     "execution_count": 29,
     "metadata": {},
     "output_type": "execute_result"
    }
   ],
   "source": [
    "#Mean Squared Percentage Error\n",
    "def MSPE(y_true, y_pred): \n",
    "    return np.mean(np.power( (y_true - y_pred) / y_true, 2) ) * 100\n",
    "\n",
    "mspe = MSPE(y_test, predicted4) # mean absolute percentage error 15.76%\n",
    "mspe\n"
   ]
  },
  {
   "cell_type": "code",
   "execution_count": 30,
   "metadata": {},
   "outputs": [
    {
     "data": {
      "image/png": "[encoded data removed]",
      "text/plain": [
       "<Figure size 432x288 with 1 Axes>"
      ]
     },
     "metadata": {
      "needs_background": "light"
     },
     "output_type": "display_data"
    }
   ],
   "source": [
    "# Visualizing the regression errors from our subjective approach\n",
    "\n",
    "plt.hist(np.round(regr.predict(X_test),0) - y_test, bins=30)\n",
    "plt.show()"
   ]
  },
  {
   "cell_type": "code",
   "execution_count": 31,
   "metadata": {},
   "outputs": [
    {
     "name": "stdout",
     "output_type": "stream",
     "text": [
      "Linear Regression Coefficients\n",
      "                      Coefficient\n",
      "bedrooms            -21997.473457\n",
      "bathrooms            26193.484757\n",
      "sqft_living            162.323667\n",
      "sqft_lot                 0.091950\n",
      "floors               42613.624553\n",
      "waterfront           61253.444260\n",
      "view                 10814.892203\n",
      "condition            24811.195279\n",
      "age                    919.698582\n",
      "yrs_sinceRenovation   -110.065022\n",
      "city_Big             64841.101314\n",
      "city_Medium          -7787.000836\n",
      "city_Small          -57054.100478\n"
     ]
    }
   ],
   "source": [
    "# Checking the coefficients\n",
    "\n",
    "lin_reg = LinearRegression()\n",
    "\n",
    "print('Linear Regression Coefficients')\n",
    "lin_reg.fit(X,Y)\n",
    "coeff_df = pd.DataFrame(lin_reg.coef_[0], X_df.columns, columns=['Coefficient'])  \n",
    "print(coeff_df)\n"
   ]
  },
  {
   "cell_type": "code",
   "execution_count": 32,
   "metadata": {},
   "outputs": [],
   "source": [
    "# Interpretation of the results:\n",
    "\n",
    "# In line with our intuition:\n",
    "\n",
    "# Bathrooms are more important than bedrooms\n",
    "# Sqft_living is important\n",
    "# Having a waterfront view is significantly important\n",
    "# The floors, the view, the condition of the house are important\n",
    "# Years since renovation are intuitive\n",
    "# the larger the size of the city, the higher the price\n",
    "\n",
    "# Unintuitive\n",
    "# Sqft_lot - we would expect the sqft_lot to increase with the increase in the size of lot\n",
    "# Age - we would expect the price to decrease with age, however given that this is a US housing market,\n",
    "# once could argue that older houses are in better location\n"
   ]
  },
  {
   "cell_type": "code",
   "execution_count": 24,
   "metadata": {},
   "outputs": [
    {
     "name": "stdout",
     "output_type": "stream",
     "text": [
      "Index(['bedrooms', 'bathrooms', 'sqft_lot', 'floors', 'waterfront', 'view',\n",
      "       'condition', 'sqft_above', 'sqft_basement', 'city_Big', 'city_Medium',\n",
      "       'city_Small', 'age', 'yrs_sinceRenovation'],\n",
      "      dtype='object')\n"
     ]
    }
   ],
   "source": [
    "# The \" true machine learning approach\"\n",
    "\n",
    "# We select the explanatory variables by first randomly selecting the number of variables,\n",
    "# and then selecting varaiables accordingly to their number\n",
    "\n",
    "# Get all the variables from the dataset\n",
    "variables_names = modified_variables.columns\n",
    "\n",
    "\n",
    "# from the list of variables we remove the variable Price, as it constitutes the explained variable in the regression \n",
    "variables_names = variables_names[variables_names != 'price'] # explanatory variable\n",
    "variables_names = variables_names[variables_names != 'date'] # same date for all variables/time series\n",
    "variables_names = variables_names[variables_names != 'yr_built'] # we already have the variable 'age'\n",
    "variables_names = variables_names[variables_names != 'yr_renovated'] # we already have ' yrs since renovation'\n",
    "variables_names = variables_names[variables_names != 'street'] # we already have city big ,small,medium\n",
    "variables_names = variables_names[variables_names != 'country'] # all observations are in the US ( washington state)\n",
    "variables_names = variables_names[variables_names != 'statezip'] # high cardinality variable & we already have the var. location\n",
    "\n",
    "# we remove sqft_living because sqft_basement + sqft_above = sqft_living and thus they are correlated\n",
    "# since we now care about sqft_basement, we proceed according to the above\n",
    "variables_names = variables_names[variables_names != 'sqft_living'] # high cardinality variable & we already have the var. location\n",
    "\n",
    "\n",
    "print(variables_names)"
   ]
  },
  {
   "cell_type": "code",
   "execution_count": 25,
   "metadata": {},
   "outputs": [
    {
     "name": "stdout",
     "output_type": "stream",
     "text": [
      "0\n",
      "Index(['view', 'waterfront', 'condition', 'sqft_lot', 'sqft_basement',\n",
      "       'bathrooms', 'floors', 'bedrooms', 'sqft_above'],\n",
      "      dtype='object')\n",
      "MSPE: 16.99 % split 1\n",
      "MAPE: 30.81 % split 1\n",
      "MSPE: 18.73 % split 2\n",
      "MAPE: 31.42 % split 2\n",
      "MSPE: 22.09 % split 3\n",
      "MAPE: 32.29 % split 3\n",
      "MSPE: 23.10 % split 4\n",
      "MAPE: 31.68 % split 4\n",
      "MSPE: 18.66 % split 5\n",
      "MAPE: 31.71 % split 5\n",
      "MSPE: 26.05 % split 6\n",
      "MAPE: 32.86 % split 6\n",
      "MSPE: 19.43 % split 7\n",
      "MAPE: 31.40 % split 7\n",
      "MSPE: 26.03 % split 8\n",
      "MAPE: 32.51 % split 8\n",
      "MSPE: 21.38 % split 9\n",
      "MAPE: 31.79 % split 9\n",
      "MSPE: 25.86 % split 10\n",
      "MAPE: 34.60 % split 10\n"
     ]
    },
    {
     "data": {
      "image/png": "[encoded data removed]",
      "text/plain": [
       "<Figure size 432x288 with 1 Axes>"
      ]
     },
     "metadata": {
      "needs_background": "light"
     },
     "output_type": "display_data"
    },
    {
     "name": "stdout",
     "output_type": "stream",
     "text": [
      "1\n",
      "Index(['bedrooms', 'bathrooms'], dtype='object')\n",
      "MSPE: 25.92 % split 1\n",
      "MAPE: 37.34 % split 1\n",
      "MSPE: 21.78 % split 2\n",
      "MAPE: 34.76 % split 2\n",
      "MSPE: 26.73 % split 3\n",
      "MAPE: 37.66 % split 3\n",
      "MSPE: 27.25 % split 4\n",
      "MAPE: 36.29 % split 4\n",
      "MSPE: 26.15 % split 5\n",
      "MAPE: 36.53 % split 5\n",
      "MSPE: 22.04 % split 6\n",
      "MAPE: 34.93 % split 6\n",
      "MSPE: 25.78 % split 7\n",
      "MAPE: 36.84 % split 7\n",
      "MSPE: 24.77 % split 8\n",
      "MAPE: 36.24 % split 8\n",
      "MSPE: 25.40 % split 9\n",
      "MAPE: 36.06 % split 9\n",
      "MSPE: 25.77 % split 10\n",
      "MAPE: 35.91 % split 10\n"
     ]
    },
    {
     "data": {
      "image/png": "[encoded data removed]",
      "text/plain": [
       "<Figure size 432x288 with 1 Axes>"
      ]
     },
     "metadata": {
      "needs_background": "light"
     },
     "output_type": "display_data"
    },
    {
     "name": "stdout",
     "output_type": "stream",
     "text": [
      "2\n",
      "Index(['bathrooms', 'sqft_above', 'view', 'city_Small', 'condition',\n",
      "       'city_Medium', 'city_Big', 'sqft_lot', 'floors', 'sqft_basement',\n",
      "       'bedrooms', 'age', 'waterfront'],\n",
      "      dtype='object')\n",
      "MSPE: 17.33 % split 1\n",
      "MAPE: 29.49 % split 1\n",
      "MSPE: 16.83 % split 2\n",
      "MAPE: 29.50 % split 2\n",
      "MSPE: 16.21 % split 3\n",
      "MAPE: 27.64 % split 3\n",
      "MSPE: 17.79 % split 4\n",
      "MAPE: 28.68 % split 4\n",
      "MSPE: 19.40 % split 5\n",
      "MAPE: 29.18 % split 5\n",
      "MSPE: 22.28 % split 6\n",
      "MAPE: 29.49 % split 6\n",
      "MSPE: 20.03 % split 7\n",
      "MAPE: 29.42 % split 7\n",
      "MSPE: 18.55 % split 8\n",
      "MAPE: 27.87 % split 8\n",
      "MSPE: 18.33 % split 9\n",
      "MAPE: 29.11 % split 9\n",
      "MSPE: 18.27 % split 10\n",
      "MAPE: 29.67 % split 10\n"
     ]
    },
    {
     "data": {
      "image/png": "[encoded data removed]",
      "text/plain": [
       "<Figure size 432x288 with 1 Axes>"
      ]
     },
     "metadata": {
      "needs_background": "light"
     },
     "output_type": "display_data"
    },
    {
     "name": "stdout",
     "output_type": "stream",
     "text": [
      "3\n",
      "Index(['bedrooms', 'bathrooms'], dtype='object')\n",
      "MSPE: 29.10 % split 1\n",
      "MAPE: 37.85 % split 1\n",
      "MSPE: 25.94 % split 2\n",
      "MAPE: 36.89 % split 2\n",
      "MSPE: 24.50 % split 3\n",
      "MAPE: 36.10 % split 3\n",
      "MSPE: 26.15 % split 4\n",
      "MAPE: 36.79 % split 4\n",
      "MSPE: 27.62 % split 5\n",
      "MAPE: 38.30 % split 5\n",
      "MSPE: 26.23 % split 6\n",
      "MAPE: 36.45 % split 6\n",
      "MSPE: 28.72 % split 7\n",
      "MAPE: 38.41 % split 7\n",
      "MSPE: 23.68 % split 8\n",
      "MAPE: 35.32 % split 8\n",
      "MSPE: 23.36 % split 9\n",
      "MAPE: 35.54 % split 9\n",
      "MSPE: 28.86 % split 10\n",
      "MAPE: 37.63 % split 10\n"
     ]
    },
    {
     "data": {
      "image/png": "[encoded data removed]",
      "text/plain": [
       "<Figure size 432x288 with 1 Axes>"
      ]
     },
     "metadata": {
      "needs_background": "light"
     },
     "output_type": "display_data"
    },
    {
     "name": "stdout",
     "output_type": "stream",
     "text": [
      "4\n",
      "Index(['condition', 'sqft_above', 'bedrooms', 'sqft_lot', 'waterfront',\n",
      "       'bathrooms', 'sqft_basement', 'view', 'floors'],\n",
      "      dtype='object')\n",
      "MSPE: 23.12 % split 1\n",
      "MAPE: 32.65 % split 1\n",
      "MSPE: 20.00 % split 2\n",
      "MAPE: 31.87 % split 2\n",
      "MSPE: 21.15 % split 3\n",
      "MAPE: 32.43 % split 3\n",
      "MSPE: 20.60 % split 4\n",
      "MAPE: 31.51 % split 4\n",
      "MSPE: 19.96 % split 5\n",
      "MAPE: 32.87 % split 5\n",
      "MSPE: 17.13 % split 6\n",
      "MAPE: 30.20 % split 6\n",
      "MSPE: 21.56 % split 7\n",
      "MAPE: 32.50 % split 7\n",
      "MSPE: 20.03 % split 8\n",
      "MAPE: 31.72 % split 8\n",
      "MSPE: 22.37 % split 9\n",
      "MAPE: 31.59 % split 9\n",
      "MSPE: 20.40 % split 10\n",
      "MAPE: 32.53 % split 10\n"
     ]
    },
    {
     "data": {
      "image/png": "[encoded data removed]",
      "text/plain": [
       "<Figure size 432x288 with 1 Axes>"
      ]
     },
     "metadata": {
      "needs_background": "light"
     },
     "output_type": "display_data"
    },
    {
     "name": "stdout",
     "output_type": "stream",
     "text": [
      "5\n",
      "Index(['bathrooms', 'sqft_lot', 'condition', 'waterfront', 'bedrooms',\n",
      "       'floors', 'view'],\n",
      "      dtype='object')\n",
      "MSPE: 23.74 % split 1\n",
      "MAPE: 35.06 % split 1\n",
      "MSPE: 22.87 % split 2\n",
      "MAPE: 35.00 % split 2\n",
      "MSPE: 25.24 % split 3\n",
      "MAPE: 36.37 % split 3\n",
      "MSPE: 23.13 % split 4\n",
      "MAPE: 34.26 % split 4\n",
      "MSPE: 22.91 % split 5\n",
      "MAPE: 35.17 % split 5\n",
      "MSPE: 24.05 % split 6\n",
      "MAPE: 35.08 % split 6\n",
      "MSPE: 27.39 % split 7\n",
      "MAPE: 35.79 % split 7\n",
      "MSPE: 24.20 % split 8\n",
      "MAPE: 35.58 % split 8\n",
      "MSPE: 27.32 % split 9\n",
      "MAPE: 35.34 % split 9\n",
      "MSPE: 26.53 % split 10\n",
      "MAPE: 36.02 % split 10\n"
     ]
    },
    {
     "data": {
      "image/png": "[encoded data removed]",
      "text/plain": [
       "<Figure size 432x288 with 1 Axes>"
      ]
     },
     "metadata": {
      "needs_background": "light"
     },
     "output_type": "display_data"
    },
    {
     "name": "stdout",
     "output_type": "stream",
     "text": [
      "6\n",
      "Index(['bedrooms', 'waterfront', 'sqft_lot', 'bathrooms', 'floors'], dtype='object')\n",
      "MSPE: 22.17 % split 1\n",
      "MAPE: 33.69 % split 1\n",
      "MSPE: 23.95 % split 2\n",
      "MAPE: 35.45 % split 2\n",
      "MSPE: 23.43 % split 3\n",
      "MAPE: 35.68 % split 3\n",
      "MSPE: 24.85 % split 4\n",
      "MAPE: 36.56 % split 4\n",
      "MSPE: 23.63 % split 5\n",
      "MAPE: 35.44 % split 5\n",
      "MSPE: 27.38 % split 6\n",
      "MAPE: 37.20 % split 6\n",
      "MSPE: 22.87 % split 7\n",
      "MAPE: 34.81 % split 7\n",
      "MSPE: 30.30 % split 8\n",
      "MAPE: 38.50 % split 8\n",
      "MSPE: 24.72 % split 9\n",
      "MAPE: 34.64 % split 9\n",
      "MSPE: 27.86 % split 10\n",
      "MAPE: 37.68 % split 10\n"
     ]
    },
    {
     "data": {
      "image/png": "[encoded data removed]",
      "text/plain": [
       "<Figure size 432x288 with 1 Axes>"
      ]
     },
     "metadata": {
      "needs_background": "light"
     },
     "output_type": "display_data"
    },
    {
     "name": "stdout",
     "output_type": "stream",
     "text": [
      "7\n",
      "Index(['bedrooms', 'sqft_lot', 'floors', 'sqft_basement', 'view', 'bathrooms',\n",
      "       'waterfront', 'condition', 'sqft_above'],\n",
      "      dtype='object')\n",
      "MSPE: 24.15 % split 1\n",
      "MAPE: 32.36 % split 1\n",
      "MSPE: 24.09 % split 2\n",
      "MAPE: 32.79 % split 2\n",
      "MSPE: 21.95 % split 3\n",
      "MAPE: 31.90 % split 3\n",
      "MSPE: 21.46 % split 4\n",
      "MAPE: 31.73 % split 4\n",
      "MSPE: 19.41 % split 5\n",
      "MAPE: 31.98 % split 5\n",
      "MSPE: 21.54 % split 6\n",
      "MAPE: 31.88 % split 6\n",
      "MSPE: 23.59 % split 7\n",
      "MAPE: 31.52 % split 7\n",
      "MSPE: 23.60 % split 8\n",
      "MAPE: 33.29 % split 8\n",
      "MSPE: 22.18 % split 9\n",
      "MAPE: 32.00 % split 9\n",
      "MSPE: 22.14 % split 10\n",
      "MAPE: 31.88 % split 10\n"
     ]
    },
    {
     "data": {
      "image/png": "[encoded data removed]",
      "text/plain": [
       "<Figure size 432x288 with 1 Axes>"
      ]
     },
     "metadata": {
      "needs_background": "light"
     },
     "output_type": "display_data"
    },
    {
     "name": "stdout",
     "output_type": "stream",
     "text": [
      "8\n",
      "Index(['bathrooms', 'waterfront', 'sqft_lot', 'floors', 'view', 'bedrooms'], dtype='object')\n",
      "MSPE: 24.81 % split 1\n",
      "MAPE: 35.01 % split 1\n",
      "MSPE: 28.77 % split 2\n",
      "MAPE: 36.48 % split 2\n",
      "MSPE: 24.61 % split 3\n",
      "MAPE: 36.10 % split 3\n",
      "MSPE: 27.97 % split 4\n",
      "MAPE: 36.39 % split 4\n",
      "MSPE: 23.80 % split 5\n",
      "MAPE: 35.14 % split 5\n",
      "MSPE: 24.99 % split 6\n",
      "MAPE: 35.80 % split 6\n",
      "MSPE: 24.44 % split 7\n",
      "MAPE: 35.00 % split 7\n",
      "MSPE: 24.37 % split 8\n",
      "MAPE: 36.52 % split 8\n",
      "MSPE: 23.81 % split 9\n",
      "MAPE: 35.50 % split 9\n",
      "MSPE: 27.06 % split 10\n",
      "MAPE: 35.85 % split 10\n"
     ]
    },
    {
     "data": {
      "image/png": "[encoded data removed]",
      "text/plain": [
       "<Figure size 432x288 with 1 Axes>"
      ]
     },
     "metadata": {
      "needs_background": "light"
     },
     "output_type": "display_data"
    },
    {
     "name": "stdout",
     "output_type": "stream",
     "text": [
      "9\n",
      "Index(['view', 'floors', 'waterfront', 'bedrooms', 'bathrooms', 'sqft_above',\n",
      "       'sqft_lot', 'condition'],\n",
      "      dtype='object')\n",
      "MSPE: 22.16 % split 1\n",
      "MAPE: 32.78 % split 1\n",
      "MSPE: 26.03 % split 2\n",
      "MAPE: 33.49 % split 2\n",
      "MSPE: 20.34 % split 3\n",
      "MAPE: 32.73 % split 3\n",
      "MSPE: 28.57 % split 4\n",
      "MAPE: 34.81 % split 4\n",
      "MSPE: 21.62 % split 5\n",
      "MAPE: 33.81 % split 5\n",
      "MSPE: 24.50 % split 6\n",
      "MAPE: 33.43 % split 6\n",
      "MSPE: 20.28 % split 7\n",
      "MAPE: 32.48 % split 7\n",
      "MSPE: 27.80 % split 8\n",
      "MAPE: 35.06 % split 8\n",
      "MSPE: 25.57 % split 9\n",
      "MAPE: 34.50 % split 9\n",
      "MSPE: 23.10 % split 10\n",
      "MAPE: 32.70 % split 10\n"
     ]
    },
    {
     "data": {
      "image/png": "[encoded data removed]",
      "text/plain": [
       "<Figure size 432x288 with 1 Axes>"
      ]
     },
     "metadata": {
      "needs_background": "light"
     },
     "output_type": "display_data"
    },
    {
     "name": "stdout",
     "output_type": "stream",
     "text": [
      "10\n",
      "Index(['sqft_lot', 'city_Small', 'view', 'sqft_above', 'city_Big',\n",
      "       'sqft_basement', 'floors', 'city_Medium', 'bedrooms', 'condition',\n",
      "       'waterfront', 'age', 'bathrooms'],\n",
      "      dtype='object')\n",
      "MSPE: 17.06 % split 1\n",
      "MAPE: 27.67 % split 1\n",
      "MSPE: 22.59 % split 2\n",
      "MAPE: 29.82 % split 2\n",
      "MSPE: 21.05 % split 3\n",
      "MAPE: 29.76 % split 3\n",
      "MSPE: 19.87 % split 4\n",
      "MAPE: 28.17 % split 4\n",
      "MSPE: 18.00 % split 5\n",
      "MAPE: 27.97 % split 5\n",
      "MSPE: 19.95 % split 6\n",
      "MAPE: 28.42 % split 6\n",
      "MSPE: 18.49 % split 7\n",
      "MAPE: 28.10 % split 7\n",
      "MSPE: 19.57 % split 8\n",
      "MAPE: 28.97 % split 8\n",
      "MSPE: 17.66 % split 9\n",
      "MAPE: 27.72 % split 9\n",
      "MSPE: 16.19 % split 10\n",
      "MAPE: 28.15 % split 10\n"
     ]
    },
    {
     "data": {
      "image/png": "[encoded data removed]",
      "text/plain": [
       "<Figure size 432x288 with 1 Axes>"
      ]
     },
     "metadata": {
      "needs_background": "light"
     },
     "output_type": "display_data"
    }
   ],
   "source": [
    "# The machine learning approach for choosing the most optimal regressors\n",
    "\n",
    "mape_total = np.array([]) # creating an empty array for mape results\n",
    "mspe_total = np.array([]) # creating an empty array for mspe results\n",
    "\n",
    "# error metrics\n",
    "def MAPE(y_true, y_pred): \n",
    "    return np.mean(np.abs( (y_true - y_pred) / y_true) ) * 100\n",
    "\n",
    "def MSPE(y_true, y_pred): \n",
    "    return np.mean(np.power( (y_true - y_pred) / y_true, 2) ) * 100\n",
    "\n",
    "# libraries\n",
    "from random import randint\n",
    "from random import sample\n",
    "import matplotlib.pyplot as plt\n",
    "\n",
    "for i in range(0,11):\n",
    "    print(i) \n",
    "        \n",
    "    num_regressors = (randint(1, len(variables_names)-1)) # selecting the random number of regressors ( their indexes)\n",
    "    indexes_selected_variables = sample(range(0, num_regressors ), num_regressors) # converting the indexes into a list\n",
    "    randomly_selected_regressors = variables_names[indexes_selected_variables] # pulling out the names of the variables by indx\n",
    "    us_house_price = modified_variables.filter(['price']) # price is our Y\n",
    "        \n",
    "    print(randomly_selected_regressors)\n",
    "    \n",
    "    X_df = modified_variables[randomly_selected_regressors] # pulling out the data from the data frame\n",
    "    X = X_df.iloc[:,:].values # converting it into values\n",
    "    Y = us_house_price.values # Y\n",
    "                \n",
    "    for j in range(1,11):\n",
    "        mspe_for_specific_regrssion = np.array([]) # creating an empty list to store mspe results\n",
    "        mape_for_specific_regrssion = np.array([]) # creating an empty list to store mape results\n",
    "                    \n",
    "        X_train, X_test, y_train, y_test = train_test_split(X, Y, test_size=0.2) # train/test split\n",
    "        \n",
    "        # traing/test split for every iteration\n",
    "        regr = linear_model.LinearRegression() \n",
    "        regr.fit(X_train, y_train)\n",
    "        predicted = np.round(regr.predict(X_test),0)\n",
    "            \n",
    "        print(\"MSPE: %.2f\" % MSPE(y_test, predicted),\"%\",\"split\",j)\n",
    "        print(\"MAPE: %.2f\" % MAPE(y_test, predicted),\"%\",\"split\",j)\n",
    "         \n",
    "        # calculating MSPE and MAPE for every iteration\n",
    "        mspe = MSPE(y_test, predicted)\n",
    "        mape = MAPE(y_test, predicted)\n",
    "        \n",
    "        # appending the list with the result of every iteration\n",
    "        mspe_for_specific_regrssion = np.append(mspe_for_specific_regrssion, mspe)\n",
    "        mape_for_specific_regrssion = np.append(mape_for_specific_regrssion, mape)\n",
    "    \n",
    "    # calculating the average result of MAPE and MASPE for each of the splits\n",
    "    mspe_total = np.append(mspe_total, np.mean(mspe_for_specific_regrssion))\n",
    "    mape_total = np.append(mape_total, np.mean(mape_for_specific_regrssion))\n",
    "            \n",
    "    # creating a graph    \n",
    "    bins = np.linspace(min(min(predicted), min(y_test)), max(max(predicted), max(y_test)), 11)\n",
    "            \n",
    "    plt.hist(predicted, bins, alpha=0.5, label='x')\n",
    "    plt.hist(y_test, bins, alpha=0.5, label='y')\n",
    "\n",
    "    plt.show()"
   ]
  },
  {
   "cell_type": "code",
   "execution_count": 26,
   "metadata": {},
   "outputs": [
    {
     "name": "stdout",
     "output_type": "stream",
     "text": [
      "[34.59867891 35.90568923 29.67115937 37.62984454 32.53136402 36.02313564\n",
      " 37.68030126 31.88352388 35.85227113 32.70377053 28.1464198 ]\n",
      "[25.86009202 25.76736419 18.2653587  28.86002522 20.4017608  26.52668992\n",
      " 27.8608779  22.13538079 27.0591951  23.10317793 16.19398434]\n"
     ]
    }
   ],
   "source": [
    "# Orange histogram represents the predicted values\n",
    "# Blue histogram represents the test values\n",
    "\n",
    "print(mape_total)\n",
    "print(mspe_total)\n",
    "\n",
    "# mape & mspe total show the average mean absolute percentage error and mean squared percentage error.\n",
    "\n",
    "# In this case the (10th) iteration is the most optimal as the avg. mape for 10 simulations of \n",
    "\n",
    "# ['sqft_lot', 'city_Small', 'view', 'sqft_above', 'city_Big',\n",
    "#        'sqft_basement', 'floors', 'city_Medium', 'bedrooms', 'condition',\n",
    "#        'waterfront', 'age', 'bathrooms'] was 28.14%% and mspe was 16.19%.\n",
    "\n"
   ]
  },
  {
   "cell_type": "code",
   "execution_count": 27,
   "metadata": {},
   "outputs": [],
   "source": [
    "# Setting the variables for the linear regression according the true machine learning approach\n",
    "\n",
    "ml_house_price = modified_variables.filter(['price'])\n",
    "Y = ml_house_price.values # Y remains unchanged\n"
   ]
  },
  {
   "cell_type": "code",
   "execution_count": 28,
   "metadata": {},
   "outputs": [],
   "source": [
    "# setting our Regressors according to the true ML approach\n",
    "ml_approach = modified_variables.filter(['sqft_lot', 'city_Small', 'view', 'sqft_above', 'city_Big','sqft_basement',\n",
    "'floors', 'city_Medium', 'bedrooms', 'condition','waterfront', 'age', 'bathrooms'])"
   ]
  },
  {
   "cell_type": "code",
   "execution_count": 29,
   "metadata": {},
   "outputs": [],
   "source": [
    "X_mf= ml_approach"
   ]
  },
  {
   "cell_type": "code",
   "execution_count": 30,
   "metadata": {},
   "outputs": [],
   "source": [
    "X = X_mf.iloc[:,:].values"
   ]
  },
  {
   "cell_type": "code",
   "execution_count": 31,
   "metadata": {},
   "outputs": [],
   "source": [
    "X_train, X_test, y_train, y_test = train_test_split(X, Y, test_size=0.2)"
   ]
  },
  {
   "cell_type": "code",
   "execution_count": 32,
   "metadata": {},
   "outputs": [],
   "source": [
    "regr = linear_model.LinearRegression()\n",
    "regr.fit(X_train, y_train)\n",
    "predict_ML = np.round(regr.predict(X_test),0)"
   ]
  },
  {
   "cell_type": "code",
   "execution_count": 33,
   "metadata": {},
   "outputs": [
    {
     "name": "stdout",
     "output_type": "stream",
     "text": [
      "Linear Regression Coefficients\n",
      "                Coefficient\n",
      "sqft_lot           0.072736\n",
      "city_Small    -62056.878434\n",
      "view           14000.325952\n",
      "sqft_above       175.050346\n",
      "city_Big       74448.484782\n",
      "sqft_basement    122.193412\n",
      "floors         19430.591026\n",
      "city_Medium   -12391.606348\n",
      "bedrooms      -20221.579155\n",
      "condition      26086.947939\n",
      "waterfront     60262.873029\n",
      "age              880.081928\n",
      "bathrooms      32291.880151\n"
     ]
    }
   ],
   "source": [
    "lin_reg = LinearRegression()\n",
    "\n",
    "print('Linear Regression Coefficients')\n",
    "lin_reg.fit(X,Y)\n",
    "ml_df = pd.DataFrame(lin_reg.coef_[0], X_mf.columns, columns=['Coefficient'])  \n",
    "print(ml_df)"
   ]
  },
  {
   "cell_type": "code",
   "execution_count": 43,
   "metadata": {},
   "outputs": [],
   "source": [
    "# The results are broadly in line with the previous results"
   ]
  },
  {
   "cell_type": "markdown",
   "metadata": {},
   "source": [
    "# 3. KNN regression"
   ]
  },
  {
   "cell_type": "code",
   "execution_count": 45,
   "metadata": {},
   "outputs": [],
   "source": [
    "from sklearn.model_selection import train_test_split\n",
    "\n",
    "# For same combination as before\n",
    "\n",
    "# setting our Y\n",
    "us_house_price = modified_variables.filter(['price'])\n",
    "\n",
    "# setting our Regressors\n",
    "us_houses4 = modified_variables.filter(['bedrooms','bathrooms','sqft_living','sqft_lot','floors',\n",
    "                                    'waterfront','view','condition','age','yrs_sinceRenovation',\n",
    "                                    'city_Big','city_Medium','city_Small'])\n",
    "\n",
    "# same combination as before\n",
    "X_df= us_houses4\n",
    "\n",
    "X = X_df.iloc[:,:].values\n",
    "Y = us_house_price.values\n",
    "\n",
    "X_train, X_test, y_train, y_test = train_test_split(X, Y, test_size=0.2)\n",
    "\n"
   ]
  },
  {
   "cell_type": "code",
   "execution_count": 46,
   "metadata": {},
   "outputs": [
    {
     "data": {
      "image/png": "[encoded data removed]",
      "text/plain": [
       "<Figure size 432x288 with 1 Axes>"
      ]
     },
     "metadata": {
      "needs_background": "light"
     },
     "output_type": "display_data"
    }
   ],
   "source": [
    "# Looking for an optimal number of KNN neighbours, basing on the error matrix\n",
    "from sklearn.neighbors import KNeighborsRegressor\n",
    "\n",
    "#creating empty lists to store the results\n",
    "k_neighbors = np.arange(1,50)\n",
    "mspe_score =np.empty(len(k_neighbors))\n",
    "mape_score = np.empty(len(k_neighbors))\n",
    "\n",
    "for i,k in enumerate(k_neighbors):\n",
    "    \n",
    "    # number of KNN neighbors\n",
    "    knn = KNeighborsRegressor(n_neighbors=k,p=1) # Manhattan distance\n",
    "    \n",
    "    #fitting the model\n",
    "    knn.fit(X_train, y_train)\n",
    "    output = np.round(knn.predict(X_test),0)\n",
    "    \n",
    "    #error rate ( mspe )\n",
    "    mspe_score[i] = MSPE(y_test, output)\n",
    "    \n",
    "    #error rate ( mape )\n",
    "    mape_score[i] = MAPE(y_test, output)\n",
    "    \n",
    "plt.title('KNN regression with different no. of neighbors')\n",
    "plt.plot(k_neighbors, mspe_score, label='MSPE erorr rate')\n",
    "plt.plot(k_neighbors, mape_score, label='MAPE error rate')\n",
    "plt.legend()\n",
    "plt.xlabel('Number of k_neighbors')\n",
    "plt.ylabel('Error rate')\n",
    "plt.show()"
   ]
  },
  {
   "cell_type": "code",
   "execution_count": 47,
   "metadata": {},
   "outputs": [
    {
     "data": {
      "image/png": "[encoded data removed]",
      "text/plain": [
       "<Figure size 432x288 with 1 Axes>"
      ]
     },
     "metadata": {
      "needs_background": "light"
     },
     "output_type": "display_data"
    }
   ],
   "source": [
    "# Let us verify if the results with using a different distance measure - Euclidean distance ( previously we used Manhattan):\n",
    "\n",
    "# Looking for an optimal number of KNN neighbours, basing on the error matrix\n",
    "\n",
    "#creating empty lists to store the results\n",
    "k_neighbors = np.arange(1,50)\n",
    "mspe_score =np.empty(len(k_neighbors))\n",
    "mape_score = np.empty(len(k_neighbors))\n",
    "\n",
    "for i,k in enumerate(k_neighbors):\n",
    "    \n",
    "    # number of KNN neighbors\n",
    "    knn = KNeighborsRegressor(n_neighbors=k,p=2) # Euclidean distance\n",
    "    \n",
    "    #fitting the model\n",
    "    knn.fit(X_train, y_train)\n",
    "    output = np.round(knn.predict(X_test),0)\n",
    "    \n",
    "    #error rate ( mspe )\n",
    "    mspe_score[i] = MSPE(y_test, output)\n",
    "    \n",
    "    #error rate ( mape )\n",
    "    mape_score[i] = MAPE(y_test, output)\n",
    "    \n",
    "plt.title('KNN regression with different no. of neighbors')\n",
    "plt.plot(k_neighbors, mspe_score, label='MSPE erorr rate')\n",
    "plt.plot(k_neighbors, mape_score, label='MAPE error rate')\n",
    "plt.legend()\n",
    "plt.xlabel('Number of k_neighbors')\n",
    "plt.ylabel('Error rate')\n",
    "plt.show()"
   ]
  },
  {
   "cell_type": "code",
   "execution_count": 48,
   "metadata": {},
   "outputs": [],
   "source": [
    "# According to the above graph with Euclidean distance, the optimal number of k neighbours is aproximately 15."
   ]
  },
  {
   "cell_type": "code",
   "execution_count": 48,
   "metadata": {},
   "outputs": [
    {
     "name": "stdout",
     "output_type": "stream",
     "text": [
      "MSPE 25.719174591635124\n",
      "MAPE 32.48236901983691\n"
     ]
    }
   ],
   "source": [
    "# Running the KNN  algorithm\n",
    "\n",
    "from sklearn.neighbors import KNeighborsRegressor\n",
    "\n",
    "knn = KNeighborsRegressor(n_neighbors=15,p=2)\n",
    "knn.fit(X_train, y_train)\n",
    "outputs = np.round(knn.predict(X_test),0)\n",
    "\n",
    "# Error metrics\n",
    "def MSPE(y_true, y_pred): \n",
    "    return np.mean(np.power( (y_true - y_pred) / y_true, 2) ) * 100\n",
    "\n",
    "def MAPE(y_true, y_pred): \n",
    "    return np.mean(np.abs( (y_true - y_pred) / y_true) ) * 100\n",
    "\n",
    "\n",
    "mspe = MSPE(y_test, outputs)\n",
    "print(\"MSPE\",mspe)\n",
    "\n",
    "mape = MAPE(y_test, outputs)\n",
    "print(\"MAPE\",mape)"
   ]
  },
  {
   "cell_type": "markdown",
   "metadata": {},
   "source": [
    "# 4. Cross Validation"
   ]
  },
  {
   "cell_type": "code",
   "execution_count": 125,
   "metadata": {},
   "outputs": [],
   "source": [
    "# K-fold cross validation\n",
    "\n",
    "#from sklearn.model_selection import KFold\n",
    "from sklearn.model_selection import cross_val_predict\n",
    "\n",
    "lin_reg = LinearRegression()\n",
    "knn = KNeighborsRegressor(n_neighbors=15)\n",
    "\n",
    "Y_pred_linRegr = cross_val_predict(lin_reg, X, Y, cv=10, n_jobs= 8) \n",
    "Y_pred_knn = cross_val_predict(knn,X,Y,cv=15,n_jobs=8)\n"
   ]
  },
  {
   "cell_type": "code",
   "execution_count": 126,
   "metadata": {},
   "outputs": [
    {
     "name": "stdout",
     "output_type": "stream",
     "text": [
      "LinearRegression\n",
      "Mean Absolute Percentage Error= 28.81762415629397\n",
      "Mean Squared Percentage Error=17.965236836870073\n",
      "KNN\n",
      "Mean Absolute Percentage Error= 32.04937207155235\n",
      "Mean Squared Percentage Error=23.062016744301495\n"
     ]
    }
   ],
   "source": [
    "# Kfold cross validation metrics\n",
    "\n",
    "def errorMetrics(y_test,y_pred, name):\n",
    "    print(name)\n",
    "    print(\"Mean Absolute Percentage Error= \"+ str(MAPE(y_test, y_pred)))\n",
    "    print(\"Mean Squared Percentage Error=\" +str(MSPE(y_test, y_pred)))\n",
    "    \n",
    "errorMetrics(Y,Y_pred_linRegr,\"LinearRegression\")\n",
    "errorMetrics(Y,Y_pred_knn,\"KNN\")\n"
   ]
  },
  {
   "cell_type": "code",
   "execution_count": 122,
   "metadata": {},
   "outputs": [
    {
     "name": "stdout",
     "output_type": "stream",
     "text": [
      "[0.51949429 0.46637914 0.50954694 0.49053966 0.2627936 ]\n",
      "lin_reg CV scores, mean:0.4497507250709146\n",
      "[0.38108546 0.3639251  0.39282958 0.38061178 0.2302466 ]\n",
      "knn_cv scores, mean:0.3497397056709011\n"
     ]
    }
   ],
   "source": [
    "# K-fold cross validation\n",
    "from sklearn.model_selection import cross_val_score\n",
    "\n",
    "lin_reg = LinearRegression()\n",
    "knn = KNeighborsRegressor(n_neighbors=15)\n",
    "\n",
    "linReg_cv= cross_val_score(lin_reg, X, Y, cv=5) # running 5 k-fold cv for linear regression\n",
    "print(linReg_cv)\n",
    "print(\"lin_reg CV scores, mean:{}\".format(np.mean(linReg_cv)))\n",
    "\n",
    "knn_cv = cross_val_score(knn,X,Y,cv=5) # running 5 k-fold cv for knn regression\n",
    "print(knn_cv)\n",
    "print(\"knn_cv scores, mean:{}\".format(np.mean(knn_cv)))\n"
   ]
  },
  {
   "cell_type": "markdown",
   "metadata": {},
   "source": [
    "# Final conclusions"
   ]
  },
  {
   "cell_type": "code",
   "execution_count": 127,
   "metadata": {},
   "outputs": [],
   "source": [
    "\n",
    "# Given the above MAPE metric of 28% , MSPE of 18% and R2 score of 45%, for regression, as well as\n",
    "# MAPE metric of 32%, MSPE of 23% and R2 score of 35% for KNN; we can conclude that the error rate for our model is rougly 30%, \n",
    "# This translates to the fact that on average the difference between the values predicted by our model and the real values\n",
    "# is 30%. On the other hand, the R2 metric of approximately 40% , suggests that the model explains 40% of the variance, \n",
    "# which further suggests that the model is underfit.\n",
    "\n",
    "# Overall, the model is quite too general to capture the variability of the data. Having in mind that we have used the\n",
    "# \" true machine learning approach \" , where we have built the loop to find the regressors which would give us the lowest\n",
    "# possible error metrics ,and the fact that we have used an additional algorithm ( KNN regression) which hasn't improved our\n",
    "# scores, we assume that we have exhausted the options with regards to the choice of the algorithm and feature selection.\n",
    "\n",
    "# This model could be possibly improved further with feature engineering. For example the zip code could be explored further;\n",
    "# by investigating the zip codes, we could obtain more information such as: population of the city, racial breakdown, education,\n",
    "# and other information, which could help to improve our model.\n",
    "\n"
   ]
  }
 ],
 "metadata": {
  "kernelspec": {
   "display_name": "Python 3",
   "language": "python",
   "name": "python3"
  },
  "language_info": {
   "codemirror_mode": {
    "name": "ipython",
    "version": 3
   },
   "file_extension": ".py",
   "mimetype": "text/x-python",
   "name": "python",
   "nbconvert_exporter": "python",
   "pygments_lexer": "ipython3",
   "version": "3.7.1"
  }
 },
 "nbformat": 4,
 "nbformat_minor": 2
}
